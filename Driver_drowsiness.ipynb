{
  "cells": [
    {
      "cell_type": "markdown",
      "metadata": {
        "id": "view-in-github",
        "colab_type": "text"
      },
      "source": [
        "<a href=\"https://colab.research.google.com/github/Ais2004/Drowsiness/blob/main/Driver_drowsiness.ipynb\" target=\"_parent\"><img src=\"https://colab.research.google.com/assets/colab-badge.svg\" alt=\"Open In Colab\"/></a>"
      ]
    },
    {
      "cell_type": "code",
      "execution_count": 7,
      "metadata": {
        "colab": {
          "base_uri": "https://localhost:8080/"
        },
        "id": "NKU6UhoQTvpi",
        "outputId": "108533ca-5939-4d24-b313-f48f780ed917"
      },
      "outputs": [
        {
          "output_type": "stream",
          "name": "stdout",
          "text": [
            "Looking in indexes: https://download.pytorch.org/whl/cu118\n",
            "Requirement already satisfied: torch==2.0.1+cu118 in /usr/local/lib/python3.11/dist-packages (2.0.1+cu118)\n",
            "Requirement already satisfied: torchvision==0.15.2+cu118 in /usr/local/lib/python3.11/dist-packages (0.15.2+cu118)\n",
            "Requirement already satisfied: torchaudio==2.0.2 in /usr/local/lib/python3.11/dist-packages (2.0.2+cu118)\n",
            "Requirement already satisfied: filelock in /usr/local/lib/python3.11/dist-packages (from torch==2.0.1+cu118) (3.18.0)\n",
            "Requirement already satisfied: typing-extensions in /usr/local/lib/python3.11/dist-packages (from torch==2.0.1+cu118) (4.13.0)\n",
            "Requirement already satisfied: sympy in /usr/local/lib/python3.11/dist-packages (from torch==2.0.1+cu118) (1.13.1)\n",
            "Requirement already satisfied: networkx in /usr/local/lib/python3.11/dist-packages (from torch==2.0.1+cu118) (3.4.2)\n",
            "Requirement already satisfied: jinja2 in /usr/local/lib/python3.11/dist-packages (from torch==2.0.1+cu118) (3.1.6)\n",
            "Requirement already satisfied: triton==2.0.0 in /usr/local/lib/python3.11/dist-packages (from torch==2.0.1+cu118) (2.0.0)\n",
            "Requirement already satisfied: numpy in /usr/local/lib/python3.11/dist-packages (from torchvision==0.15.2+cu118) (1.26.4)\n",
            "Requirement already satisfied: requests in /usr/local/lib/python3.11/dist-packages (from torchvision==0.15.2+cu118) (2.32.3)\n",
            "Requirement already satisfied: pillow!=8.3.*,>=5.3.0 in /usr/local/lib/python3.11/dist-packages (from torchvision==0.15.2+cu118) (11.1.0)\n",
            "Requirement already satisfied: cmake in /usr/local/lib/python3.11/dist-packages (from triton==2.0.0->torch==2.0.1+cu118) (3.31.6)\n",
            "Requirement already satisfied: lit in /usr/local/lib/python3.11/dist-packages (from triton==2.0.0->torch==2.0.1+cu118) (15.0.7)\n",
            "Requirement already satisfied: MarkupSafe>=2.0 in /usr/local/lib/python3.11/dist-packages (from jinja2->torch==2.0.1+cu118) (3.0.2)\n",
            "Requirement already satisfied: charset-normalizer<4,>=2 in /usr/local/lib/python3.11/dist-packages (from requests->torchvision==0.15.2+cu118) (3.4.1)\n",
            "Requirement already satisfied: idna<4,>=2.5 in /usr/local/lib/python3.11/dist-packages (from requests->torchvision==0.15.2+cu118) (3.10)\n",
            "Requirement already satisfied: urllib3<3,>=1.21.1 in /usr/local/lib/python3.11/dist-packages (from requests->torchvision==0.15.2+cu118) (2.3.0)\n",
            "Requirement already satisfied: certifi>=2017.4.17 in /usr/local/lib/python3.11/dist-packages (from requests->torchvision==0.15.2+cu118) (2025.1.31)\n",
            "Requirement already satisfied: mpmath<1.4,>=1.1.0 in /usr/local/lib/python3.11/dist-packages (from sympy->torch==2.0.1+cu118) (1.3.0)\n"
          ]
        }
      ],
      "source": [
        "!pip install torch==2.0.1+cu118 torchvision==0.15.2+cu118 torchaudio==2.0.2 --index-url https://download.pytorch.org/whl/cu118\n"
      ]
    },
    {
      "cell_type": "code",
      "execution_count": 1,
      "metadata": {
        "colab": {
          "base_uri": "https://localhost:8080/"
        },
        "id": "bWZah_HtXwjU",
        "outputId": "88bdfbb4-3949-4f6b-defb-e0ad88658458"
      },
      "outputs": [
        {
          "output_type": "stream",
          "name": "stdout",
          "text": [
            "Cloning into 'yolov5'...\n",
            "remote: Enumerating objects: 17360, done.\u001b[K\n",
            "remote: Counting objects: 100% (52/52), done.\u001b[K\n",
            "remote: Compressing objects: 100% (34/34), done.\u001b[K\n",
            "remote: Total 17360 (delta 36), reused 18 (delta 18), pack-reused 17308 (from 2)\u001b[K\n",
            "Receiving objects: 100% (17360/17360), 16.25 MiB | 14.38 MiB/s, done.\n",
            "Resolving deltas: 100% (11901/11901), done.\n"
          ]
        }
      ],
      "source": [
        "!rm -rf yolov5\n",
        "!git clone https://github.com/ultralytics/yolov5\n"
      ]
    },
    {
      "cell_type": "code",
      "execution_count": 2,
      "metadata": {
        "colab": {
          "base_uri": "https://localhost:8080/"
        },
        "id": "HOkTm3YAYU-U",
        "outputId": "cb62030e-5aea-4dc3-c62f-88bd729a6ae7"
      },
      "outputs": [
        {
          "output_type": "stream",
          "name": "stdout",
          "text": [
            "Requirement already satisfied: gitpython>=3.1.30 in /usr/local/lib/python3.11/dist-packages (from -r /content/yolov5/requirements.txt (line 5)) (3.1.44)\n",
            "Requirement already satisfied: matplotlib>=3.3 in /usr/local/lib/python3.11/dist-packages (from -r /content/yolov5/requirements.txt (line 6)) (3.10.0)\n",
            "Requirement already satisfied: numpy>=1.23.5 in /usr/local/lib/python3.11/dist-packages (from -r /content/yolov5/requirements.txt (line 7)) (1.26.4)\n",
            "Requirement already satisfied: opencv-python>=4.1.1 in /usr/local/lib/python3.11/dist-packages (from -r /content/yolov5/requirements.txt (line 8)) (4.11.0.86)\n",
            "Requirement already satisfied: pillow>=10.3.0 in /usr/local/lib/python3.11/dist-packages (from -r /content/yolov5/requirements.txt (line 9)) (11.1.0)\n",
            "Requirement already satisfied: psutil in /usr/local/lib/python3.11/dist-packages (from -r /content/yolov5/requirements.txt (line 10)) (5.9.5)\n",
            "Requirement already satisfied: PyYAML>=5.3.1 in /usr/local/lib/python3.11/dist-packages (from -r /content/yolov5/requirements.txt (line 11)) (6.0.2)\n",
            "Requirement already satisfied: requests>=2.32.2 in /usr/local/lib/python3.11/dist-packages (from -r /content/yolov5/requirements.txt (line 12)) (2.32.3)\n",
            "Requirement already satisfied: scipy>=1.4.1 in /usr/local/lib/python3.11/dist-packages (from -r /content/yolov5/requirements.txt (line 13)) (1.14.1)\n",
            "Collecting thop>=0.1.1 (from -r /content/yolov5/requirements.txt (line 14))\n",
            "  Downloading thop-0.1.1.post2209072238-py3-none-any.whl.metadata (2.7 kB)\n",
            "Requirement already satisfied: torch>=1.8.0 in /usr/local/lib/python3.11/dist-packages (from -r /content/yolov5/requirements.txt (line 15)) (2.0.1+cu118)\n",
            "Requirement already satisfied: torchvision>=0.9.0 in /usr/local/lib/python3.11/dist-packages (from -r /content/yolov5/requirements.txt (line 16)) (0.15.2+cu118)\n",
            "Requirement already satisfied: tqdm>=4.66.3 in /usr/local/lib/python3.11/dist-packages (from -r /content/yolov5/requirements.txt (line 17)) (4.67.1)\n",
            "Requirement already satisfied: ultralytics>=8.2.34 in /usr/local/lib/python3.11/dist-packages (from -r /content/yolov5/requirements.txt (line 18)) (8.3.102)\n",
            "Requirement already satisfied: pandas>=1.1.4 in /usr/local/lib/python3.11/dist-packages (from -r /content/yolov5/requirements.txt (line 27)) (2.2.2)\n",
            "Requirement already satisfied: seaborn>=0.11.0 in /usr/local/lib/python3.11/dist-packages (from -r /content/yolov5/requirements.txt (line 28)) (0.13.2)\n",
            "Requirement already satisfied: setuptools>=70.0.0 in /usr/local/lib/python3.11/dist-packages (from -r /content/yolov5/requirements.txt (line 42)) (75.2.0)\n",
            "Requirement already satisfied: gitdb<5,>=4.0.1 in /usr/local/lib/python3.11/dist-packages (from gitpython>=3.1.30->-r /content/yolov5/requirements.txt (line 5)) (4.0.12)\n",
            "Requirement already satisfied: contourpy>=1.0.1 in /usr/local/lib/python3.11/dist-packages (from matplotlib>=3.3->-r /content/yolov5/requirements.txt (line 6)) (1.3.1)\n",
            "Requirement already satisfied: cycler>=0.10 in /usr/local/lib/python3.11/dist-packages (from matplotlib>=3.3->-r /content/yolov5/requirements.txt (line 6)) (0.12.1)\n",
            "Requirement already satisfied: fonttools>=4.22.0 in /usr/local/lib/python3.11/dist-packages (from matplotlib>=3.3->-r /content/yolov5/requirements.txt (line 6)) (4.56.0)\n",
            "Requirement already satisfied: kiwisolver>=1.3.1 in /usr/local/lib/python3.11/dist-packages (from matplotlib>=3.3->-r /content/yolov5/requirements.txt (line 6)) (1.4.8)\n",
            "Requirement already satisfied: packaging>=20.0 in /usr/local/lib/python3.11/dist-packages (from matplotlib>=3.3->-r /content/yolov5/requirements.txt (line 6)) (24.2)\n",
            "Requirement already satisfied: pyparsing>=2.3.1 in /usr/local/lib/python3.11/dist-packages (from matplotlib>=3.3->-r /content/yolov5/requirements.txt (line 6)) (3.2.3)\n",
            "Requirement already satisfied: python-dateutil>=2.7 in /usr/local/lib/python3.11/dist-packages (from matplotlib>=3.3->-r /content/yolov5/requirements.txt (line 6)) (2.8.2)\n",
            "Requirement already satisfied: charset-normalizer<4,>=2 in /usr/local/lib/python3.11/dist-packages (from requests>=2.32.2->-r /content/yolov5/requirements.txt (line 12)) (3.4.1)\n",
            "Requirement already satisfied: idna<4,>=2.5 in /usr/local/lib/python3.11/dist-packages (from requests>=2.32.2->-r /content/yolov5/requirements.txt (line 12)) (3.10)\n",
            "Requirement already satisfied: urllib3<3,>=1.21.1 in /usr/local/lib/python3.11/dist-packages (from requests>=2.32.2->-r /content/yolov5/requirements.txt (line 12)) (2.3.0)\n",
            "Requirement already satisfied: certifi>=2017.4.17 in /usr/local/lib/python3.11/dist-packages (from requests>=2.32.2->-r /content/yolov5/requirements.txt (line 12)) (2025.1.31)\n",
            "Requirement already satisfied: filelock in /usr/local/lib/python3.11/dist-packages (from torch>=1.8.0->-r /content/yolov5/requirements.txt (line 15)) (3.18.0)\n",
            "Requirement already satisfied: typing-extensions in /usr/local/lib/python3.11/dist-packages (from torch>=1.8.0->-r /content/yolov5/requirements.txt (line 15)) (4.13.0)\n",
            "Requirement already satisfied: sympy in /usr/local/lib/python3.11/dist-packages (from torch>=1.8.0->-r /content/yolov5/requirements.txt (line 15)) (1.13.1)\n",
            "Requirement already satisfied: networkx in /usr/local/lib/python3.11/dist-packages (from torch>=1.8.0->-r /content/yolov5/requirements.txt (line 15)) (3.4.2)\n",
            "Requirement already satisfied: jinja2 in /usr/local/lib/python3.11/dist-packages (from torch>=1.8.0->-r /content/yolov5/requirements.txt (line 15)) (3.1.6)\n",
            "Requirement already satisfied: triton==2.0.0 in /usr/local/lib/python3.11/dist-packages (from torch>=1.8.0->-r /content/yolov5/requirements.txt (line 15)) (2.0.0)\n",
            "Requirement already satisfied: cmake in /usr/local/lib/python3.11/dist-packages (from triton==2.0.0->torch>=1.8.0->-r /content/yolov5/requirements.txt (line 15)) (3.31.6)\n",
            "Requirement already satisfied: lit in /usr/local/lib/python3.11/dist-packages (from triton==2.0.0->torch>=1.8.0->-r /content/yolov5/requirements.txt (line 15)) (15.0.7)\n",
            "Requirement already satisfied: py-cpuinfo in /usr/local/lib/python3.11/dist-packages (from ultralytics>=8.2.34->-r /content/yolov5/requirements.txt (line 18)) (9.0.0)\n",
            "Requirement already satisfied: ultralytics-thop>=2.0.0 in /usr/local/lib/python3.11/dist-packages (from ultralytics>=8.2.34->-r /content/yolov5/requirements.txt (line 18)) (2.0.14)\n",
            "Requirement already satisfied: pytz>=2020.1 in /usr/local/lib/python3.11/dist-packages (from pandas>=1.1.4->-r /content/yolov5/requirements.txt (line 27)) (2025.2)\n",
            "Requirement already satisfied: tzdata>=2022.7 in /usr/local/lib/python3.11/dist-packages (from pandas>=1.1.4->-r /content/yolov5/requirements.txt (line 27)) (2025.2)\n",
            "Requirement already satisfied: smmap<6,>=3.0.1 in /usr/local/lib/python3.11/dist-packages (from gitdb<5,>=4.0.1->gitpython>=3.1.30->-r /content/yolov5/requirements.txt (line 5)) (5.0.2)\n",
            "Requirement already satisfied: six>=1.5 in /usr/local/lib/python3.11/dist-packages (from python-dateutil>=2.7->matplotlib>=3.3->-r /content/yolov5/requirements.txt (line 6)) (1.17.0)\n",
            "Requirement already satisfied: MarkupSafe>=2.0 in /usr/local/lib/python3.11/dist-packages (from jinja2->torch>=1.8.0->-r /content/yolov5/requirements.txt (line 15)) (3.0.2)\n",
            "Requirement already satisfied: mpmath<1.4,>=1.1.0 in /usr/local/lib/python3.11/dist-packages (from sympy->torch>=1.8.0->-r /content/yolov5/requirements.txt (line 15)) (1.3.0)\n",
            "Downloading thop-0.1.1.post2209072238-py3-none-any.whl (15 kB)\n",
            "Installing collected packages: thop\n",
            "Successfully installed thop-0.1.1.post2209072238\n"
          ]
        }
      ],
      "source": [
        "!pip install -r /content/yolov5/requirements.txt\n"
      ]
    },
    {
      "cell_type": "code",
      "execution_count": 3,
      "metadata": {
        "id": "0kwq6o9xYiof",
        "colab": {
          "base_uri": "https://localhost:8080/"
        },
        "outputId": "3f2d5df5-68d9-436b-b7e1-cfcbc962f074"
      },
      "outputs": [
        {
          "output_type": "stream",
          "name": "stderr",
          "text": [
            "Using cache found in /root/.cache/torch/hub/ultralytics_yolov5_master\n",
            "YOLOv5 🚀 2025-4-5 Python-3.11.11 torch-2.0.1+cu118 CPU\n",
            "\n",
            "Fusing layers... \n",
            "YOLOv5s summary: 213 layers, 7225885 parameters, 0 gradients\n",
            "Adding AutoShape... \n"
          ]
        }
      ],
      "source": [
        "import cv2\n",
        "import numpy as np\n",
        "import torch\n",
        "import time\n",
        "from scipy.spatial import distance as dist\n",
        "from IPython.display import display, clear_output\n",
        "from matplotlib import pyplot as plt\n",
        "model = torch.hub.load('ultralytics/yolov5', 'yolov5s')\n"
      ]
    },
    {
      "cell_type": "code",
      "source": [
        "def eye_aspect_ratio(eye):\n",
        "    A = dist.euclidean(eye[1], eye[5])\n",
        "    B = dist.euclidean(eye[2], eye[4])\n",
        "    C = dist.euclidean(eye[0], eye[3])\n",
        "    ear = (A + B) / (2.0 * C)\n",
        "    return ear\n"
      ],
      "metadata": {
        "id": "yHAMWjnPaeuG"
      },
      "execution_count": 4,
      "outputs": []
    },
    {
      "cell_type": "code",
      "source": [
        "# 📤 Upload the photo\n",
        "from google.colab import files\n",
        "uploaded = files.upload()\n"
      ],
      "metadata": {
        "colab": {
          "base_uri": "https://localhost:8080/",
          "height": 73
        },
        "id": "9iTDEXbOoeUL",
        "outputId": "fcf255fd-a08c-4b29-af7d-6478ad4b6161"
      },
      "execution_count": 23,
      "outputs": [
        {
          "output_type": "display_data",
          "data": {
            "text/plain": [
              "<IPython.core.display.HTML object>"
            ],
            "text/html": [
              "\n",
              "     <input type=\"file\" id=\"files-56223fb0-c84e-4280-8bdf-0b516ca50759\" name=\"files[]\" multiple disabled\n",
              "        style=\"border:none\" />\n",
              "     <output id=\"result-56223fb0-c84e-4280-8bdf-0b516ca50759\">\n",
              "      Upload widget is only available when the cell has been executed in the\n",
              "      current browser session. Please rerun this cell to enable.\n",
              "      </output>\n",
              "      <script>// Copyright 2017 Google LLC\n",
              "//\n",
              "// Licensed under the Apache License, Version 2.0 (the \"License\");\n",
              "// you may not use this file except in compliance with the License.\n",
              "// You may obtain a copy of the License at\n",
              "//\n",
              "//      http://www.apache.org/licenses/LICENSE-2.0\n",
              "//\n",
              "// Unless required by applicable law or agreed to in writing, software\n",
              "// distributed under the License is distributed on an \"AS IS\" BASIS,\n",
              "// WITHOUT WARRANTIES OR CONDITIONS OF ANY KIND, either express or implied.\n",
              "// See the License for the specific language governing permissions and\n",
              "// limitations under the License.\n",
              "\n",
              "/**\n",
              " * @fileoverview Helpers for google.colab Python module.\n",
              " */\n",
              "(function(scope) {\n",
              "function span(text, styleAttributes = {}) {\n",
              "  const element = document.createElement('span');\n",
              "  element.textContent = text;\n",
              "  for (const key of Object.keys(styleAttributes)) {\n",
              "    element.style[key] = styleAttributes[key];\n",
              "  }\n",
              "  return element;\n",
              "}\n",
              "\n",
              "// Max number of bytes which will be uploaded at a time.\n",
              "const MAX_PAYLOAD_SIZE = 100 * 1024;\n",
              "\n",
              "function _uploadFiles(inputId, outputId) {\n",
              "  const steps = uploadFilesStep(inputId, outputId);\n",
              "  const outputElement = document.getElementById(outputId);\n",
              "  // Cache steps on the outputElement to make it available for the next call\n",
              "  // to uploadFilesContinue from Python.\n",
              "  outputElement.steps = steps;\n",
              "\n",
              "  return _uploadFilesContinue(outputId);\n",
              "}\n",
              "\n",
              "// This is roughly an async generator (not supported in the browser yet),\n",
              "// where there are multiple asynchronous steps and the Python side is going\n",
              "// to poll for completion of each step.\n",
              "// This uses a Promise to block the python side on completion of each step,\n",
              "// then passes the result of the previous step as the input to the next step.\n",
              "function _uploadFilesContinue(outputId) {\n",
              "  const outputElement = document.getElementById(outputId);\n",
              "  const steps = outputElement.steps;\n",
              "\n",
              "  const next = steps.next(outputElement.lastPromiseValue);\n",
              "  return Promise.resolve(next.value.promise).then((value) => {\n",
              "    // Cache the last promise value to make it available to the next\n",
              "    // step of the generator.\n",
              "    outputElement.lastPromiseValue = value;\n",
              "    return next.value.response;\n",
              "  });\n",
              "}\n",
              "\n",
              "/**\n",
              " * Generator function which is called between each async step of the upload\n",
              " * process.\n",
              " * @param {string} inputId Element ID of the input file picker element.\n",
              " * @param {string} outputId Element ID of the output display.\n",
              " * @return {!Iterable<!Object>} Iterable of next steps.\n",
              " */\n",
              "function* uploadFilesStep(inputId, outputId) {\n",
              "  const inputElement = document.getElementById(inputId);\n",
              "  inputElement.disabled = false;\n",
              "\n",
              "  const outputElement = document.getElementById(outputId);\n",
              "  outputElement.innerHTML = '';\n",
              "\n",
              "  const pickedPromise = new Promise((resolve) => {\n",
              "    inputElement.addEventListener('change', (e) => {\n",
              "      resolve(e.target.files);\n",
              "    });\n",
              "  });\n",
              "\n",
              "  const cancel = document.createElement('button');\n",
              "  inputElement.parentElement.appendChild(cancel);\n",
              "  cancel.textContent = 'Cancel upload';\n",
              "  const cancelPromise = new Promise((resolve) => {\n",
              "    cancel.onclick = () => {\n",
              "      resolve(null);\n",
              "    };\n",
              "  });\n",
              "\n",
              "  // Wait for the user to pick the files.\n",
              "  const files = yield {\n",
              "    promise: Promise.race([pickedPromise, cancelPromise]),\n",
              "    response: {\n",
              "      action: 'starting',\n",
              "    }\n",
              "  };\n",
              "\n",
              "  cancel.remove();\n",
              "\n",
              "  // Disable the input element since further picks are not allowed.\n",
              "  inputElement.disabled = true;\n",
              "\n",
              "  if (!files) {\n",
              "    return {\n",
              "      response: {\n",
              "        action: 'complete',\n",
              "      }\n",
              "    };\n",
              "  }\n",
              "\n",
              "  for (const file of files) {\n",
              "    const li = document.createElement('li');\n",
              "    li.append(span(file.name, {fontWeight: 'bold'}));\n",
              "    li.append(span(\n",
              "        `(${file.type || 'n/a'}) - ${file.size} bytes, ` +\n",
              "        `last modified: ${\n",
              "            file.lastModifiedDate ? file.lastModifiedDate.toLocaleDateString() :\n",
              "                                    'n/a'} - `));\n",
              "    const percent = span('0% done');\n",
              "    li.appendChild(percent);\n",
              "\n",
              "    outputElement.appendChild(li);\n",
              "\n",
              "    const fileDataPromise = new Promise((resolve) => {\n",
              "      const reader = new FileReader();\n",
              "      reader.onload = (e) => {\n",
              "        resolve(e.target.result);\n",
              "      };\n",
              "      reader.readAsArrayBuffer(file);\n",
              "    });\n",
              "    // Wait for the data to be ready.\n",
              "    let fileData = yield {\n",
              "      promise: fileDataPromise,\n",
              "      response: {\n",
              "        action: 'continue',\n",
              "      }\n",
              "    };\n",
              "\n",
              "    // Use a chunked sending to avoid message size limits. See b/62115660.\n",
              "    let position = 0;\n",
              "    do {\n",
              "      const length = Math.min(fileData.byteLength - position, MAX_PAYLOAD_SIZE);\n",
              "      const chunk = new Uint8Array(fileData, position, length);\n",
              "      position += length;\n",
              "\n",
              "      const base64 = btoa(String.fromCharCode.apply(null, chunk));\n",
              "      yield {\n",
              "        response: {\n",
              "          action: 'append',\n",
              "          file: file.name,\n",
              "          data: base64,\n",
              "        },\n",
              "      };\n",
              "\n",
              "      let percentDone = fileData.byteLength === 0 ?\n",
              "          100 :\n",
              "          Math.round((position / fileData.byteLength) * 100);\n",
              "      percent.textContent = `${percentDone}% done`;\n",
              "\n",
              "    } while (position < fileData.byteLength);\n",
              "  }\n",
              "\n",
              "  // All done.\n",
              "  yield {\n",
              "    response: {\n",
              "      action: 'complete',\n",
              "    }\n",
              "  };\n",
              "}\n",
              "\n",
              "scope.google = scope.google || {};\n",
              "scope.google.colab = scope.google.colab || {};\n",
              "scope.google.colab._files = {\n",
              "  _uploadFiles,\n",
              "  _uploadFilesContinue,\n",
              "};\n",
              "})(self);\n",
              "</script> "
            ]
          },
          "metadata": {}
        },
        {
          "output_type": "stream",
          "name": "stdout",
          "text": [
            "Saving download (4).jpg to download (4).jpg\n"
          ]
        }
      ]
    },
    {
      "cell_type": "code",
      "source": [
        "# 🖼️ Read and display the uploaded image\n",
        "import cv2\n",
        "from matplotlib import pyplot as plt\n",
        "\n",
        "# Check uploaded\n",
        "print(\"Uploaded:\", uploaded)\n",
        "\n",
        "# Get the uploaded file name\n",
        "image_path = list(uploaded.keys())[0]\n",
        "\n",
        "# Read the image using OpenCV\n",
        "img = cv2.imread(image_path)\n",
        "if img is None:\n",
        "    print(\"❌ Failed to load image. Check filename or try re-uploading.\")\n",
        "else:\n",
        "    # Convert BGR to RGB\n",
        "    img_rgb = cv2.cvtColor(img, cv2.COLOR_BGR2RGB)\n",
        "\n",
        "    # Display the image\n",
        "    plt.figure(figsize=(6,6))\n",
        "    plt.imshow(img_rgb)\n",
        "    plt.axis('off')\n",
        "    plt.title(\"Uploaded Image\")\n",
        "    plt.show()\n"
      ],
      "metadata": {
        "colab": {
          "base_uri": "https://localhost:8080/"
        },
        "id": "2iObfEV5o9QB",
        "outputId": "dc8c34dd-432a-4ec1-fc39-06283a017c44"
      },
      "execution_count": 24,
      "outputs": [
        {
          "output_type": "stream",
          "name": "stdout",
          "text": [
            "Uploaded: {'download (4).jpg': b'\\xff\\xd8\\xff\\xe0\\x00\\x10JFIF\\x00\\x01\\x01\\x00\\x00\\x01\\x00\\x01\\x00\\x00\\xff\\xdb\\x00\\x84\\x00\\t\\x06\\x07\\x0f\\x0f\\x0f\\x10\\r\\x0f\\x10\\x0f\\x0f\\x0f\\x0f\\x0f\\x0f\\r\\x0e\\x0f\\x0f\\r\\x0f\\r\\x10\\x0f\\x10\\x15\\x11\\x16\\x17\\x15\\x15\\x16\\x16\\x18\\x1d( \\x18\\x1d%\\x1d\\x15\\x15!1!%)+...\\x17\\x1f383,7(-.+\\x01\\n\\n\\n\\x0e\\r\\x0e\\x17\\x10\\x10\\x17-\\x1f\\x1e%----+-----------+---------------------+-----------\\xff\\xc0\\x00\\x11\\x08\\x00\\xb7\\x01\\x13\\x03\\x01\\x11\\x00\\x02\\x11\\x01\\x03\\x11\\x01\\xff\\xc4\\x00\\x1c\\x00\\x00\\x02\\x03\\x01\\x01\\x01\\x01\\x00\\x00\\x00\\x00\\x00\\x00\\x00\\x00\\x00\\x00\\x01\\x02\\x05\\x06\\x04\\x03\\x07\\x08\\xff\\xc4\\x00>\\x10\\x00\\x01\\x04\\x00\\x04\\x03\\x06\\x02\\x07\\x06\\x05\\x05\\x00\\x00\\x00\\x00\\x01\\x00\\x02\\x03\\x11\\x04\\x12!1\\x05AQ\\x06\\x13\"aq\\x812\\x91\\x07\\x14B\\xa1\\xb1\\xc1\\xd1#Rbr\\xe1\\xf03Cs\\x82\\xa2\\x15\\x16\\x17\\x92\\xb2\\xff\\xc4\\x00\\x1b\\x01\\x01\\x01\\x00\\x03\\x01\\x01\\x01\\x00\\x00\\x00\\x00\\x00\\x00\\x00\\x00\\x00\\x00\\x01\\x02\\x03\\x04\\x05\\x06\\x07\\xff\\xc4\\x006\\x11\\x01\\x00\\x02\\x02\\x00\\x04\\x03\\x04\\n\\x01\\x04\\x03\\x01\\x00\\x00\\x00\\x00\\x01\\x02\\x03\\x11\\x04\\x12!1\\x05AQ\\x13a\\x91\\xc1\\x06\\x14\"2q\\x81\\xa1\\xb1\\xd1\\xf0B#Rb\\xe1Cr\\xf1$\\xff\\xda\\x00\\x0c\\x03\\x01\\x00\\x02\\x11\\x03\\x11\\x00?\\x00\\xd74/M\\xf3\\xefF\\x84W\\xa0Qt\\x90QR\\x08\\xa6\\x81\\xa8\\xa6\\x80@\\xc2\\x06\\x8ah\\x1a\\x81R\\xa0\\x08\\x18QR@\\x90\\x01\\x04\\xc2\\t\\x85\\x19BAE\\x08\\x00\\x82A\\x16\\r@ \\x100\\x8aj\\x01\\x14\\xd0$\\tT$\\x14-[\\xdcoF\\xa8\\xaf@\\xa3(4\\x0e\\xd1L\\x14\\x05\\xa0\\x92\\x80@\\xd1L\\x14\\x12\\x08\\xa6\\xa0\\x10\\x08\\x0b\\xe6\\x83\\x1f\\xda\\x9e\\xde\\xc5\\x84y\\xc3\\xc2\\xde\\xfep\\xd0\\\\n\\xa2\\x8e\\xf6\\x04\\xf3>Ak\\xbeH\\xab\\xa7\\x0e\\t\\xc9\\xd7z\\x86O\\xff\\x00\\'c/Q\\x86\\xae\\x827\\xe9\\xff\\x00%\\xa3\\xdb\\xdb\\xd1\\xd5\\xf5:z\\xca\\xd7\\x86\\xfd&\\x92Cf\\x85\\xba\\xd5\\x16\\xb8\\xb2\\xfev\\x14\\xfa\\xcc\\xc7xY\\xe0+?v\\xcd\\xdf\\x07\\xe3\\x10\\xe2\\x9aLd\\x876\\xb3\\xc6\\xf1\\x95\\xec\\xbd\\xacs\\x1ecE\\xd1L\\x95\\xbcn\\x1cYp\\xdf\\x14\\xea\\xd0\\xb3\\x0b6\\xb4\\x94P\\x80A \\x8a\\x10\\n\\x06\\x80\\x08\\xa9\\x04\\x02\\x8a\\x10\\x08\\x12\\xa8\\x10P\\xb5orC\\xd0(\\xa9Z\\x07j(\\xb4\\x0e\\xd0\\xd8\\xb4\\x12\\xb4P\\n\\x06\\xa0a\\x15 PJ\\xd4SA\\x19\\x1e\\x1a\\x0b\\x9cCZ\\xd0I$\\xd0\\x00 \\xf8\\xf7n{f\\xecK\\x9d\\x0cO1\\xe1ZKlh\\xe9\\xcf_O%\\xcb\\x93.\\xfaGg\\xa7\\xc3\\xf0\\xdc\\xbfj\\xdd\\xd9\\xde\\x1d\\xd9lV%\\xb9\\xe1\\x12\\x06\\xee3xZG\\xe6\\xb9m\\x96#\\xbb\\xd0\\xaf\\x0f3\\x1b\\x85\\xb1\\xec6,\\r\\xb5\\xf2>\\x13\\xecy\\xad~\\xda\\x1b~\\xaf.X\\xb8C\\xd9\\x99\\xaehd\\x8c$\\x11G+\\xbc\\x9c\\xd3\\xb7\\xf7I7\\x89NI\\x85\\xc7\\x01\\xe2\\xcf\\x88\\x89b\\xbe\\xf2\\x13O\\x88\\x92Ho\\xda\\x00\\xf3i\\x1c\\xbd\\xd5\\xa5\\xe6\\x96\\xdc0\\xc9\\x8e\\xb9+5\\x97\\xd68\\x1f\\x15\\x8b\\x19\\x0bg\\x88\\xe8tsy\\xb1\\xe3v\\x9f\\xef\\x9a\\xf4\\xe9x\\xbcn\\x1e\\x16LS\\x8e\\xdc\\xb2\\xb1\\x0b&\\x06\\x81\\xa0\\x10\\x08\\xa6\\x80@\\xd4\\r\\x14 aE4\\x08\\xa2\\x12\\xa2\\x85\\xab{\\x910\\xa2\\x9d\\xa0v\\x80\\xb4\\x05\\xa0v\\x81\\x82\\x86\\xcc\\x15\\x14\\xc1EH\\x14\\x0c\\x15\\x150P0\\xa2\\xb0_J\\x9cm\\xd1\\xc4\\xcc\\x14N\\xa7\\xccGxG&\\x93@~kF{\\xea5\\x0e\\xde\\x0f\\x175\\xb9\\xa7\\xc9\\xf3\\xfe\\xc7pO\\xad\\xe2\\x1f3\\xc5\\xc5\\x11\\x01\\xa0\\xf3<\\xbe\\xea\\xf9\\xae\\x0c\\x97\\xd4j\\x1e\\xce\\x0c\\\\\\xd3\\xb9}\\xaf\\x84a\\xdb\\x94\\x006\\x15T\\xb9\\x1d\\xd3:^2\\x06\\x91\\x94\\x80oE\\x96\\x9a\\xa6\\xd2\\xc9v\\xef\\xb3\\xf5\\t\\x9e\\x16g,\\x16@\\xd1\\xe5\\x9c\\xdb|\\xfa\\x8e\\x94\\xae\\xb9d\\xe6\\xe7\\x8f{\\xe6\\x91Ao\\xef\\xd8\\xe3THuj\\xe8\\xefC\\xea\\x1d\\xcb\\xf9\\xb9-\\x9bi\\xd3I\\xf4s\\x8f1\\xf1\\x07\\xe1\\xef+q1\\xc9\\x99\\x9c\\x84\\xf1\\x1b\\xd3\\xfd\\xa5\\xc7\\xd0\\x85\\xd7\\xc2\\xcc\\xf3i\\xe7q\\xf5\\x89\\xa4O\\xa3\\xeaav\\xbc\\xb84\\x02\\x01\\x01h\\x18E5\\x03@\"\\x9a\\x06\\x14\\r\\x14\\x90%Q@\\x16\\xf7\\x1a`\\xa2\\x8b@Z\\x02\\xd0+@\\xed\\r\\x98($\\n\\x8a`\\xa0\\x90*\\x1bH\\x14d\\x90**@\\xa0\\xf8\\xd7\\xd2\\x94\\xe3\\xeb\\x99\\xec\\x12\\xdb\\x04^\\xde\\x1ah\\\\\\\\G\\xdez\\xbc\\x0fLs2\\xb0\\xfa>pf\\t\\x8fc\\x1d#\\xa4|\\x87+\\x06\\xa6\\x9d\\x94\\x92v\\x03O\\xbdp\\xe4\\x8d\\xda^\\xc6\\x0bj\\x91\\xa6\\xdf\\x85\\xf6\\x85\\xadp\\x8d\\xf8y\\xa3\\xbf\\xb4]\\x13\\xda+\\xf9J\\xd71\\x11\\xe6\\xd9\\xb9\\x9e\\xf0\\xd3\\x8cP\\x0c\\xef@.\\x15z\\x0b\\xb56r\\xf9*\\x1b\\xdaw\\xca{\\xaf\\xaad\\x04\\xe5\\x06lLl\\xcd\\xca\\x85\\x03\\xaa\\xcaf\\xb3\\x0c\"\\x96\\x89\\xdb\\xe4\\xbcx\\x9c&3\\x19\\x87\\x01\\xcdgz$\\x8d\\x8e\\x14X$`.\\x1d*\\xdev\\xd3@\\xb3\\x88\\xe9\\x0c-=e\\xef\\xd8<d\\x7f]\\xef\\xa5i\\xb8\\xe4\\x8d\\xc3R\\xd3\\xfbL\\xf1f\\xf3\\x00d\\'\\xd1o\\xc7nK\\xd7\\xe0\\xe3\\xe2)\\xed1[\\xe2\\xfbX+\\xd2x\\x86\\xa2\\x84\\x02\\xa0Q\\x0c\"\\x9a)\\x82\\x81\\xa8\\x04\\x0c\"\\x9a\\x01\\x02A\\x9f\\x0b{\\x8c\\xed\\x01h\\x0b@\\xad\\x02\\xcc\\xa83\"\\x18r\\x8a\\x98r\\t\\x02\\x8b\\xb4\\x81QS\\n\\t\\x82\\x8c\\x9e\\x18\\xf9Kcq\\x17{\\n4O\\xbf/^J\\x0f\\xcf\\xbd\\xa4\\xc7}fY&\\x15N}47\\xe1\\xa0M\\x11\\xea\\x0e\\xeb\\xce\\xbd\\xb7i\\x97\\xbf\\x8e\\x9c\\xb4\\x88\\x87\\xd0{\\x15\\xc3\\xbb\\xee\\x1c\\xcc6wE\\x9c<9\\xcc4\\xef\\xf1\\r\\x8b\\xe4\\xb92O\\xda\\xdb\\xd0\\xc5]WK\\xe1\\xd9F\\xe1cs\\x9a\\xe7\\x82\\\\\\xd7X}\\x82G*!a9-=\\xdb+\\x8e\\xb1\\xd9\\xae\\xe0Qg\\xc1\\x86\\x13\\xf1f\\x167\\x1c\\xac$GF7\\x9d[jF\\xf6\"\\x19${\\x9e\\\\\\xf2\\xe0\\xd6\\x93\\x9d\\xcc4\\xdd\\xae\\xb9\\xfb\\xab\\x16\\xbc\\xf4\\x82\\xd1H\\xfbS\\xdd\\x82\\xfaU\\xe0\\xee\\x83\\x1b\\x13\\xc3\\x9e\\xf6M\\x0ePO\\x8d\\xc0\\xb0\\x06\\x91\\xd5\\xc4\\x0c\\xa7\\xa9\\xd5e\\x8e{\\xc3VH\\xde\\xa5\\x95\\xc16\\\\<\\x81\\xed\\xa7\\xc4\\xef\\x85\\xec7\\x90\\xe8\\xe0\\x0f1\\xa8\\xdb\\xfa\\xad\\x9b\\x89\\xfcZu\\xaf\\xc1\\xfa\\x17\\x07!|mq\\x15\\x99\\xa1\\xd5\\xea\\x17\\xab\\x1d\\x9f?1\\xa9\\xd3\\xd9T\\x08\\x1a\\x04\\x81\\x85\\x14\\xd04\\x02\\x07j)\\xa0`\\xa2\\x84\\x02#<\\n\\xe8q\\x8bQE\\xaa\\x85h\\x15\\xa0D\\xa2\\x15\\xaa\\x0c\\xc8m \\xe5\\x15\\xe8\\xd7(\\xafF\\x94\\x13\\x05FI\\x85\\x15\\xe3\\x8d\\x84\\xc9\\x1b\\xd8\\r\\x171\\xcdi\\xe8KH\\x07\\xefE\\x8e\\xef\\x84\\xf1~\\x1cp\\x91A!m\\xc8\\'\\x969X\\xed29\\x92\\x16\\xb5\\x97\\xe6\\xd6_\\xfb\\x97\\x9fl\\x7fe\\xeec\\xcd\\xfe\\xa7N\\xdd&?6\\xff\\x00\\xb0\\x9cN)X]\\x14n`\\x8e\\\\\\x85\\x8e\\xa2s\\x10\\x1ck]\\xbcK\\x8a\\xf15\\xee\\xf5q\\xde/3\\xae\\x8d7\\x14\\xc6:j`!\\xa0\\x1f\\x84\\xba\\xaf\\xd4\\xf2Z\\xe3\\xabtB\\xe3\\x819\\xe2&F\\xf7B\\xd0.\\xe9\\xd7c\\xcb\\xfa\\xab\\x0c2V{\\xea^\\x90L\\xec<\\x9d\\xdb]\\xdfF\\xe3\\xe1p!\\xcee\\xf2wQ\\xe6\\xa6\\xf9I\\xaf<u\\x8dK\\x11\\xf4\\xbb4c\\xea}\\xe3s\\x92\\xe9\\\\\\xd6\\xe6\\xcaEd\\xb3\\xedae\\x8e\\xbb\\xdc\\xed\\xaa\\xf6\\x8a\\xea5\\xb6+\\xb3\\xb8\\t\\xf1X\\x961\\xba\\x1f\\ts\\x80\\xd3.\\x84\\x97y\\xf9\\xfa{\\xf4b\\xae\\xed\\x11\\x0e>\"\\xfc\\xb4\\x9bK\\xee\\xac\\x14\\x00\\xda\\x85R\\xf5\\x1e\\x01\\xa2\\x84\\x02\\x01\\x00\\x10;P\\x16\\x80\\xb4T\\x81@\\xed\\x14\\x05\\x03@ \\xce\\x85\\xd0\\xe3\\x08\\x15\\xa2\\x15\\xa1\\xb2%P\\x89D\\xd9Z\\xa8\\x100TW\\xa3J\\x8b\\x0fV\\x95\\x19=\\x1a\\xa2\\xc3\\xd0#(L(\\xaa~)\\xd9\\xd81&v\\xca\\xc0\\xe8\\xf1\\x0cfv\\xecD\\xcc\\xd1\\xb24\\xf2vZ\\x17\\xfc#\\xcdc5\\x89\\xde\\xfc\\xdb+\\x92\\xd5\\xd4\\xc7\\x97\\xf7L?fxN#\\x03\\x8c\\xc5a\\x83\\'\\x96\\x03\\x96FO\\xf5y\\x18\\xd6\\x96\\xf2q\"\\xae\\x9d\\xb8$xW\\x9d\\xc4`\\x9e\\xba\\xeb\\xa7\\xb9\\xc1\\xf1u\\x99\\x8ei\\xd6\\xda|V\\r\\x98\\xa7\\x89(6aV\\xe1\\xa6o\\xd5p\\xc4\\xe9\\xec\\xd6\\xdc\\xb2\\xbf\\xe1\\xbc-\\xda\\x075\\x95\\xce\\xb9\\xab\\x0c\\xf2g\\x8dt\\\\\\x18\\x1b\\x18\\x01\\x8d\\r\\xe6h\\x01~g\\xaa\\x96r\\xf3M\\xa6fe\\xf1\\xaf\\xa4~*\\xdc_\\x10\\x10\\xb5\\xa6H\\xf0\\xb0\\xbe&\\x96\\x9a\\xb9\\\\Aq\\x1a\\x8b\\x02\\x987\\xe4w\\xe7\\xbf\\x1cDW\\xab\\x9b&\\xe6\\xdd<\\x9b\\xce\\xc0p\\x86\\xe1\\xb0Q\\xbc\\x8a\\x96f\\xb6Y\\t\\xbb\\x164n\\xab\\xd1\\xc1\\x8a)\\x1b\\xf3\\x97\\x89\\xc5\\xe6\\x9c\\x97\\xd7\\x94\\x7fv\\xd3\\x85\\xb9\\xca\\x02\\x06\\x81\\x14\\x05\\xa0h\\x04P\\x81\\xa8\\x04SA \\x80\\xb5\\x14 \\xceZ\\xe9q\\x1d\\xa0\\x89(\\x11(\\x84\\xaa\\x15\\xa0V\\x88-\\x03\\x05\\x156\\x95\\x15\\xea\\xc2\\xa3({5FO@\\xa2\\xa6\\x14d\\x90@\\xb1\\x18\\x86\\xc6\\xc7H\\xf7\\x06\\xb5\\xad%\\xc4\\xf2\\x0b\\x0bN\\xa3r\\xd9\\x8e\\xb3kEc\\xbb\\'\\x0b\\x9c(\\x8d\\xd7\\x85/\\xb2\\x8d4\\xbc3\\x1d;\\xaa\\xa3\\x1as\\xcf\\xfd\\x14\\xdc\\xf9%\\xa2\\xbek\\x8e\\xe9\\xce\\x04\\xbc\\xee6\\x1b\\x03\\xf9\\xab\\xa9\\xf3j\\xdcy3\\x0e\\xec\\x86\\t\\xee\\xef\\\\\\xcc\\xc4\\x81b\\xc6Rj\\xafm\\xd7\\xad\\x8f\\x1d&\\xb1>\\xe7\\xcfg\\xcf\\x922Z;u\\x95\\xf3\\x1a\\x1a\\x03@\\x00\\x00\\x00\\x00P\\x00l\\x02\\xde\\xe4M\\x00\\x80\\xb4\\x02\\x01\\x00\\x81\\xa0h\\x04SP\\x08\\x1d\\xa2\\x98(\\x1a\\x0c\\xd2\\xe8q\\x0b@Z\\x08\\xda\\xa8H\\x11(\\x85h\\x15\\xa0\\x90(&\\xd5\\x16\\x1e\\xcdQ\\x93\\xd5\\xaa2z\\xb4\\xa8\\xa9\\x82\\xa3 \\xf9\\x03As\\x88kF\\xa4\\x92\\x00\\x03\\xcc\\xa4\\xf4e\\x113:\\x86\\'\\xb5\\xbcO\\xebA\\xd8hM\\xb2:\\x94\\x90t\\x91\\xec!\\xc0zh\\xbcN7\\x8d\\xdd\\xa2\\xb5\\xed\\xbf\\x8b\\xeb\\xfc\\'\\xc2f\\x98\\xad\\x93$}\\xb9\\x8e\\x9e\\xef\\xfb\\x95\\x8f\\x0e\\xcb$M\\x91\\xba\\x82\\x03\\x81\\xea\\n\\xd1\\xb7F\\xb4\\xd3\\xf0\\x86\\xd3GUa\\xaa\\xee\\x8e3\\xc4\\xdb\\x87\\x8f\\xf7\\xa4\\x7f\\x86&_\\xc4\\xef\\xd0n}\\x14\\xc9x\\xa5w&\\x1c3\\x92\\xfa\\x85w\\x01\\xc4\\xe6\\x8c\\xc6w\\x8c\\xef\\xd5\\xa7\\xfb+\\xb7\\xc33\\xf3\\xe3\\xe4\\x9e\\xf1\\xfb<\\xef\\x1f\\xe0\\xfd\\x8eh\\xcb\\x1d\\xad\\xfb\\xc7\\xfd|\\xd6K\\xd3x\\x02\\xd0\\x16\\x81Z\\x1b0P5\\x14\\xed\\x00\\n\\x07h\\x1a\\x02\\xd0\\x08\\x1a\\x8a\\x10\\x16\\x838\\xba\\\\A\\x02(\\x11(\\x88\\xda\\x04J\"6\\xa8-\\x04\\x81Pz5\\x19C\\xd5\\xa5b\\xc9)gk\\x1a^\\xf75\\x8d\\x1b\\xb9\\xc4\\x00\\x166\\xb4V7i\\xd46c\\xa5\\xb2Z+H\\xdc\\xcf\\x94)\\xb1\\xdd\\xab\\x89\\x87,M2\\x9e\\xa4\\xf7L\\xfb\\xc5\\x9f\\x92\\xe0\\xcb\\xe2X\\xa9\\xf7z\\xfe\\xcfw\\x85\\xfa?\\xc4\\xe4\\xeb\\x93\\xec~\\xff\\x00\\xdf\\xcdU?i\\xf1\\xaf\\x1e\\x06\\xc5\\x18\\xde\\xc3\\x0b\\x88\\xf7q\\xaf\\xb9p\\xdf\\xc5\\xa7\\xcbOc\\x17\\xd1\\xacQ\\xf7\\xb7?\\x9e\\xbfhQq\\x891s\\x06\\x99\\xa5{\\xf3\\x11L&\\x9a5\\xdf(\\xd0.K\\xf1\\x93\\x96uizx\\xbc3\\x1f\\x0f\\x1f\\xe9\\xd6\"\\x7f_\\x8fwo\\n\\xd2\\x7f\"\\x08\\xf2\\\\w\\x9d\\xc3\\xd2\\xacu\\xd3G\\xd9\\xc8]\\x1b\\x9f\\x07\\xf9`9\\xd1\\xf9\\x0c\\xdb.\\xacw\\xdcC\\xc9\\xcfNY\\x95\\xcb8\\x8bb\\x06\\x88\\xfd)m\\xdb\\x9ei\\xb53$\\x92i\\x1d\\x88\\x94\\xf8\\x9d\\xe1\\x8d\\xa7\\xfc\\xb8\\xff\\x00S\\xbf\\xc9p\\xe6\\xcb\\xcf:\\x8e\\xcfO\\x06\\x0fg^\\xbd\\xdex\\xccgrX\\x1a\\xe2\\xd7\\x10\\xe7\\xdbN\\xa0\\n\\x1f\\x9a\\xc3\\x1eKRy\\xab:\\x96\\xf9\\xc3L\\xd5\\x9a\\xe4\\xacLzK\\xbf\\x07\\xdar\\x08d\\xa3>\\x9a\\xbd\\x83)\\x1e\\xa0\\xef\\xed^\\x8b\\xd9\\xe1\\xfcR{d\\x8f\\xce?\\x87\\xceq\\xbfF\\xeb\\xd6\\xdc=\\xb5\\xee\\x9f\\x94\\xf7\\xf8\\xfcWxn)\\x04\\xbf\\x0c\\x8d\\xbf\\xddw\\x81\\xdf\"\\xbd<|N,\\x9fv\\xd0\\xf9\\xec\\xfe\\x1d\\xc5a\\xfb\\xf8\\xe7^\\xb1\\xd6>0\\xeb\\xb5\\xbd\\xc2\\x10$\\x12\\x05\\x14\\xedE;@\\xd0\\x16\\x80\\xb4\\x05\\xa0a\\x03\\xb5\\x00\\x8a\\xcdZ\\xe9p\\x0bE\"P\"UDK\\x90F\\xd1\\n\\xd0\\xd8\\xb46\\x9bJ\\x0fV\\x95\\x19=\\x1aTe\\x0c\\xafk\\xb8\\x89t\\x8d\\xc37fT\\x92y\\xba\\xac\\x0fa\\xaf\\xba\\xf1|S?\\xfe8\\xfc\\xdf_\\xf4w\\x83\\xd4}b{\\xcfH\\xfc<\\xfe?%W\\x0f\\x84w\\x8fa\\xd7g\\x80\\x7fu\\xdb/\\x06\\xf33\\x11/\\xb4\\xc7\\x11\\x13+\\xa1\\x00\\xdb\\xe6\\xb4\\xb6mQ\\xc5e!\\xf4\\x05\\x86\\xd1 y,\\xe8\\xd7u\\x19\\xe2\\x93\\xb2x\\xdc@\\x11\\xd9=\\xdbF\\xaem\\x1d\\xdcy\\xf3\\xd3\\xa2\\xec\\x8aR\\xd4\\x98\\xf3q\\xcd\\xb2FH\\x9f/O\\xef\\xc9\\xf4\\x1e\\x15\\xc7!t\\x0e\\x95\\xae\\x0e\\xcb\\x9b\\xc9\\xcd\\xcd\\xbb\\\\=\\x7f\\x15\\x8e-\\xd7\\xec\\xcbG\\x15\\x8f\\x9b\\xedC5\\xc4\\xbe\\xb1 \\x93-\\xb5\\xae\\xcd\\xa5\\x90\\xe0+\\x9fOE\\x8d\\xb3\\xc4\\xcf\\xb9\\xd7\\x8b\\x85\\xe4\\xae\\xe7\\xef~\\xdf\\x82\\x1d\\x9e\\xc5\\xe3\\x99M\\x98\\x89#\\xfb9\\xc1\\xce=\\x1d\\xfa\\xda\\xc34\\xe3\\x9f\\xbb\\x0c\\xf1\\xe2\\xbf\\xf9J\\xfal3d\\x90H\\xeb\\xd1\\xa1\\xa0^\\x80]\\xfe+N\\xdb#\\xec\\xc1\\xcb\\x1b\\x1bf\\x86\\x80\\x93\\xf2Q\\x94L\\xcc+g\\x9c\\x86\\x8b\\xaf\\x83;\\xb3\\x0b\\xd7\\x90\\x1c\\xd6u\\x99\\xd9h^pN\\',1\\xb7\\xbc\\x1e\\x13^\\x0f\\x11\\xcb|\\x817^\\xfa/G\\x86\\xf1\\x1bb\\x9eY\\xeb\\x0f\\x0b\\xc4<\\x17\\x17\\x15\\xf6\\xa9\\xf6o\\xeb\\xfc\\xff\\x00v\\xd6G sC\\x86\\xa1\\xc0\\x10\\xbe\\x86\\x97\\xad\\xeb\\x16\\xafi|.lW\\xc5{c\\xbcjc\\xa4\\xa5k6\\xa3\\x05E;@\\xed\\x14\\xc1@\\xd4\\x02\\x06\\x8a\\x104\\x05\\xa0\\xcc\\xda\\xe9p\\x96dDK\\x90\\xda$\\xa1\\xb4K\\x95B.D\\xd9Z)\\x82\\x83\\xd0\\x15\\x15\\xea\\xc2\\xa2\\xc3\\xd2\\xd4e\\x0c\\x0b\\xde&\\xc4\\xc9&\\xa4=\\xeep\\xbf\\xdd\\xe5\\xf7/\\x92\\xe3o\\xcdk[\\xd6_\\xa8xf\\x1fg\\x8a\\x94\\x9f(\\x88\\xfc\\xfc\\xff\\x00W\\xacZc\\x19\\xd1\\xd1=\\xa3\\xd8\\x83K\\x8e>\\xe4\\xbdM\\xea\\xcb\\xc1\\xa5\\xadL\\xbb\\xa9\\xb1\\xb1\\xdd\\xbb\\xaa\\xca\\x0bC\\xa2^\\x18\\xc7F\\xd0@\\xb0\\x02sL\\x13X\\x9e\\x8a\\xf6p\\x93\\x14\\xedtn\\rc\\x8d\\xbc9\\xa5\\xc3-\\xeb\\xa0\\xde\\xae\\xfd\\x96\\xcfi\\xcd\\x1a\\xb3T\\xd3\\x97s^\\xbe\\xe5\\xac\\x1e&\\x06\\x0b-\\xd4\\x17\\x13e\\xc0\\x13\\xd7\\xaa\\xd7n\\xed\\xb5\\xeb\\x1b\\x97K\\x80\\x04i\\xb2\\xc5c\\xb3\\xdd\\x86\\x91\\x84\\xb91Ro\\xca\\xc5{#8\\x8dC\\x97\\x00[4\\x8f\\x95\\xdf\\xe1Dt\\xe8\\xe7\\x8d\\xbeK-j\\x1a\\xad;\\x9e\\x8e\\xf9\\x1a\\xf7\\xb6\\xac73\\x83\\x8d\\x9dCA\\xd0(\\xca5Yjx3\\xbfe]6\\xf7\\xdf\\xef\\xbf\\x9a\\xfa?\\t\\xc9\\xcd\\x8ak\\xe9\\xf3|/\\xd2<<\\xbcErG\\x9c~\\xb1\\xff\\x00S\\x1f\\x07r\\xf5_<-\\x04\\xadE\\x16\\x89\\xb3\\xb4T\\x81Ca\\x03\\n)\\xda\\x01\\x14\\xd1\\x19k].\\x02\\xb4\\x11%TD\\x94\\x11\\xb5P\\xad\\x01h$\\n\\x8a\\x98(\\xafV\\x95\\x15\\xc5\\xc7\\xf1]\\xd6\\x16g\\xf3\\xc9\\x90z\\xb8\\x86\\xfek\\x97\\x8c\\xbf&\\x0b\\xcf\\xbb\\xf7\\xe8\\xf4|\\'\\x0cf\\xe31V}w\\xf0\\xeb\\xf2c0\\xd3\\x86\\xb9\\xb7\\xb15k\\xe4\\xf3u\\x99\\x87\\xe9\\xb85\\x11\\x12\\xb2\\x9d\\xd5\\x8b\\xc3\\n\\xd0\\xb6R\\x0f\\x9d-5\\x8f\\xb1o\\xc9\\xd5n\\xf0\\xb4\\x95\\xda\\x90\\xb5\\xb3\\xac8\\xe6n\\xa0y\\x85Iw\\x8d\\x94I\\xee\\x8c\\x8d\\xd4\\x1f\\xe1w\\xe4\\x89\\x0f\\x1c\\x1e\\x85\\xdd+7\\xcd\\xce\\xfd\\x15\\x92M\\xb2fp\\xf9\\xa8\\xcb\\xc9\\xd6\\x8dj\\x9e\\xd0I\\x92\"y\\xec\\x16t\\x8d\\xc9{}\\x92\\xc1G\\x92\\x18\"\\x1c\\xdb\\xdfHO[\\xe7\\xef\\xf8%\\xa7s2R\\xbaw\\xbc\\x9d\\x18\\xd3\\xe3y\\xac\\xdc\\xc0\\xe6~K\\x18e\\xef\\x96\\x97\\x838\\x0f\\xd9\\x8d\\x834\\xf6\\xa1\\xf9\\xafg\\xc2/\\xfe\\xa5\\xab\\xee|\\x9f\\xd2L{\\xc3[\\xff\\x00\\xcb\\xf7\\x89\\xfe\\x16\\x8b\\xdf|h@\\xd1E\\xa0v\\x81\\x82\\xa0h\\xa7h\\x1d\\xa0v\\xa2\\x8bA\\x96%t\\xb8\\x11%T\\xda6\\x88\\x8d\\xaa\\x11(\\x12\\x02\\xd0H\\x14\\x13iQ^\\x8d**\\x97\\xb6RV\\x16\\xbfzV\\x0fan\\xfc\\x97\\x9f\\xe2v\\xd6\\x18\\x8fY\\x87\\xbf\\xf4r\\x9c\\xdc\\\\\\xcf\\xa5f\\x7fh\\xf9\\xb3P\\xc5\\x9e\\'\\xb4\\x0bp\\xa7\\xb6\\xb7_1\\x92~\\xde\\xdf\\xa1b\\xae\\xe90p\\xe3s\\xcd\\x81y\\xe4e\\x85\\xdeN-\\xd1\"\\x9a\\xad\\xe3\\xf0\\x96S~\\xb4\\xf84\\xd2:\\xca\\xe6t\\xc4j\\x1c\\x92\\x9f\\x18W\\xc8\\x97svQ%\"\\xd2h\\x0e\\x88\\xc7\\x9a\"7*\\x9cT\\x8e\\xefr7K\\x8cf\\xf2\\x19\\xdd\\xa2\\xcb]6L\\xf5\\xe8\\xec\\xc2\\xb6\\xbd\\x85,Y;\\x98\\x8c%M\\xdaa\\x99\\xadoR\\x16t\\x9dN\\xcdn\\xb08\\x8e%\\xb1:\\x16\\x9a\\x19\\xa2m\\xfb8\\xa4Vf\\x08\\xb6\\xa6]\\xfc:\\xc928x\\x88\\xa6\\x83\\xf6\\x19\\xfa\\x95\\x8a\\xdf\\xb2\\xf7\\x83>\\xe55\\xb0a\\x1e\\xf6?E\\xe8\\xf8T\\xeb\\x88\\x8f\\xc2\\x7f\\x9f\\x93\\xc0\\xfaA\\x8f|\\x14\\xfe1?\\xae\\xbek\\xbb_P\\xf8\\x13@\\xd4\\r\\x14 \\x02\\x07h\\x18*\\x07h\\x18(\\xa2\\xd0e\\x89].\\x04\\tU\\x11%\\x02\\xb46V\\x80@\\x04D\\x82.\\xcc\\x14\\x1e\\x8d**\\x9f\\xb5\\xcd\\xb8c\\xff\\x00T\\x7f\\xf0\\xe5\\xe4\\xf8\\xbfL5\\x9f\\x7f\\xca_O\\xf4[S\\xc5^?\\xe3?\\xbdT\\x9c$\\xe5\\x95\\xa3\\x91\\xb0}J\\xf9\\x9b\\xf5\\x87\\xdf\\xe3\\x8d*\\xb1\\xf1\\x18\\xa6p:\\x01(\\x9d\\x9f\\xcc\\xd3g\\xee[\\xf1\\xdbu\\xfd\\x1a\\xef][S\\xeb\\x13\\xf0kp8\\x813\\x03\\x85_5\\xc91\\xa9\\xd3\\xaa$\\xc6\\x1b\\xc6]~\\x88\\xae\\xc65F\\x13)\\x1e\\xa3q\\xa87\\xb2\\xacf\\xb11\\xa9R=\\xdf\\xb5y&\\xc9\\x0c\\x16u;_\\xe2J\\xb3\\xd6\\x17Q\\x13\\xd1a\\x86\\x04\\x8d\\x96,\\xb6\\xec\\xee\\xe8n\\xab_3\\x8aL\\t{\\xf3;a\\xb0M\\xb6M\\xa2!]\\x8e\\xc3\\tq\\xe1\\xc7VA\\x03\\x08\\x1c\\x8b\\xdc\\xe7\\xd7\\xe0\\xb7E\\xb9qk\\xd6Z\\xa9\\x137\\x9fr\\xd2\\'\\xd9\\xca6\\x1f\\x11\\xeaV\\x86\\xe9\\xe8\\xb5\\xe1\\xf2\\x06Q\\xdb\\xc4\\xdf\\x97?\\xc5t\\xf0\\xb9=\\x9eJ\\xdb\\xdf\\x0f7\\xc40\\xce|W\\xc7\\xebY\\xf8\\xf9~\\xad\\x11_b\\xfc\\xc4\\x90H\"\\x8bP\\x16\\x88-\\x14\\xd00\\x8av\\x81\\x82\\xa0-\\x06R\\xd7S\\x80\\x8a\"$\\xaa\\x85h\\x15\\xa0-\\x14\\x02\\x82A\\x04\\x81QS\\x05A]\\xda\\x19\\x00dW\\xb1\\x97_\\xfd\\x1c?5\\xe4\\xf8\\xce\\xfd\\x84Dz\\xff\\x00/\\xa8\\xfa+\\xaf\\xad\\xdag\\xfd\\xbf\\xbc\\xc2\\xa4C\\xe2\\x07\\xa1\\x04\\x10\\xbe[o\\xd15\\xd4v\\x83\\x00dfv|m\\x19\\xdb\\xea9,\\xf1[\\x96\\xdd{0\\xc9^j\\xf4\\xef\\n~\\xcc\\xe2\\\\\\xdb\\xaf\\x85\\xaf\\xcb_\\xc2@#\\xe5u\\xec\\xb6\\xf1\\x15\\x8d\\xc4\\xb5\\xf0\\xf6\\xdcLz\\x7f\\xf5\\xad2\\r\\xd7+\\xa7OHd\\x05\\x18Z\\x12\\x97\\xe1$z\"GuI\\x8c\\x19\\x1c\\x7f\\x97\\xeeh\\n\\xf92\\xf3X\\xc4\\xea\\xd1Ba\\xd1\\xdf\\nU\\xaf\\x91\\xc9\\x88\\xc5\\xf4Q\\xb6)\\xa7\\x1c.s\\xdc\\xfc\\x80\\xbaGP\\x01\\xba\\x9a\\x02\\xbf\\x12\\xe5\\x9cVm\\xa8\\x84\\xb5\\xebM\\xcc\\xce\\x9d\\xcc\\xc1I\\x03\\x84O\\xcb\\x99\\xcc\\x12xNm\\xc9\\x14|\\xf4Yd\\xc74\\x9dKV,\\xd5\\xc9Y\\xb4v\\x87S|G.\\xc0\\x1dy\\x1d7Xy\\xac\\xea\\xb1\\xb6\\x9f\\x0f({\\x1a\\xf1\\xf6\\x9a\\n\\xfb.\\x1e\\xfe\\xd3\\x15-\\xeb\\x0f\\xcbx\\xec3\\x83\\x89\\xc9\\x8f\\xd2g\\xe1\\xe5\\xfa\\'ks\\x97f\\x81\\xda)Z\\x06\\x81\\xa8\\xa6\\x80@\\xd0+A\\x95\\xb5\\xd2\\xe0\"\\xa8\\x89D+@\\x12\\x81Z&\\xce\\xd1L\\x14\\x13\\x05\\x04\\xda\\xa3(Sv\\xa8\\xfe\\xce?\\xf5/\\xfe%y>/:\\xc7_\\xc7\\xe5/\\xa6\\xfa/\\x1f\\xfe\\x8c\\x9f\\xfa\\xfc\\xe1\\xc9\\x83}\\xb0;q\\xccs_-x\\xeb\\xd1\\xfa69\\xddz\\xac`s^\\xd2\\xd0o\\xf2XL-\\xa7S\\xb6+\\x05\\x0c\\xb8ig\\x8eF\\xb9\\xad2\\x93\\x13\\xc89\\\\\\xc1\\xa0\\xa3\\xe9K\\xbf<s\\xd6\\x96\\xaf\\xa7W\\x9b\\xc2d\\x9a\\xdf%o?\\xe5\\xd3\\xf0\\xf2^C\\x89w2\\xb8\\xf4\\xf4\\xa2@\\xe2.\\x89\\xe1\\xae\\xd8\\xecz\\x84\\xe5\\xdcm&\\xda]\\xberX\\xd2\\x05\\x87Y\\xbfe\\x8b\\x1f\\xf2W\\xb1\\xd9L\\x8f\\xfe75\\xbe\\xc6\\x92YBQH\\xe3\\xa9FP\\x90\\xc4\\xa3\\'\\x14\\xf3\\xbaI\\xa3\\x82=\\xdem\\xc6\\xeb,cW\\x1f\\x97\\xdeB\\xdd\\x8b\\x1f7w?\\x11\\x9b\\xd9\\xc7\\xbd\\xb6\\xe1\\x10D\\x19L\\x07\\x0e\\xc0l\\x1d\\xe5\\x97\\xa9\\xeb\\xaf\\xcdv\\xd6\"\\x1e&\\\\\\x96\\xb4\\xeez\\xcf\\xe8\\xe819\\x8f&\\x18\\x03lf8\\x89\\xdd\\x96\\xba\\xff\\x00\\x11\\xf7\\xa5u\\xa9\\xdcG\\xe6\\x91h\\x98\\xd5\\xed\\xd3\\xd2\\x14x\\xe9\\xdb\\x9d\\xcc\\x8e^\\xf4\\xbcft\\x81\\xa4\\x0c\\xce\\xbc\\xc6\\xbdv^~H\\x88\\xb4\\xeav\\xf60D\\xcd\"f\\xbc\\xba\\xf2\\xf7y4x(\\x04Q\\xb2 I\\rmY\\xdc\\x9d\\xcf\\xe2\\xbe\\xbb\\x84\\xc7\\xec\\xf0R\\xbe\\xef\\xdf\\xab\\xf3_\\x14\\xe2\\'?\\x19\\x97&\\xb5\\xd7_\\x0e\\x9f\\'\\xb8+\\xa1\\xc0v\\x86\\xcdE\\x08\\x18E0\\xa2\\x9a\\x01\\x02(\\x0bDd\\xedu8E\\xa2\\x11(\\x11DD\\xa2\\x04SD0QS\\x05\\r\\xa6\\xd2\\x86\\xd4\\xbd\\xaaw\\x86.\\x85\\xcf\\x1e\\xf4+\\xf3^7\\x8co\\x92\\x9f\\x8b\\xeb~\\x8a\\xeb\\xda\\xe5\\xf5\\xd4|\\xde\\x18\\x1c+\\xccm\\r\\x940Q.\\x0c\\r/\\xbb\\xean\\xbeK\\xe6\\xa7\\xbfg\\xdf\\xd3\\xb3\\xba<!`\\x04=\\xefp \\xf8\\xdd\\xf1\\x00ui\\xa04;,w\\x1e\\x89h\\x99\\x89\\x88\\x96\\x8f\\x0f,O\\xb6\\xb5\\x81\\xb4>\\x1a\\x15K\\xba\\xb1\\x13\\x1d\\x1e%\\xf7\\x13\\xd5\\xe1\\x8b\\xec\\xfe\\x16P\\\\Y\\x90\\xf5\\x8c\\xf7_\\x86\\x9f4\\x9cq,\\xeb\\xc5^\\xbd\"\\\\\\x0f\\xec\\\\R\\xb40\\xcb8\\xcam\\x8e\\xb6\\x17\\x0f\\xf8\\xack\\x8a\"v\\xce\\xdcu\\xa6\\x1d-\\xec\\xcc\\xd1\\xb3#%d\\x80l$ia\\xf9\\xb6\\xff\\x00\\x05\\xae\\xdc?\\xa3}<F\\xbf\\xe5_\\x82\\x87\\x1f\\xc2\\xf1\\xac}\\xba\\x07\\x16\\x03\\xa7uR\\x83gzn\\xbfr\\xd78m\\x0e\\x9aqx\\xad\\xda\\xca\\xfe#\\xc4\\x04M\\xc9T\\xf26\"\\x88\\xf6XW\\x1c\\xcc\\xbay\\xa3[\\x86{\\x13\\x8b\\xc5\\xe5/\\x0c\\xca\\xde\\xa7E\\xd5Ja\\xde\\xa6\\\\\\xd9re\\x88\\xddb\\x1a^\\xc3\\xe0^a8\\xe9\\xf5t\\xa7$q\\xf3,\\x1a\\x8fK:\\xfa\\x00\\xb7\\xcdkY\\xe5\\xafg\\x959\\xaf\\x929\\xad\\xd2~M\\xa6\\x031s\\xcco\\x0e\\x9e\\x80yp\\xcc\\xc8\\xf7\\xa0\\x07\\x97E|\\xda\\xa7Z\\xeb\\xd9\\xc3\\xc5q\\xf8r\\xd9\"\\x92s\\x8a\\x9f+\\xa3\\xdf$\\x11<\\x8d\\xc0n\\x967\\xadH\\xa5\\xa7-\\xeb\\x11\\xa9\\xeb.\\xde\\x17\\x15\\xe6bk\\x1c\\xb1\\xfa\\xcb\\xc7\\x0f\\x154W\\x96\\xc3u\\xc0\\xf4\\xadf\\x9a\\x1f\\x85\\xb7\\xfb\\xad\\xfc\\x17\\xdap\\xb3\\xbc4\\x9ft~\\xcf\\xcb8\\xf8\\xd7\\x15\\x96?\\xe5o\\xde^\\x81nr\\x1a)\\xa0\\x14SE0\\xa2\\x9a\\x00\\x94\\x11\\xb5P\\x91\\x19<\\xcb\\xa5\\xc2-\\x00J!Z\\x05h\\x85h\\x18A \\x83\\xd1\\xa8\\xa9\\x85\\x15I\\xc7\\xf1-ql@Ya\\xcc\\xe3\\xd0\\xd5P\\xf9\\xaf\\x07\\xc5\\xb8\\x98\\xb4\\xc6*\\xf9w\\xfe\\x1fo\\xf4c\\x80\\xbe:\\xdb\\x89\\xbfNh\\xd4G\\xbb}\\xff\\x00\\x87\\x8e\\x06|\\xad\\xaa\\xfbZ\\x9f%\\xe0\\xda:\\xbe\\xca\\x93\\xd1o\\x01\\xb0\\x00\\x06\\xce\\x80,5\\xbe\\xcc\\xad1\\x11\\xb9_`x\\x11i\\x12g\\xf1\\x91\\xe2f\\xb9}-v\\xe3\\xa4\\xd6:\\xcb\\xc4\\xe23\\xd7%\\xa7P\\xe9\\xc7\\xcf\\xdc\\x81\\x9a7W7\\x01\\x99\\xbf1\\xb7\\xbd-\\xfb\\x87$D\\xfa\\xb90]\\xa7\\xc2\\x17\\x91\\xde76\\xc5\\xa0\\x87\\x11\\xf2Yk\\xcd\\'\\xd1l\\xcctR\\x0bc\\xda|\\xae\\x8a\\x93\\t\\t\\x07\\x854\\xbbx\\xe20\\xecx\\xa75\\xaf\\x1d\\x1c\\x03\\x87\\xde\\xb1\\x9a3\\xaeI\\x8e\\xd2\\xe0\\x9f\\x80ae\\x14\\xf8c#\\xa6Z\\xfc\\x16\\x11\\x8a\"w\\x10\\xdb<VI\\x8dM\\x9dX~\\x11\\x03\\x055\\x80\\x01\\xa0\\x1a\\xe8\\xb3\\xe5j\\x9c\\xb3(c;=\\x1b\\xe3p\\x84\\xf7RjZA%\\xae;\\xd3\\x81\\xdc\\x1f\\x9a\\x96\\xc7\\xcd\\x1a\\xdb<\\\\L\\xe3\\xb4N\\xb6\\xca\\xe1\\xf5\\xb6\\xb8\\x16\\xbd\\x84\\xb1\\xcd;\\xb5\\xc0\\xd1\\x0b\\xcf\\xb5f\\xb3\\xa7\\xd0S$^\\xb1j\\xf6u1\\xe5\\xab\\x14\\x98\\x89^\\xe0\\xa6\\x0e`\\xea\\x05\\x15\\xf5~\\x1d\\x9a\\xb90DGx\\xe9/\\xce|o\\x85\\xbe\\x0e*\\xd6\\x9e\\xd6\\xeb\\x1f?\\x84\\xfc\\x9d\\x01w<\\x84\\x900QE\\xa8\\x18E4S@\\x8a\\x04\\x88H\\x8c~e\\xd2\\xe1K2\\x02\\xd0\"UB\\xb4@\\x82@\\xa2\\xa6\\x14\\x13\\x08$E\\x826\\xb1V7\\nLn&\\x19\\xd2\\xdc\\xb6\\x8bkz\\x9d\\xfc\\x19\\x19\\xa3tn,\\x7f\\xc4\\x0e\\xa7\\xaf\\x9f\\xba\\xf8\\xfc\\xd8-\\x8a\\xd3[\\x7f}\\xef\\xd5\\xf8^/\\x1f\\x13\\x8e\\xb91\\xcfI\\xfd=\\xdf\\x93\\xaf\\x01\\x84\\x92Wd`\\xe8I;\\x0b\\xe6V\\x9a\\xe3\\x9b7\\xe6\\xe2#\\x17O6\\xbf\\x87p\\xe3\\x19\\x0e$=\\xdf =\\x16\\xfac\\xad{<\\xcc\\xfcE\\xf2}\\xe9\\\\2Wt\\xfb\\xd6S\\r.\\x96Mz\\x15\\x8a\\xa88\\xff\\x00dp\\xb8\\xbf\\x13\\x9a\\x1a\\xfd\\xda\\xf6\\x8c\\xaei\\xea\\x08\\xd9eY\\x9a\\xf6\\x94\\xb6\\xad\\xde\\x19\\xef\\xfa\\x17\\x10\\xc1|/\\xfa\\xdc#\\x93\\x8dJ\\xd1\\xe4\\xee~\\xebg7\\xac\\',yK\\xb7\\x05\\xc6\\x83\\xbc\\x0e/\\x8d\\xfc\\xda\\xf0A\\x1f\\xdf\\x92\\xcb\\xa3\\r\\xccwZ\\xc5\\x8dx\\xe7c\\xc9I\\x83n\\x86\\xf1\\x13\\xd1E{\\xc7\\x8e\\x07\\x9a\\xc7\\xaa\\xea\\x1d1bA\\xe6\\x86\\x99\\xde-\\xc2\\'l\\xb2ba\\xa9[!\\x0f\\x92=\\x9f`U\\xb7\\xae\\xdb-9qs\\xf5\\xf3v\\xf0\\xbcW\\xb2\\xfb3\\xd9\\xc7\\x87\\xc4\\xb6V\\xe8u\\x1a\\x10t \\xf4#\\x91\\\\SY\\x89\\xd4\\xbdz\\xccLsW\\xac-\\xb84$\\x03!:\\x10@\\x1du\\xdf\\xfb\\xf3^\\xef\\x84`\\xb4D\\xe4\\x9e\\xd3\\xd3\\xf1\\xfe\\xff\\x00/\\x90\\xfaO\\xc6R\\xd3^\\x1e#s\\x1df}:t\\x8f\\xcf\\xbc\\xfeK0\\xbd\\xb7\\xc8\\xa4\\xa2\\x84\\x02\\t\\x05\\x15$d\\x10$B%\\x13h\\xda\\xa3\\x18\\x1c\\xba\\x1c)\\x07 y\\x91\\x05\\xaa\\x82\\xd16-\\x13i\\x04]\\xa4\\n+\\xd0\\x15\\x150Psq\\x1c \\x99\\x85\\xba\\x07\\rX\\xe3\\xc8\\xfe\\x8b\\x9b\\x8a\\xe1\\xa3=&\\xbe~R\\xf4|3\\xc4/\\xc1f\\x8b\\xc7Z\\xcfx\\xf5\\x8f\\xe6<\\x8b\\x03\\x1b\\xb0\\xe066\\x12w{\\xb34\\xe6<\\xcd\\x95\\xe5\\xcf\\x01\\x96:i\\xf4q\\xe3<5\\xfe\\xd4\\xdb\\xac\\xfb\\xa5\\xcf\\xff\\x00vD\\x0f\\xc6G\\xabJ\\xe2\\x89\\xa4\\xf9\\xbd[b\\xcb\\xfe\\xd7F\\x1f\\xb4\\xd1\\xbfi\\x07\\xb1\\n\\xf2\\xc4\\xf6k\\x9eh\\xef\\x0b(x\\xb8?l{\\xe8\\x9c\\x89\\xce\\xedf>\\xfe\\xdbV<\\x8c\\xa2\\xd0\\xf58\\xcb\\x1a\\xc8\\x13F\\xe1O\\xc5c\\x8a@I{/~K8\\x84\\x9bC<\\xee7\\x16\\x1c\\xd1\\x9a=9\\x17\\x85\\xb3M[\\x9fGV\\x13\\xb5Xi4\\x12\\xb37Br\\x9f\\xbfu&\\x8b\\xcd.\\xff\\x00\\xfa\\xa4doG\\xa8\\xd4,yW\\x9c\\xe3\\xe2\\xed\\x1c\\xd3\\x92W\\x9dm\\xc3\\xf8\\xa8q\\x14n\\xfc\\xd6\\x13]2\\x8bmK\\xda\\x0c;\\x9b\\xc50\\xce\\x8a\\xab\\x15\\x1c\\x9d\\xfb@\\xdc\\xc7\\x96\\x9ez|Uk\\x1b\\xe1\\xf6\\xb1\\x11\\x11\\xb9\\xdfGG\\x0f\\xc4\\xfd_\\x9a\\xd6\\xb6\\xa9\\x11;\\xf95\\x10\\xb05\\xa1\\xa3`)}\\x0e,Q\\x8a\\x95\\xa4y>\\x1b\\x8a\\xe2-\\xc4f\\xbe[w\\x99\\xdf\\xf1\\x1f\\x94tz\\x05\\xb1\\xa0\\xd0\\x16\\xa2\\x8b@\\xc2\\tZ\\x8b\\xb1\\x99\\r\\x96d6\\x81*\\xa29\\x93I\\xb6,9t8\\x92\\x05\\x03\\xcc\\xaa\\x18r&\\xd2\\xb5PZ!\\x82\\x82@\\xa8\\xa9\\x82\\x8b\\xb4\\xc1Ci\\x07(\\xbby\\xe3f,\\x8aG\\x8d\\xc3\\x1cG\\xadh\\xb4qW\\xe4\\xc3{{\\x9d\\xde\\x1b\\x8b\\xda\\xf1x\\xa9>v\\x8f\\xd3\\xaf\\xc9\\x80t+\\xe3y\\xb4\\xfdRk\\xb4N\\x1d^t\\xe4u\\xb7\\r\\xf6\\x9aKy\\xe8\\xe2\\xd5\\'-\\xab\\xdaH\\xc3Kw\\x87dX7\\x96\\xe6\\x12\\xcb];\\xc7~\\xa9\\xf5\\x9c\\x9e\\xab\\x1c\\x16)\\x8d\\xf2\\x9b\\xf0\\\\\\x8c\\x93\\x13\\x94\\x9f\\xf1^9hwS\\xeb9;\\xed\\x97\\xd4\\xf0\\xff\\x00\\xb4\\xa5\\xe1l\"\\xb5:}\\xa7\\x17~+\\x19\\xcfy\\xef,\\xfe\\xab\\x8e#\\xa48\\'\\xe1\\x0c\\x03`\\xb2\\xae{z\\xb5_\\x87\\xae\\xbb*$\\xe1`\\x9e[\\xae\\xa8\\xe2\\x1cv\\xe1\\xa2e\\xee\\xce\\x1dOm\\x1a\\x15\\xc8\\xd2\\xc7\\xdb\\xce\\xa5\\x9c\\xf0\\xf1\\xb8\\x95\\xe4\\x98L\\xadd\\x97\\xe4u\\\\\\xbe\\xd2\\xdb\\x98\\xdb\\xba1WQ:m\\xb8\\x1e\\x12) k\\x8bi\\xc0\\xb8gi,v\\xf65\\x1b\\xee\\xbe\\x83\\xc3i\\\\\\xbc<sF\\xe6&a\\xf1^;\\x9b/\\r\\xc6\\xcf\\xb3\\x9dD\\xc4N\\xbc\\xbd;~Kx\\xf0\\xcck\\xb3\\x86\\xf8\\xf2\\x88\\xf3\\x9f\\x13\\xf2\\xdd\\xd5\\x9eV\\xbd*a\\xa5>\\xec<\\x1c\\xdcV\\\\\\xdf~\\xd3>\\xef\\'\\xb2\\xd8\\xe70TS\\xb4\\x05\\xa1\\xb4K\\x90\\xd9\\x87\"\\xec\\xf3&\\x8d\\x8c\\xc8m\\x12\\xe4M\\xa2^\\xa9\\xb4s\"m\\xff\\xd9'}\n"
          ]
        }
      ]
    },
    {
      "cell_type": "code",
      "source": [
        "model = torch.hub.load('ultralytics/yolov5', 'yolov5s')"
      ],
      "metadata": {
        "colab": {
          "base_uri": "https://localhost:8080/"
        },
        "id": "pXOV9p6qphvp",
        "outputId": "e8b17efd-9e83-4962-c60a-d36f9fe345c0"
      },
      "execution_count": 25,
      "outputs": [
        {
          "output_type": "stream",
          "name": "stderr",
          "text": [
            "Using cache found in /root/.cache/torch/hub/ultralytics_yolov5_master\n",
            "YOLOv5 🚀 2025-4-5 Python-3.11.11 torch-2.0.1+cu118 CPU\n",
            "\n",
            "Fusing layers... \n",
            "YOLOv5s summary: 213 layers, 7225885 parameters, 0 gradients\n",
            "Adding AutoShape... \n"
          ]
        }
      ]
    },
    {
      "cell_type": "code",
      "source": [
        "# 🧠 Run YOLOv5 model on the image\n",
        "results = model(img)\n",
        "\n",
        "# Print detected objects\n",
        "results.print()\n",
        "\n",
        "# Draw bounding boxes on image\n",
        "results.render()\n",
        "\n",
        "# Display result image with bounding boxes\n",
        "plt.imshow(results.ims[0])\n",
        "plt.axis('off')\n",
        "plt.title(\"YOLOv5 Detections\")\n",
        "plt.show()\n"
      ],
      "metadata": {
        "colab": {
          "base_uri": "https://localhost:8080/"
        },
        "id": "ssJmqHnmpES5",
        "outputId": "62d250f4-68c8-4017-8582-629c2053c2ae"
      },
      "execution_count": 26,
      "outputs": [
        {
          "output_type": "stream",
          "name": "stderr",
          "text": [
            "image 1/1: 183x275 1 person\n",
            "Speed: 29.9ms pre-process, 361.6ms inference, 3.4ms NMS per image at shape (1, 3, 448, 640)\n"
          ]
        }
      ]
    },
    {
      "cell_type": "code",
      "source": [
        "!pip install mediapipe\n"
      ],
      "metadata": {
        "colab": {
          "base_uri": "https://localhost:8080/"
        },
        "id": "6q13ciW8sTWt",
        "outputId": "95deb8dc-654f-4aef-e007-2c0abe48b2b6"
      },
      "execution_count": 11,
      "outputs": [
        {
          "output_type": "stream",
          "name": "stdout",
          "text": [
            "Requirement already satisfied: mediapipe in /usr/local/lib/python3.11/dist-packages (0.10.21)\n",
            "Requirement already satisfied: absl-py in /usr/local/lib/python3.11/dist-packages (from mediapipe) (1.4.0)\n",
            "Requirement already satisfied: attrs>=19.1.0 in /usr/local/lib/python3.11/dist-packages (from mediapipe) (25.3.0)\n",
            "Requirement already satisfied: flatbuffers>=2.0 in /usr/local/lib/python3.11/dist-packages (from mediapipe) (25.2.10)\n",
            "Requirement already satisfied: jax in /usr/local/lib/python3.11/dist-packages (from mediapipe) (0.5.2)\n",
            "Requirement already satisfied: jaxlib in /usr/local/lib/python3.11/dist-packages (from mediapipe) (0.5.1)\n",
            "Requirement already satisfied: matplotlib in /usr/local/lib/python3.11/dist-packages (from mediapipe) (3.10.0)\n",
            "Requirement already satisfied: numpy<2 in /usr/local/lib/python3.11/dist-packages (from mediapipe) (1.26.4)\n",
            "Requirement already satisfied: opencv-contrib-python in /usr/local/lib/python3.11/dist-packages (from mediapipe) (4.11.0.86)\n",
            "Requirement already satisfied: protobuf<5,>=4.25.3 in /usr/local/lib/python3.11/dist-packages (from mediapipe) (4.25.6)\n",
            "Requirement already satisfied: sounddevice>=0.4.4 in /usr/local/lib/python3.11/dist-packages (from mediapipe) (0.5.1)\n",
            "Requirement already satisfied: sentencepiece in /usr/local/lib/python3.11/dist-packages (from mediapipe) (0.2.0)\n",
            "Requirement already satisfied: CFFI>=1.0 in /usr/local/lib/python3.11/dist-packages (from sounddevice>=0.4.4->mediapipe) (1.17.1)\n",
            "Requirement already satisfied: ml_dtypes>=0.4.0 in /usr/local/lib/python3.11/dist-packages (from jax->mediapipe) (0.4.1)\n",
            "Requirement already satisfied: opt_einsum in /usr/local/lib/python3.11/dist-packages (from jax->mediapipe) (3.4.0)\n",
            "Requirement already satisfied: scipy>=1.11.1 in /usr/local/lib/python3.11/dist-packages (from jax->mediapipe) (1.14.1)\n",
            "Requirement already satisfied: contourpy>=1.0.1 in /usr/local/lib/python3.11/dist-packages (from matplotlib->mediapipe) (1.3.1)\n",
            "Requirement already satisfied: cycler>=0.10 in /usr/local/lib/python3.11/dist-packages (from matplotlib->mediapipe) (0.12.1)\n",
            "Requirement already satisfied: fonttools>=4.22.0 in /usr/local/lib/python3.11/dist-packages (from matplotlib->mediapipe) (4.56.0)\n",
            "Requirement already satisfied: kiwisolver>=1.3.1 in /usr/local/lib/python3.11/dist-packages (from matplotlib->mediapipe) (1.4.8)\n",
            "Requirement already satisfied: packaging>=20.0 in /usr/local/lib/python3.11/dist-packages (from matplotlib->mediapipe) (24.2)\n",
            "Requirement already satisfied: pillow>=8 in /usr/local/lib/python3.11/dist-packages (from matplotlib->mediapipe) (11.1.0)\n",
            "Requirement already satisfied: pyparsing>=2.3.1 in /usr/local/lib/python3.11/dist-packages (from matplotlib->mediapipe) (3.2.3)\n",
            "Requirement already satisfied: python-dateutil>=2.7 in /usr/local/lib/python3.11/dist-packages (from matplotlib->mediapipe) (2.8.2)\n",
            "Requirement already satisfied: pycparser in /usr/local/lib/python3.11/dist-packages (from CFFI>=1.0->sounddevice>=0.4.4->mediapipe) (2.22)\n",
            "Requirement already satisfied: six>=1.5 in /usr/local/lib/python3.11/dist-packages (from python-dateutil>=2.7->matplotlib->mediapipe) (1.17.0)\n"
          ]
        }
      ]
    },
    {
      "cell_type": "code",
      "source": [
        "import mediapipe as mp\n",
        "import numpy as np\n",
        "\n",
        "# Eye landmarks index (Mediapipe FaceMesh)\n",
        "LEFT_EYE = [33, 160, 158, 133, 153, 144]\n",
        "RIGHT_EYE = [362, 385, 387, 263, 373, 380]\n",
        "\n",
        "# Calculate EAR\n",
        "def calculate_ear(eye_landmarks):\n",
        "    # Vertical distances\n",
        "    A = np.linalg.norm(eye_landmarks[1] - eye_landmarks[5])\n",
        "    B = np.linalg.norm(eye_landmarks[2] - eye_landmarks[4])\n",
        "    # Horizontal distance\n",
        "    C = np.linalg.norm(eye_landmarks[0] - eye_landmarks[3])\n",
        "    ear = (A + B) / (2.0 * C)\n",
        "    return ear\n"
      ],
      "metadata": {
        "id": "FkKwDcPVsk4t"
      },
      "execution_count": 27,
      "outputs": []
    },
    {
      "cell_type": "code",
      "source": [
        "mp_face_mesh = mp.solutions.face_mesh\n",
        "\n",
        "# Load and process image\n",
        "image = cv2.imread(image_path)\n",
        "image_rgb = cv2.cvtColor(image, cv2.COLOR_BGR2RGB)\n",
        "\n",
        "# Detect facial landmarks\n",
        "with mp_face_mesh.FaceMesh(static_image_mode=True, max_num_faces=1) as face_mesh:\n",
        "    results = face_mesh.process(image_rgb)\n",
        "\n",
        "    if results.multi_face_landmarks:\n",
        "        face_landmarks = results.multi_face_landmarks[0]\n",
        "        h, w, _ = image.shape\n",
        "\n",
        "        left_eye = []\n",
        "        right_eye = []\n",
        "\n",
        "        for idx in LEFT_EYE:\n",
        "            x = int(face_landmarks.landmark[idx].x * w)\n",
        "            y = int(face_landmarks.landmark[idx].y * h)\n",
        "            left_eye.append(np.array([x, y]))\n",
        "\n",
        "        for idx in RIGHT_EYE:\n",
        "            x = int(face_landmarks.landmark[idx].x * w)\n",
        "            y = int(face_landmarks.landmark[idx].y * h)\n",
        "            right_eye.append(np.array([x, y]))\n",
        "\n",
        "        left_ear = calculate_ear(np.array(left_eye))\n",
        "        right_ear = calculate_ear(np.array(right_eye))\n",
        "        avg_ear = (left_ear + right_ear) / 2.0\n",
        "\n",
        "        # Threshold for drowsiness\n",
        "        EAR_THRESHOLD = 0.25\n",
        "\n",
        "        if avg_ear < EAR_THRESHOLD:\n",
        "            print(\"😴 Drowsy: Eyes are closed\")\n",
        "        else:\n",
        "            print(\"🙂 Alert: Eyes are open\")\n",
        "    else:\n",
        "        print(\"No face detected.\")\n"
      ],
      "metadata": {
        "colab": {
          "base_uri": "https://localhost:8080/"
        },
        "id": "Qv8oNOFctKZz",
        "outputId": "84208083-80c6-40ba-827c-e007c6fc34aa"
      },
      "execution_count": 28,
      "outputs": [
        {
          "output_type": "stream",
          "name": "stdout",
          "text": [
            "🙂 Alert: Eyes are open\n"
          ]
        }
      ]
    },
    {
      "cell_type": "code",
      "source": [
        "# Inner lip landmarks from Mediapipe FaceMesh\n",
        "MOUTH_LANDMARKS = [13, 14, 78, 308, 82, 312]  # [top, bottom, left, right, upper-left, upper-right]\n"
      ],
      "metadata": {
        "id": "8agzvjmCue-7"
      },
      "execution_count": 29,
      "outputs": []
    },
    {
      "cell_type": "code",
      "source": [
        "def calculate_mar(landmarks):\n",
        "    # Vertical: top (13) to bottom (14)\n",
        "    A = np.linalg.norm(landmarks[0] - landmarks[1])\n",
        "    # Horizontal: left (78) to right (308)\n",
        "    B = np.linalg.norm(landmarks[2] - landmarks[3])\n",
        "    mar = A / B\n",
        "    return mar\n"
      ],
      "metadata": {
        "id": "Ka8_T6uiu4a8"
      },
      "execution_count": 30,
      "outputs": []
    },
    {
      "cell_type": "code",
      "source": [
        "        # Get mouth landmarks\n",
        "        mouth = []\n",
        "        for idx in MOUTH_LANDMARKS:\n",
        "            x = int(face_landmarks.landmark[idx].x * w)\n",
        "            y = int(face_landmarks.landmark[idx].y * h)\n",
        "            mouth.append(np.array([x, y]))\n",
        "\n",
        "        mar = calculate_mar(mouth)\n",
        "\n",
        "        # Threshold for yawn\n",
        "        MAR_THRESHOLD = 0.6\n",
        "\n",
        "        # Final analysis\n",
        "        if avg_ear < EAR_THRESHOLD and mar > MAR_THRESHOLD:\n",
        "            print(\"😴 Drowsy: Eyes closed + Yawning detected\")\n",
        "        elif avg_ear < EAR_THRESHOLD:\n",
        "            print(\"😐 Warning: Eyes closed\")\n",
        "        elif mar > MAR_THRESHOLD:\n",
        "            print(\"😮 Yawning detected\")\n",
        "        else:\n",
        "            print(\"🙂 Alert: Eyes open and no yawning\")\n"
      ],
      "metadata": {
        "colab": {
          "base_uri": "https://localhost:8080/"
        },
        "id": "RxPO30SFvQu3",
        "outputId": "47dfee01-f571-49cb-f478-3010d3949a09"
      },
      "execution_count": 31,
      "outputs": [
        {
          "output_type": "stream",
          "name": "stdout",
          "text": [
            "🙂 Alert: Eyes open and no yawning\n"
          ]
        }
      ]
    },
    {
      "cell_type": "code",
      "source": [
        "# Define 3D model points of face landmarks (nose, eyes, chin)\n",
        "model_points = np.array([\n",
        "    (0.0, 0.0, 0.0),             # Nose tip\n",
        "    (0.0, -330.0, -65.0),        # Chin\n",
        "    (-225.0, 170.0, -135.0),     # Left eye left corner\n",
        "    (225.0, 170.0, -135.0),      # Right eye right corner\n",
        "    (-150.0, -150.0, -125.0),    # Left mouth corner\n",
        "    (150.0, -150.0, -125.0)      # Right mouth corner\n",
        "], dtype=np.float64)\n",
        "\n",
        "# Get 2D points from face landmarks\n",
        "image_points = np.array([\n",
        "    (face_landmarks.landmark[1].x * w, face_landmarks.landmark[1].y * h),   # Nose tip\n",
        "    (face_landmarks.landmark[152].x * w, face_landmarks.landmark[152].y * h), # Chin\n",
        "    (face_landmarks.landmark[33].x * w, face_landmarks.landmark[33].y * h),   # Left eye\n",
        "    (face_landmarks.landmark[263].x * w, face_landmarks.landmark[263].y * h), # Right eye\n",
        "    (face_landmarks.landmark[61].x * w, face_landmarks.landmark[61].y * h),   # Left mouth\n",
        "    (face_landmarks.landmark[291].x * w, face_landmarks.landmark[291].y * h), # Right mouth\n",
        "], dtype=np.float64)\n",
        "\n",
        "# Camera matrix and distortion\n",
        "focal_length = w\n",
        "center = (w / 2, h / 2)\n",
        "camera_matrix = np.array([\n",
        "    [focal_length, 0, center[0]],\n",
        "    [0, focal_length, center[1]],\n",
        "    [0, 0, 1]\n",
        "], dtype=\"double\")\n",
        "\n",
        "dist_coeffs = np.zeros((4, 1))  # Assume no lens distortion\n",
        "\n",
        "# Solve for head pose\n",
        "_, rotation_vector, translation_vector = cv2.solvePnP(\n",
        "    model_points, image_points, camera_matrix, dist_coeffs)\n",
        "\n",
        "# Get angles\n",
        "rmat, _ = cv2.Rodrigues(rotation_vector)\n",
        "angles, _, _, _, _, _ = cv2.RQDecomp3x3(rmat)\n",
        "\n",
        "pitch, yaw, roll = angles\n",
        "\n",
        "if abs(pitch) > 15:\n",
        "    print(\"⚠️ Head tilted down - possible drowsiness\")\n",
        "elif abs(yaw) > 20:\n",
        "    print(\"👀 Looking away\")\n"
      ],
      "metadata": {
        "colab": {
          "base_uri": "https://localhost:8080/"
        },
        "id": "OypX2GY4wYvS",
        "outputId": "9e38aec5-d577-432a-cdb1-378d0f7a811b"
      },
      "execution_count": 33,
      "outputs": [
        {
          "output_type": "stream",
          "name": "stdout",
          "text": [
            "⚠️ Head tilted down - possible drowsiness\n"
          ]
        }
      ]
    }
  ],
  "metadata": {
    "colab": {
      "provenance": [],
      "authorship_tag": "ABX9TyNzMse7tYwDLQeIyFwl5mrq",
      "include_colab_link": true
    },
    "kernelspec": {
      "display_name": "Python 3",
      "name": "python3"
    },
    "language_info": {
      "name": "python"
    }
  },
  "nbformat": 4,
  "nbformat_minor": 0
}