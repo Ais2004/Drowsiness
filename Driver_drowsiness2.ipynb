{
  "cells": [
    {
      "cell_type": "markdown",
      "metadata": {
        "id": "view-in-github",
        "colab_type": "text"
      },
      "source": [
        "<a href=\"https://colab.research.google.com/github/Ais2004/Drowsiness/blob/main/Driver_drowsiness2.ipynb\" target=\"_parent\"><img src=\"https://colab.research.google.com/assets/colab-badge.svg\" alt=\"Open In Colab\"/></a>"
      ]
    },
    {
      "cell_type": "code",
      "execution_count": 1,
      "metadata": {
        "colab": {
          "base_uri": "https://localhost:8080/"
        },
        "id": "NKU6UhoQTvpi",
        "outputId": "1b235daa-6006-40b9-f639-59d65422bb59"
      },
      "outputs": [
        {
          "output_type": "stream",
          "name": "stdout",
          "text": [
            "Looking in indexes: https://download.pytorch.org/whl/cu118\n",
            "Collecting torch==2.0.1+cu118\n",
            "  Using cached https://download.pytorch.org/whl/cu118/torch-2.0.1%2Bcu118-cp311-cp311-linux_x86_64.whl (2267.3 MB)\n",
            "Collecting torchvision==0.15.2+cu118\n",
            "  Using cached https://download.pytorch.org/whl/cu118/torchvision-0.15.2%2Bcu118-cp311-cp311-linux_x86_64.whl (6.1 MB)\n",
            "Collecting torchaudio==2.0.2\n",
            "  Using cached https://download.pytorch.org/whl/cu118/torchaudio-2.0.2%2Bcu118-cp311-cp311-linux_x86_64.whl (4.4 MB)\n",
            "Requirement already satisfied: filelock in /usr/local/lib/python3.11/dist-packages (from torch==2.0.1+cu118) (3.18.0)\n",
            "Requirement already satisfied: typing-extensions in /usr/local/lib/python3.11/dist-packages (from torch==2.0.1+cu118) (4.13.1)\n",
            "Requirement already satisfied: sympy in /usr/local/lib/python3.11/dist-packages (from torch==2.0.1+cu118) (1.13.1)\n",
            "Requirement already satisfied: networkx in /usr/local/lib/python3.11/dist-packages (from torch==2.0.1+cu118) (3.4.2)\n",
            "Requirement already satisfied: jinja2 in /usr/local/lib/python3.11/dist-packages (from torch==2.0.1+cu118) (3.1.6)\n",
            "Collecting triton==2.0.0 (from torch==2.0.1+cu118)\n",
            "  Using cached https://download.pytorch.org/whl/triton-2.0.0-1-cp311-cp311-manylinux2014_x86_64.manylinux_2_17_x86_64.whl (63.3 MB)\n",
            "Requirement already satisfied: numpy in /usr/local/lib/python3.11/dist-packages (from torchvision==0.15.2+cu118) (2.2.4)\n",
            "Requirement already satisfied: requests in /usr/local/lib/python3.11/dist-packages (from torchvision==0.15.2+cu118) (2.32.3)\n",
            "Requirement already satisfied: pillow!=8.3.*,>=5.3.0 in /usr/local/lib/python3.11/dist-packages (from torchvision==0.15.2+cu118) (11.1.0)\n",
            "Requirement already satisfied: cmake in /usr/local/lib/python3.11/dist-packages (from triton==2.0.0->torch==2.0.1+cu118) (3.31.6)\n",
            "Requirement already satisfied: lit in /usr/local/lib/python3.11/dist-packages (from triton==2.0.0->torch==2.0.1+cu118) (15.0.7)\n",
            "Requirement already satisfied: MarkupSafe>=2.0 in /usr/local/lib/python3.11/dist-packages (from jinja2->torch==2.0.1+cu118) (3.0.2)\n",
            "Requirement already satisfied: charset-normalizer<4,>=2 in /usr/local/lib/python3.11/dist-packages (from requests->torchvision==0.15.2+cu118) (3.4.1)\n",
            "Requirement already satisfied: idna<4,>=2.5 in /usr/local/lib/python3.11/dist-packages (from requests->torchvision==0.15.2+cu118) (3.10)\n",
            "Requirement already satisfied: urllib3<3,>=1.21.1 in /usr/local/lib/python3.11/dist-packages (from requests->torchvision==0.15.2+cu118) (2.3.0)\n",
            "Requirement already satisfied: certifi>=2017.4.17 in /usr/local/lib/python3.11/dist-packages (from requests->torchvision==0.15.2+cu118) (2025.1.31)\n",
            "Requirement already satisfied: mpmath<1.4,>=1.1.0 in /usr/local/lib/python3.11/dist-packages (from sympy->torch==2.0.1+cu118) (1.3.0)\n",
            "Installing collected packages: triton, torch, torchvision, torchaudio\n",
            "  Attempting uninstall: triton\n",
            "    Found existing installation: triton 3.2.0\n",
            "    Uninstalling triton-3.2.0:\n",
            "      Successfully uninstalled triton-3.2.0\n",
            "  Attempting uninstall: torch\n",
            "    Found existing installation: torch 2.6.0+cu118\n",
            "    Uninstalling torch-2.6.0+cu118:\n",
            "      Successfully uninstalled torch-2.6.0+cu118\n",
            "  Attempting uninstall: torchvision\n",
            "    Found existing installation: torchvision 0.21.0+cu118\n",
            "    Uninstalling torchvision-0.21.0+cu118:\n",
            "      Successfully uninstalled torchvision-0.21.0+cu118\n",
            "  Attempting uninstall: torchaudio\n",
            "    Found existing installation: torchaudio 2.6.0+cu118\n",
            "    Uninstalling torchaudio-2.6.0+cu118:\n",
            "      Successfully uninstalled torchaudio-2.6.0+cu118\n",
            "\u001b[31mERROR: pip's dependency resolver does not currently take into account all the packages that are installed. This behaviour is the source of the following dependency conflicts.\n",
            "ultralytics 8.3.104 requires numpy<=2.1.1,>=1.23.0, but you have numpy 2.2.4 which is incompatible.\u001b[0m\u001b[31m\n",
            "\u001b[0mSuccessfully installed torch-2.0.1+cu118 torchaudio-2.0.2+cu118 torchvision-0.15.2+cu118 triton-2.0.0\n"
          ]
        }
      ],
      "source": [
        "!pip install torch==2.0.1+cu118 torchvision==0.15.2+cu118 torchaudio==2.0.2 --index-url https://download.pytorch.org/whl/cu118\n"
      ]
    },
    {
      "cell_type": "code",
      "execution_count": 6,
      "metadata": {
        "colab": {
          "base_uri": "https://localhost:8080/"
        },
        "id": "bWZah_HtXwjU",
        "outputId": "e18aa0e7-e116-4de4-f3e4-bb60c1561251"
      },
      "outputs": [
        {
          "output_type": "stream",
          "name": "stdout",
          "text": [
            "Cloning into 'yolov5'...\n",
            "remote: Enumerating objects: 17372, done.\u001b[K\n",
            "remote: Counting objects: 100% (64/64), done.\u001b[K\n",
            "remote: Compressing objects: 100% (42/42), done.\u001b[K\n",
            "remote: Total 17372 (delta 44), reused 24 (delta 22), pack-reused 17308 (from 2)\u001b[K\n",
            "Receiving objects: 100% (17372/17372), 16.26 MiB | 23.51 MiB/s, done.\n",
            "Resolving deltas: 100% (11909/11909), done.\n"
          ]
        }
      ],
      "source": [
        "!rm -rf yolov5\n",
        "!git clone https://github.com/ultralytics/yolov5\n"
      ]
    },
    {
      "cell_type": "code",
      "execution_count": 7,
      "metadata": {
        "colab": {
          "base_uri": "https://localhost:8080/"
        },
        "id": "HOkTm3YAYU-U",
        "outputId": "9c805c37-77e6-4cfb-b03c-9de61b5ddbc8"
      },
      "outputs": [
        {
          "output_type": "stream",
          "name": "stdout",
          "text": [
            "Requirement already satisfied: gitpython>=3.1.30 in /usr/local/lib/python3.11/dist-packages (from -r /content/yolov5/requirements.txt (line 5)) (3.1.44)\n",
            "Requirement already satisfied: matplotlib>=3.3 in /usr/local/lib/python3.11/dist-packages (from -r /content/yolov5/requirements.txt (line 6)) (3.10.0)\n",
            "Requirement already satisfied: numpy>=1.23.5 in /usr/local/lib/python3.11/dist-packages (from -r /content/yolov5/requirements.txt (line 7)) (1.26.4)\n",
            "Requirement already satisfied: opencv-python>=4.1.1 in /usr/local/lib/python3.11/dist-packages (from -r /content/yolov5/requirements.txt (line 8)) (4.11.0.86)\n",
            "Requirement already satisfied: pillow>=10.3.0 in /usr/local/lib/python3.11/dist-packages (from -r /content/yolov5/requirements.txt (line 9)) (11.1.0)\n",
            "Requirement already satisfied: psutil in /usr/local/lib/python3.11/dist-packages (from -r /content/yolov5/requirements.txt (line 10)) (5.9.5)\n",
            "Requirement already satisfied: PyYAML>=5.3.1 in /usr/local/lib/python3.11/dist-packages (from -r /content/yolov5/requirements.txt (line 11)) (6.0.2)\n",
            "Requirement already satisfied: requests>=2.32.2 in /usr/local/lib/python3.11/dist-packages (from -r /content/yolov5/requirements.txt (line 12)) (2.32.3)\n",
            "Requirement already satisfied: scipy>=1.4.1 in /usr/local/lib/python3.11/dist-packages (from -r /content/yolov5/requirements.txt (line 13)) (1.14.1)\n",
            "Requirement already satisfied: thop>=0.1.1 in /usr/local/lib/python3.11/dist-packages (from -r /content/yolov5/requirements.txt (line 14)) (0.1.1.post2209072238)\n",
            "Requirement already satisfied: torch>=1.8.0 in /usr/local/lib/python3.11/dist-packages (from -r /content/yolov5/requirements.txt (line 15)) (2.0.1+cu118)\n",
            "Requirement already satisfied: torchvision>=0.9.0 in /usr/local/lib/python3.11/dist-packages (from -r /content/yolov5/requirements.txt (line 16)) (0.15.2+cu118)\n",
            "Requirement already satisfied: tqdm>=4.66.3 in /usr/local/lib/python3.11/dist-packages (from -r /content/yolov5/requirements.txt (line 17)) (4.67.1)\n",
            "Requirement already satisfied: ultralytics>=8.2.34 in /usr/local/lib/python3.11/dist-packages (from -r /content/yolov5/requirements.txt (line 18)) (8.3.104)\n",
            "Requirement already satisfied: pandas>=1.1.4 in /usr/local/lib/python3.11/dist-packages (from -r /content/yolov5/requirements.txt (line 27)) (2.2.2)\n",
            "Requirement already satisfied: seaborn>=0.11.0 in /usr/local/lib/python3.11/dist-packages (from -r /content/yolov5/requirements.txt (line 28)) (0.13.2)\n",
            "Requirement already satisfied: setuptools>=70.0.0 in /usr/local/lib/python3.11/dist-packages (from -r /content/yolov5/requirements.txt (line 42)) (75.2.0)\n",
            "Requirement already satisfied: gitdb<5,>=4.0.1 in /usr/local/lib/python3.11/dist-packages (from gitpython>=3.1.30->-r /content/yolov5/requirements.txt (line 5)) (4.0.12)\n",
            "Requirement already satisfied: contourpy>=1.0.1 in /usr/local/lib/python3.11/dist-packages (from matplotlib>=3.3->-r /content/yolov5/requirements.txt (line 6)) (1.3.1)\n",
            "Requirement already satisfied: cycler>=0.10 in /usr/local/lib/python3.11/dist-packages (from matplotlib>=3.3->-r /content/yolov5/requirements.txt (line 6)) (0.12.1)\n",
            "Requirement already satisfied: fonttools>=4.22.0 in /usr/local/lib/python3.11/dist-packages (from matplotlib>=3.3->-r /content/yolov5/requirements.txt (line 6)) (4.57.0)\n",
            "Requirement already satisfied: kiwisolver>=1.3.1 in /usr/local/lib/python3.11/dist-packages (from matplotlib>=3.3->-r /content/yolov5/requirements.txt (line 6)) (1.4.8)\n",
            "Requirement already satisfied: packaging>=20.0 in /usr/local/lib/python3.11/dist-packages (from matplotlib>=3.3->-r /content/yolov5/requirements.txt (line 6)) (24.2)\n",
            "Requirement already satisfied: pyparsing>=2.3.1 in /usr/local/lib/python3.11/dist-packages (from matplotlib>=3.3->-r /content/yolov5/requirements.txt (line 6)) (3.2.3)\n",
            "Requirement already satisfied: python-dateutil>=2.7 in /usr/local/lib/python3.11/dist-packages (from matplotlib>=3.3->-r /content/yolov5/requirements.txt (line 6)) (2.8.2)\n",
            "Requirement already satisfied: charset-normalizer<4,>=2 in /usr/local/lib/python3.11/dist-packages (from requests>=2.32.2->-r /content/yolov5/requirements.txt (line 12)) (3.4.1)\n",
            "Requirement already satisfied: idna<4,>=2.5 in /usr/local/lib/python3.11/dist-packages (from requests>=2.32.2->-r /content/yolov5/requirements.txt (line 12)) (3.10)\n",
            "Requirement already satisfied: urllib3<3,>=1.21.1 in /usr/local/lib/python3.11/dist-packages (from requests>=2.32.2->-r /content/yolov5/requirements.txt (line 12)) (2.3.0)\n",
            "Requirement already satisfied: certifi>=2017.4.17 in /usr/local/lib/python3.11/dist-packages (from requests>=2.32.2->-r /content/yolov5/requirements.txt (line 12)) (2025.1.31)\n",
            "Requirement already satisfied: filelock in /usr/local/lib/python3.11/dist-packages (from torch>=1.8.0->-r /content/yolov5/requirements.txt (line 15)) (3.18.0)\n",
            "Requirement already satisfied: typing-extensions in /usr/local/lib/python3.11/dist-packages (from torch>=1.8.0->-r /content/yolov5/requirements.txt (line 15)) (4.13.1)\n",
            "Requirement already satisfied: sympy in /usr/local/lib/python3.11/dist-packages (from torch>=1.8.0->-r /content/yolov5/requirements.txt (line 15)) (1.13.1)\n",
            "Requirement already satisfied: networkx in /usr/local/lib/python3.11/dist-packages (from torch>=1.8.0->-r /content/yolov5/requirements.txt (line 15)) (3.4.2)\n",
            "Requirement already satisfied: jinja2 in /usr/local/lib/python3.11/dist-packages (from torch>=1.8.0->-r /content/yolov5/requirements.txt (line 15)) (3.1.6)\n",
            "Requirement already satisfied: triton==2.0.0 in /usr/local/lib/python3.11/dist-packages (from torch>=1.8.0->-r /content/yolov5/requirements.txt (line 15)) (2.0.0)\n",
            "Requirement already satisfied: cmake in /usr/local/lib/python3.11/dist-packages (from triton==2.0.0->torch>=1.8.0->-r /content/yolov5/requirements.txt (line 15)) (3.31.6)\n",
            "Requirement already satisfied: lit in /usr/local/lib/python3.11/dist-packages (from triton==2.0.0->torch>=1.8.0->-r /content/yolov5/requirements.txt (line 15)) (15.0.7)\n",
            "Requirement already satisfied: py-cpuinfo in /usr/local/lib/python3.11/dist-packages (from ultralytics>=8.2.34->-r /content/yolov5/requirements.txt (line 18)) (9.0.0)\n",
            "Requirement already satisfied: ultralytics-thop>=2.0.0 in /usr/local/lib/python3.11/dist-packages (from ultralytics>=8.2.34->-r /content/yolov5/requirements.txt (line 18)) (2.0.14)\n",
            "Requirement already satisfied: pytz>=2020.1 in /usr/local/lib/python3.11/dist-packages (from pandas>=1.1.4->-r /content/yolov5/requirements.txt (line 27)) (2025.2)\n",
            "Requirement already satisfied: tzdata>=2022.7 in /usr/local/lib/python3.11/dist-packages (from pandas>=1.1.4->-r /content/yolov5/requirements.txt (line 27)) (2025.2)\n",
            "Requirement already satisfied: smmap<6,>=3.0.1 in /usr/local/lib/python3.11/dist-packages (from gitdb<5,>=4.0.1->gitpython>=3.1.30->-r /content/yolov5/requirements.txt (line 5)) (5.0.2)\n",
            "Requirement already satisfied: six>=1.5 in /usr/local/lib/python3.11/dist-packages (from python-dateutil>=2.7->matplotlib>=3.3->-r /content/yolov5/requirements.txt (line 6)) (1.17.0)\n",
            "Requirement already satisfied: MarkupSafe>=2.0 in /usr/local/lib/python3.11/dist-packages (from jinja2->torch>=1.8.0->-r /content/yolov5/requirements.txt (line 15)) (3.0.2)\n",
            "Requirement already satisfied: mpmath<1.4,>=1.1.0 in /usr/local/lib/python3.11/dist-packages (from sympy->torch>=1.8.0->-r /content/yolov5/requirements.txt (line 15)) (1.3.0)\n"
          ]
        }
      ],
      "source": [
        "!pip install -r /content/yolov5/requirements.txt\n"
      ]
    },
    {
      "cell_type": "code",
      "source": [
        "\n",
        "# Remove broken numpy and scipy versions\n",
        "!pip uninstall -y numpy scipy\n",
        "!pip install numpy==1.26.4 scipy==1.11.4 --force-reinstall\n",
        "\n"
      ],
      "metadata": {
        "id": "FKJv9gj-Ph39",
        "outputId": "5fecba80-db7f-4063-cbfc-3915b194ee7f",
        "colab": {
          "base_uri": "https://localhost:8080/"
        }
      },
      "execution_count": 10,
      "outputs": [
        {
          "output_type": "stream",
          "name": "stdout",
          "text": [
            "Found existing installation: numpy 1.26.4\n",
            "Uninstalling numpy-1.26.4:\n",
            "  Successfully uninstalled numpy-1.26.4\n",
            "Found existing installation: scipy 1.14.1\n",
            "Uninstalling scipy-1.14.1:\n",
            "  Successfully uninstalled scipy-1.14.1\n",
            "Collecting numpy==1.26.4\n",
            "  Using cached numpy-1.26.4-cp311-cp311-manylinux_2_17_x86_64.manylinux2014_x86_64.whl.metadata (61 kB)\n",
            "Collecting scipy==1.11.4\n",
            "  Downloading scipy-1.11.4-cp311-cp311-manylinux_2_17_x86_64.manylinux2014_x86_64.whl.metadata (60 kB)\n",
            "\u001b[2K     \u001b[90m━━━━━━━━━━━━━━━━━━━━━━━━━━━━━━━━━━━━━━━━\u001b[0m \u001b[32m60.4/60.4 kB\u001b[0m \u001b[31m3.8 MB/s\u001b[0m eta \u001b[36m0:00:00\u001b[0m\n",
            "\u001b[?25hUsing cached numpy-1.26.4-cp311-cp311-manylinux_2_17_x86_64.manylinux2014_x86_64.whl (18.3 MB)\n",
            "Downloading scipy-1.11.4-cp311-cp311-manylinux_2_17_x86_64.manylinux2014_x86_64.whl (36.4 MB)\n",
            "\u001b[2K   \u001b[90m━━━━━━━━━━━━━━━━━━━━━━━━━━━━━━━━━━━━━━━━\u001b[0m \u001b[32m36.4/36.4 MB\u001b[0m \u001b[31m15.3 MB/s\u001b[0m eta \u001b[36m0:00:00\u001b[0m\n",
            "\u001b[?25hInstalling collected packages: numpy, scipy\n",
            "Successfully installed numpy-1.26.4 scipy-1.11.4\n"
          ]
        }
      ]
    },
    {
      "cell_type": "code",
      "execution_count": 1,
      "metadata": {
        "id": "0kwq6o9xYiof",
        "colab": {
          "base_uri": "https://localhost:8080/"
        },
        "outputId": "94b2c42b-9d9b-4657-e5ca-4d8e4f6f7a4b"
      },
      "outputs": [
        {
          "output_type": "stream",
          "name": "stderr",
          "text": [
            "Using cache found in /root/.cache/torch/hub/ultralytics_yolov5_master\n",
            "YOLOv5 🚀 2025-4-8 Python-3.11.11 torch-2.0.1+cu118 CPU\n",
            "\n",
            "Fusing layers... \n",
            "YOLOv5s summary: 213 layers, 7225885 parameters, 0 gradients\n",
            "Adding AutoShape... \n"
          ]
        }
      ],
      "source": [
        "import cv2\n",
        "import numpy as np\n",
        "import torch\n",
        "import time\n",
        "from scipy.spatial import distance as dist\n",
        "from IPython.display import display, clear_output\n",
        "from matplotlib import pyplot as plt\n",
        "\n",
        "model = torch.hub.load('ultralytics/yolov5', 'yolov5s')\n"
      ]
    },
    {
      "cell_type": "code",
      "source": [
        "def eye_aspect_ratio(eye):\n",
        "    A = dist.euclidean(eye[1], eye[5])\n",
        "    B = dist.euclidean(eye[2], eye[4])\n",
        "    C = dist.euclidean(eye[0], eye[3])\n",
        "    ear = (A + B) / (2.0 * C)\n",
        "    return ear\n"
      ],
      "metadata": {
        "id": "yHAMWjnPaeuG"
      },
      "execution_count": 2,
      "outputs": []
    },
    {
      "cell_type": "code",
      "source": [
        "from google.colab import files\n",
        "uploaded = files.upload()"
      ],
      "metadata": {
        "colab": {
          "base_uri": "https://localhost:8080/",
          "height": 73
        },
        "id": "9iTDEXbOoeUL",
        "outputId": "7e778c89-ce4b-4038-db18-f71492436d98"
      },
      "execution_count": 3,
      "outputs": [
        {
          "output_type": "display_data",
          "data": {
            "text/plain": [
              "<IPython.core.display.HTML object>"
            ],
            "text/html": [
              "\n",
              "     <input type=\"file\" id=\"files-b5a74c73-9d20-4263-8609-b9ebc0dbada5\" name=\"files[]\" multiple disabled\n",
              "        style=\"border:none\" />\n",
              "     <output id=\"result-b5a74c73-9d20-4263-8609-b9ebc0dbada5\">\n",
              "      Upload widget is only available when the cell has been executed in the\n",
              "      current browser session. Please rerun this cell to enable.\n",
              "      </output>\n",
              "      <script>// Copyright 2017 Google LLC\n",
              "//\n",
              "// Licensed under the Apache License, Version 2.0 (the \"License\");\n",
              "// you may not use this file except in compliance with the License.\n",
              "// You may obtain a copy of the License at\n",
              "//\n",
              "//      http://www.apache.org/licenses/LICENSE-2.0\n",
              "//\n",
              "// Unless required by applicable law or agreed to in writing, software\n",
              "// distributed under the License is distributed on an \"AS IS\" BASIS,\n",
              "// WITHOUT WARRANTIES OR CONDITIONS OF ANY KIND, either express or implied.\n",
              "// See the License for the specific language governing permissions and\n",
              "// limitations under the License.\n",
              "\n",
              "/**\n",
              " * @fileoverview Helpers for google.colab Python module.\n",
              " */\n",
              "(function(scope) {\n",
              "function span(text, styleAttributes = {}) {\n",
              "  const element = document.createElement('span');\n",
              "  element.textContent = text;\n",
              "  for (const key of Object.keys(styleAttributes)) {\n",
              "    element.style[key] = styleAttributes[key];\n",
              "  }\n",
              "  return element;\n",
              "}\n",
              "\n",
              "// Max number of bytes which will be uploaded at a time.\n",
              "const MAX_PAYLOAD_SIZE = 100 * 1024;\n",
              "\n",
              "function _uploadFiles(inputId, outputId) {\n",
              "  const steps = uploadFilesStep(inputId, outputId);\n",
              "  const outputElement = document.getElementById(outputId);\n",
              "  // Cache steps on the outputElement to make it available for the next call\n",
              "  // to uploadFilesContinue from Python.\n",
              "  outputElement.steps = steps;\n",
              "\n",
              "  return _uploadFilesContinue(outputId);\n",
              "}\n",
              "\n",
              "// This is roughly an async generator (not supported in the browser yet),\n",
              "// where there are multiple asynchronous steps and the Python side is going\n",
              "// to poll for completion of each step.\n",
              "// This uses a Promise to block the python side on completion of each step,\n",
              "// then passes the result of the previous step as the input to the next step.\n",
              "function _uploadFilesContinue(outputId) {\n",
              "  const outputElement = document.getElementById(outputId);\n",
              "  const steps = outputElement.steps;\n",
              "\n",
              "  const next = steps.next(outputElement.lastPromiseValue);\n",
              "  return Promise.resolve(next.value.promise).then((value) => {\n",
              "    // Cache the last promise value to make it available to the next\n",
              "    // step of the generator.\n",
              "    outputElement.lastPromiseValue = value;\n",
              "    return next.value.response;\n",
              "  });\n",
              "}\n",
              "\n",
              "/**\n",
              " * Generator function which is called between each async step of the upload\n",
              " * process.\n",
              " * @param {string} inputId Element ID of the input file picker element.\n",
              " * @param {string} outputId Element ID of the output display.\n",
              " * @return {!Iterable<!Object>} Iterable of next steps.\n",
              " */\n",
              "function* uploadFilesStep(inputId, outputId) {\n",
              "  const inputElement = document.getElementById(inputId);\n",
              "  inputElement.disabled = false;\n",
              "\n",
              "  const outputElement = document.getElementById(outputId);\n",
              "  outputElement.innerHTML = '';\n",
              "\n",
              "  const pickedPromise = new Promise((resolve) => {\n",
              "    inputElement.addEventListener('change', (e) => {\n",
              "      resolve(e.target.files);\n",
              "    });\n",
              "  });\n",
              "\n",
              "  const cancel = document.createElement('button');\n",
              "  inputElement.parentElement.appendChild(cancel);\n",
              "  cancel.textContent = 'Cancel upload';\n",
              "  const cancelPromise = new Promise((resolve) => {\n",
              "    cancel.onclick = () => {\n",
              "      resolve(null);\n",
              "    };\n",
              "  });\n",
              "\n",
              "  // Wait for the user to pick the files.\n",
              "  const files = yield {\n",
              "    promise: Promise.race([pickedPromise, cancelPromise]),\n",
              "    response: {\n",
              "      action: 'starting',\n",
              "    }\n",
              "  };\n",
              "\n",
              "  cancel.remove();\n",
              "\n",
              "  // Disable the input element since further picks are not allowed.\n",
              "  inputElement.disabled = true;\n",
              "\n",
              "  if (!files) {\n",
              "    return {\n",
              "      response: {\n",
              "        action: 'complete',\n",
              "      }\n",
              "    };\n",
              "  }\n",
              "\n",
              "  for (const file of files) {\n",
              "    const li = document.createElement('li');\n",
              "    li.append(span(file.name, {fontWeight: 'bold'}));\n",
              "    li.append(span(\n",
              "        `(${file.type || 'n/a'}) - ${file.size} bytes, ` +\n",
              "        `last modified: ${\n",
              "            file.lastModifiedDate ? file.lastModifiedDate.toLocaleDateString() :\n",
              "                                    'n/a'} - `));\n",
              "    const percent = span('0% done');\n",
              "    li.appendChild(percent);\n",
              "\n",
              "    outputElement.appendChild(li);\n",
              "\n",
              "    const fileDataPromise = new Promise((resolve) => {\n",
              "      const reader = new FileReader();\n",
              "      reader.onload = (e) => {\n",
              "        resolve(e.target.result);\n",
              "      };\n",
              "      reader.readAsArrayBuffer(file);\n",
              "    });\n",
              "    // Wait for the data to be ready.\n",
              "    let fileData = yield {\n",
              "      promise: fileDataPromise,\n",
              "      response: {\n",
              "        action: 'continue',\n",
              "      }\n",
              "    };\n",
              "\n",
              "    // Use a chunked sending to avoid message size limits. See b/62115660.\n",
              "    let position = 0;\n",
              "    do {\n",
              "      const length = Math.min(fileData.byteLength - position, MAX_PAYLOAD_SIZE);\n",
              "      const chunk = new Uint8Array(fileData, position, length);\n",
              "      position += length;\n",
              "\n",
              "      const base64 = btoa(String.fromCharCode.apply(null, chunk));\n",
              "      yield {\n",
              "        response: {\n",
              "          action: 'append',\n",
              "          file: file.name,\n",
              "          data: base64,\n",
              "        },\n",
              "      };\n",
              "\n",
              "      let percentDone = fileData.byteLength === 0 ?\n",
              "          100 :\n",
              "          Math.round((position / fileData.byteLength) * 100);\n",
              "      percent.textContent = `${percentDone}% done`;\n",
              "\n",
              "    } while (position < fileData.byteLength);\n",
              "  }\n",
              "\n",
              "  // All done.\n",
              "  yield {\n",
              "    response: {\n",
              "      action: 'complete',\n",
              "    }\n",
              "  };\n",
              "}\n",
              "\n",
              "scope.google = scope.google || {};\n",
              "scope.google.colab = scope.google.colab || {};\n",
              "scope.google.colab._files = {\n",
              "  _uploadFiles,\n",
              "  _uploadFilesContinue,\n",
              "};\n",
              "})(self);\n",
              "</script> "
            ]
          },
          "metadata": {}
        },
        {
          "output_type": "stream",
          "name": "stdout",
          "text": [
            "Saving download (1).jpg to download (1) (1).jpg\n"
          ]
        }
      ]
    },
    {
      "cell_type": "code",
      "source": [
        "from google.colab import files\n",
        "files.download(\"download.jpg\")\n"
      ],
      "metadata": {
        "id": "UeElitwLFoMq",
        "outputId": "38a783a2-d3a8-40ec-e9ad-700b5dd758d5",
        "colab": {
          "base_uri": "https://localhost:8080/",
          "height": 17
        }
      },
      "execution_count": 4,
      "outputs": [
        {
          "output_type": "display_data",
          "data": {
            "text/plain": [
              "<IPython.core.display.Javascript object>"
            ],
            "application/javascript": [
              "\n",
              "    async function download(id, filename, size) {\n",
              "      if (!google.colab.kernel.accessAllowed) {\n",
              "        return;\n",
              "      }\n",
              "      const div = document.createElement('div');\n",
              "      const label = document.createElement('label');\n",
              "      label.textContent = `Downloading \"${filename}\": `;\n",
              "      div.appendChild(label);\n",
              "      const progress = document.createElement('progress');\n",
              "      progress.max = size;\n",
              "      div.appendChild(progress);\n",
              "      document.body.appendChild(div);\n",
              "\n",
              "      const buffers = [];\n",
              "      let downloaded = 0;\n",
              "\n",
              "      const channel = await google.colab.kernel.comms.open(id);\n",
              "      // Send a message to notify the kernel that we're ready.\n",
              "      channel.send({})\n",
              "\n",
              "      for await (const message of channel.messages) {\n",
              "        // Send a message to notify the kernel that we're ready.\n",
              "        channel.send({})\n",
              "        if (message.buffers) {\n",
              "          for (const buffer of message.buffers) {\n",
              "            buffers.push(buffer);\n",
              "            downloaded += buffer.byteLength;\n",
              "            progress.value = downloaded;\n",
              "          }\n",
              "        }\n",
              "      }\n",
              "      const blob = new Blob(buffers, {type: 'application/binary'});\n",
              "      const a = document.createElement('a');\n",
              "      a.href = window.URL.createObjectURL(blob);\n",
              "      a.download = filename;\n",
              "      div.appendChild(a);\n",
              "      a.click();\n",
              "      div.remove();\n",
              "    }\n",
              "  "
            ]
          },
          "metadata": {}
        },
        {
          "output_type": "display_data",
          "data": {
            "text/plain": [
              "<IPython.core.display.Javascript object>"
            ],
            "application/javascript": [
              "download(\"download_83a1d1c2-e613-4131-9d5a-8d9fa7a7d450\", \"download.jpg\", 3330)"
            ]
          },
          "metadata": {}
        }
      ]
    },
    {
      "cell_type": "code",
      "source": [
        "# 🖼️ Read and display the uploaded image\n",
        "import cv2\n",
        "from matplotlib import pyplot as plt\n",
        "\n",
        "# Check uploaded\n",
        "print(\"Uploaded:\", uploaded)\n",
        "\n",
        "# Get the uploaded file name\n",
        "image_path = list(uploaded.keys())[0]\n",
        "\n",
        "# Read the image using OpenCV\n",
        "img = cv2.imread(image_path)\n",
        "if img is None:\n",
        "    print(\"❌ Failed to load image. Check filename or try re-uploading.\")\n",
        "else:\n",
        "    # Convert BGR to RGB\n",
        "    img_rgb = cv2.cvtColor(img, cv2.COLOR_BGR2RGB)\n",
        "\n",
        "    # Display the image\n",
        "    plt.figure(figsize=(6,6))\n",
        "    plt.imshow(img_rgb)\n",
        "    plt.axis('off')\n",
        "    plt.title(\"Uploaded Image\")\n",
        "    plt.show()\n"
      ],
      "metadata": {
        "colab": {
          "base_uri": "https://localhost:8080/"
        },
        "id": "2iObfEV5o9QB",
        "outputId": "2ba4127d-b2e0-4341-9dab-24eaedd87da1"
      },
      "execution_count": 5,
      "outputs": [
        {
          "output_type": "stream",
          "name": "stdout",
          "text": [
            "Uploaded: {'download (1) (1).jpg': b'\\xff\\xd8\\xff\\xe0\\x00\\x10JFIF\\x00\\x01\\x01\\x00\\x00\\x01\\x00\\x01\\x00\\x00\\xff\\xdb\\x00\\x84\\x00\\t\\x06\\x07\\x08\\x07\\x06\\t\\x08\\x07\\x08\\n\\n\\t\\x0b\\r\\x16\\x0f\\r\\x0c\\x0c\\r\\x1b\\x14\\x15\\x10\\x16 \\x1d\"\" \\x1d\\x1f\\x1f$(4,$&1\\'\\x1f\\x1f-=-157:::#+?D?8C49:7\\x01\\n\\n\\n\\r\\x0c\\r\\x1a\\x0f\\x0f\\x1a7%\\x1f%77777777777777777777777777777777777777777777777777\\xff\\xc0\\x00\\x11\\x08\\x00\\x94\\x00\\xb8\\x03\\x01\"\\x00\\x02\\x11\\x01\\x03\\x11\\x01\\xff\\xc4\\x00\\x1c\\x00\\x01\\x00\\x02\\x03\\x01\\x01\\x01\\x00\\x00\\x00\\x00\\x00\\x00\\x00\\x00\\x00\\x00\\x05\\x06\\x03\\x04\\x07\\x02\\x01\\x08\\xff\\xc4\\x00;\\x10\\x00\\x01\\x03\\x02\\x04\\x04\\x03\\x05\\x05\\x06\\x07\\x00\\x00\\x00\\x00\\x00\\x01\\x00\\x02\\x03\\x04\\x11\\x05\\x12!1\\x06\\x13AQ\"aq\\x072\\x81\\x91\\xa1#\\xb1\\xc1\\xd1\\xf0\\x14$BRb\\xf1\\x15\\x163Sr\\x82\\xe1\\xff\\xc4\\x00\\x19\\x01\\x01\\x00\\x03\\x01\\x01\\x00\\x00\\x00\\x00\\x00\\x00\\x00\\x00\\x00\\x00\\x00\\x00\\x01\\x03\\x04\\x02\\x05\\xff\\xc4\\x00 \\x11\\x00\\x02\\x02\\x02\\x03\\x01\\x01\\x01\\x01\\x00\\x00\\x00\\x00\\x00\\x00\\x00\\x00\\x01\\x02\\x11\\x03!\\x1212\\x04A\"Q\\xff\\xda\\x00\\x0c\\x03\\x01\\x00\\x02\\x11\\x03\\x11\\x00?\\x00\\xee(\\x88\\x80\"\"\\x00\\x88\\x88\\x02\" \\x0b\\xcb\\x9c\\xd6\\xb4\\x97\\x10\\x00\\xeaV\\x961\\x8b\\xd0\\xe0\\xd4f\\xab\\x12\\x9cC\\x15\\xf2\\x83bK\\x9d\\xb8\\x00\\r\\xce\\x85q~1\\xe3\\xda\\xccm\\xd2\\xd1\\xb5\\xa6\\x9e\\x8b5\\xb9`\\xfb\\xc3\\xb9=}6\\xfb\\xd46JV_\\xf8\\xaf\\xda>\\x19\\x82L\\xeaZ@*\\xea\\x80$\\xd9\\xd6\\x8d\\xbe\\xae\\xef\\xe4\\x15\\x0e\\xaf\\xda\\xde8\\xf9\\xdci\\xc5\\x14b\\xf6\\x0c\\xcb\\xa0\\x1e\\xa4\\xaa\\x01t\\xd3\\xccY\\x1b\\x03\\x9e\\xf3w5\\xba\\x92\\xb3E\\x81\\xe2/{\\xe2m\\x13^Y\\xa9\\x12Y\\xa0\\x9f\"\\xabsK\\xb6Z\\xb1\\xb7\\xf8_(=\\xaa\\xe3t\\xf59\\xa7\\x8e*\\xb8\\xf5\\xcc\\xcd\\x1bs\\xd2\\xc4l\\xae\\xdc;\\xedC\\x02\\xc6%e<\\xbc\\xcaI\\xdf\\xfe\\xe0\\xbb/m\\xb3.\\x05UC=+Nj)Xz\\x86\\x9b\\xb7\\xe8\\xb1\\x9a\\x90\\xf7\\xc7\\x1b\\xa3{\\x01\\x1e\\xf0u\\xc5\\xff\\x00Z)R\\xbe\\x88pk\\xb4~\\xbak\\x83\\xacA\\xb8:\\x85\\xe9q\\x8fg\\xbe\\xd1f\\xa6\\x14\\xd4\\x18\\xb9s\\xe9\\x8bC\\x18\\xf7\\xe8\\xe8\\xad\\xd4\\xf7\\x1f\\x92\\xec\\xb1\\xc8\\xd9X\\xd7\\xc6\\xe0\\xe68]\\xaei\\xb8!v\\x9d\\x95\\xb5G\\xa4DR@DD\\x01\\x11\\x10\\x04D@\\x11\\x11\\x00DD\\x01\\x11\\x10\\x05\\xe2i\\x19\\x0co\\x92Gec\\x1a\\\\\\xe3\\xd8\\x05\\xedS\\xfd\\xa4\\xe2F\\x9b\\te\\x1c$\\xf3j]\\xb0?\\xc2\\xdd\\xc7\\xc7E\\x12t\\xac\\x98\\xabtR8\\xe3\\x1a\\xa9\\xe2*\\xb9!\\xa6\\x0f4\\xd1\\xdd\\xb11\\x8e\\xd4\\x9e\\xfe\\xa7\\xf5\\xd5`\\xc08E\\xad\\x9d\\xb5x\\xa3Z\\xf92\\xd9\\xac:\\xe5>jo\\x01\\xc2\\xc5=0|\\xba\\xca\\xed\\xc9\\xe8\\xa6\\x1a\\xcb;A\\xa2\\xf3\\xe7\\x96OH\\xf4\\xb1\\xe2\\x8a<\\xd3a\\xb4\\xb0\\x8bCO\\x0bG\\xf4\\xb0\\x05\\x92J\\x08\\x88\\xd26\\xdf\\xbd\\xb5[\\x90h\\x05\\xc2\\xf6\\xf7\\x0b\\x1d-\\xa2\\xaa\\xaf\\xb2\\xdb\\xae\\x88*\\xac2\\x12\\xc2\\xd7\\xc4\\xd2\\x0fK*\\xde7\\xc2t5\\xf1Y\\x97\\x82@4s-\\xf5Wz\\x8b9\\xbavP\\xf5\\x17\\xbe\\xc6\\xcb\\x9bqz:\\xa5%\\xb3\\x91\\xd7\\xe0\\xd5\\xb8ES\\x193\\xf9\\xb1\\x8b\\x8d\\x06\\xe3\\xfb.\\xb7\\xec\\x8f\\x8a\\rT\\x0e\\xc1+\\x1d\\x96H\\x86zb\\\\Nf\\xf5h\\'\\xb7o^\\xca:\\xae\\x8a\\x1a\\xc6\\x86\\xce\\xc6\\xb8\\r\\xb4T\\xd9\\x19?\\x0f\\xe3\\x94\\xf3S=\\xc3$\\xa1\\xecv\\xd67:\\xfd\\xe0\\xf7\\x05m\\xc5\\x96\\xfb0\\xe5\\xc3]\\x1f\\xa4\\x11ka\\xb5M\\xae\\xc3\\xa9j\\xd8\\x08l\\xf0\\xb2A}\\xec\\xe0\\x0f\\xe2\\xb6V\\xb3\\x18DD\\x01\\x11\\x10\\x04D@\\x11\\x11\\x00DD\\x01\\x11\\x10\\x1f\\x0e\\xcb\\x9b\\xf1\\xcb[S\\xc6T\\x14\\xc0\\x92\\xe0\\xc6\\x17\\x0bh\\x05\\xdc\\x7f\\x05\\xd2U\\x13\\x1d\\x89\\xae\\xe3\\xea\\x7f*L\\xc4z\\\\~*\\xbc\\xbeK1z\\x04\\xb2\\x1b\\xe66\\x1b5\\xa0\\\\\\x9f\\x82\\xd1\\xad\\xc4\\xaah\\xfcB\\x81\\xeeoR]e\\xb5VCg\\x0e\\x1a\\xb8\\xe8\\n\\xcf\\xfb8\\x92\\x02\\xf7\\xbfa\\xa8\\xba\\xf3og\\xaa\\xba\\xd9\\xa3\\x87q%%g\\x84\\xb5\\xd1?\\xab\\\\\\xa6b\\x9a)\\x1aI:*}U+a\\x98\\xbe\\x9c\\x82/\\xee\\xd9LS:A@_c`\\x14)\\x9dK\\x1a\\xad\\x1b\\xd5U0\\xc6\\xc3\\xab@\\n\\xbb\\x88ct\\x0cvSU\\x10\\xff\\x00\\xb5\\xd4M}\\\\\\xb5\\x95\\x06\\x9e\"\\xe26\\xddn\\xd2p\\xc44p\\n\\x8a\\xa0\\xc7=\\xdb\\\\h\\x96\\x9fc\\x8bF\\xc5-L\\x15zS\\xca\\x1e\\xe1\\xd0(~-\\xa1\\x0e\\xa4\\x8e\\xabl\\x8f\\xca\\xf1\\xde\\xebnfC\\xce\\x1c\\xb1\\x91\\xe3g\\xb7B\\x16\\xef\\x10E\\xcc\\xe1Z\\x87H\\xe0^\\xd0\\xc7\\xdcir\\x1c\\x15\\xb8\\xaa\\xca3i\\x17og\\xd5SU\\xf0\\xa5\\x13\\xe7`icLm \\xfb\\xcd\\x06\\xc0\\xab\"\\xad{<\\x84\\xc3\\xc1\\xf8e\\xdc\\\\_\\x16{\\x93{\\\\\\xab*\\xf4WG\\x98\\xfb\\x08\\x88\\xa4\\x80\\x88\\x88\\x02\" \\x08\\x88\\x80\"\"\\x00\\x88\\x88\\x0f\\x8a\\xbd\\x8c\\xd3\\xc5&+\\x15c\\x1c\\xd2\\xf8\\xe0|oh:\\xeaA\\x1f\\x8a\\xb0\\x9d\\xb5U\\xccP\\xb1\\xb8\\x9c\\xcdi\\xf1\\x18\\x83\\x88\\xed\\xaa\\xa74\\xaa%\\xd8#r \\xb1\\x08*\\x1c\\xd7>\\x99\\xads\\xed\\xa0$\\xd9U\\xa7\\xc7\\xb1\\x18s\\xc0p,C\\x98\\xed\\x0eW4\\xb4\\xfcU\\xfa\\x9a\\xc4\\xd8\\xec\\xb3I\\x03_}\\x05\\x96\\x08\\xaf\\xd3\\xd2\\x94\\xabE\\x0f\\x03\\xa6\\xae\\xaaq\\x97\\x10\\xa7l\\x0cn\\xad\\x8c<\\x97;\\xd4\\xf4VCh\\xe8\\x9e\\xce\\x84-\\x8a\\xdb1\\xc2(\\xeds\\xd1x\\x99\\xb1\\x8aw\\x12\\xf6\\xd8n.\\xb9j\\xd9\\xdaz\\xd9K\\xfd\\x86f\\xd6=\\xf0\\x06:MH\\x0f&\\xc7\\xb0\\xd3o\\xaa\\xd4\\xae\\xe2\\'F\\r=u\\x06#\\x0c\\x8d\\xeb\\x1by\\x8c\\xf8\\x1b\\xfe\\n}\\xa7\\x93T/\\xe2\\x89\\xce\\xd1\\xfd\\x89S.\\xa5\\x8a@9\\x8ck\\xc7\\xf5\\x0b\\xa2k\\xa6\\x8e\\x9b}\\xa2\\x8d\\x85O6 \\x1c\\xe8\\xa0\\x99\\xac\\xbe\\xf2\\x80\\t\\xf8]Y*\\x81w\\x0e\\xd6\\xc5)\\xb1\\x11\\\\\\x1fB\\x14\\x84\\xd1\\xc1N\\xdb1\\xad\\x1eAjT9\\x8f\\xa0\\xab\\xceC\\x18au\\xcfA\\xa2\\xea\\x13\\xd9VH\\xb6\\xb6t\\x0c\\n\\x99\\x9485\\r,N\\x0fl01\\x99\\x81\\xbd\\xec7R\\n\\x0b\\x83\\xd8\\xe6\\xe0\\x90\\x97I\\x9c\\x178\\xb3\\xc9\\xb7\\xd0|\\xb7\\xf3S\\x81zpw\\x14\\xcf&k\\x8c\\x9a>\\xa2\"\\xe8\\xe4\"\"\\x00\\x88\\x88\\x02\" \\x08\\x88\\x80\"\"\\x03\\xe1U\\xbcQ\\x8ef%!p\\x04=\\x97\\x07\\xafM>\\x8a\\xca\\xa1q\\xe8\\xc0\\x92)\\xb2\\xb8\\x92r\\\\l\\xdd\\n\\xa7<n%\\xd8%\\xc6D+f\\x11\\xc8\\xb6\\r_\\x83K\\x1b\\xa8\\x0cBg\\xc7&Qu\\xe6\\x9e\\xa8\\xb6;\\xbd\\xdf5\\xe6si\\xd1\\xeb(&\\xac\\xc3\\xc45x\\xa5,@a\\xb0\\xb6I\\xe66\\xe69\\xa5\\xc1\\xa3\\xcc\\x05\\x0b\\'\\xf9\\x8e:\\x7f\\xde\\xa9\\xe3\\x9amO\\xd8\\x8c\\xadw\\xa8\\'Ea\\x9b\\x14\\x8a7e{\\xc0\\xd2\\xe7\\xad\\x96\\t\\xf1\\xaa[\\xfd\\x8b\\x9c\\x1f\\x97w\\xb8[\\xcdY\\x14\\xda;P\\x7f\\xe1R\\x86\\xbb\\x88!\\x8eX\\xeba\\x8el\\xe2\\xc1\\x91\\xc7\\x944\\x9f2vWZ\\x1a\\xe7>\\x81\\xa6C\\xe3\\x03U\\x016,\\xcc\\xd6\\xbbd\\x1d\\xda\\xbd\\xc7]\\x1c\\xb0;\\x92\\xf1\\x98\\x0b\\x81\\xdds4\\xc7\\x14\\xb4\\xc9\\n\\xaa\\xab\\xba\\xc4\\xaf8\\x81\\x03\\x01\\xaf\\x0ek\\x9d\\x9a\\x12\\xdc\\xad\\xdf^\\xca\\x1e)_,\\xc0\\xbb\\xa1S\\x8e\\xf1M\\x87\\xd2\\x1b\\xfe\\xf3-\\xdd\\x97|\\xad\\x1f\\xfa\\x98\\xe2q\\x96UE\\xbf\\xd9\\xf55U/\\x0cR\\xc5Z- $\\x81{\\xe9\\xd1YB\\xc3E\\x17&\\x92\\x08\\xbf\\x91\\x80}\\x16u\\xea\\xc1q\\x8aG\\x8d\\x92\\\\\\xa6\\xd8DE\\xd1\\xc0DD\\x01\\x11\\x10\\x04D@\\x11\\x11\\x00DD\\x01x\\x91\\xb9\\x9a\\xe0z\\x8b/k\\xe2\\x03\\x9e\\xe2\\xf0d\\x94\\xe9k\\x1b(\\xa9bl\\xac\\xe5\\xdc\\xb6\\xfdGEr\\xe2|9\\xce\\x06\\xa6&\\xdd\\xbf\\xc6\\x00\\xbd\\x8a\\xa6\\x02D\\xa4\\x15\\xe5\\xe6\\xc6\\xe3#\\xd7\\xc1\\x97\\x94Mv3\\x0e\\xc2t\\xac\\xa6\\xe6\\x8b\\xdf\\x991/\\xbf\\xce\\xebjLw\\x87\\xcbn\"\\xa6\\xd0k|\\xba,\\xa2(\\xe6\\x19fhs\\x0e\\xe0\\xady\\xb8W\\x05{L\\x86\\x96?\\x82\\xe694hR\\xa2\\x0e\\xbb\\x19\\xc3\\xabI\\x8e\\x08a\\x94t\\xb3\\x01\\xb7\\xa2\\xd6\\xc3\\xa8c\\xa4d\\xb3\\x02\\xf1\\xcc;\\x17\\x17_\\xe6\\xa4j0\\xda*K\\x8ax\\xda\\xcfE\\xaaZ\\xe7\\x1c\\xa0\\xe8\\xa7\\x93\\x96\\x88\\x9b\\xdd\\xb3v\\x82.l\\xad\\xb7R\\xba\\x87\\x0fa\\xd06\\x8a\\x19\\xa6\\x85\\x8e\\x94\\x1c\\xd1\\xb9\\xcd\\x04\\xb3\\xd0\\xf4T\\xee\\x10\\xc2MT\\xd1\\xe76h\\xf1z\\x85\\xd2\\xa3`\\x8d\\x8dcE\\x9a\\xd1`\\x16\\xbc\\x18\\xff\\x00O;\\xea\\xc9\\xbaG\\xa4DZ\\x8cA\\x11\\x10\\x04D@\\x11\\x11\\x00DD\\x01\\x11\\x10\\x04D@\\x11\\x11\\x01\\x8a\\xa5\\xb7\\xa7\\x94_v\\x1f\\xb9q\\xfcR\\xb9\\xd4\\xd5>8\\xcb\\x9a7sw]v\\xbaQ\\x15$\\xafq\\xfe\\x12\\xb96+\\x076G\\x1b]b\\xfa\\xe5Tn\\xf8\\xe3vj\\xbb\\x19\\x88\\xb2\\xecu\\xed\\xbd\\x8e\\xcbF~!#\\xc2\\x1d\\xaa\\x8f\\xc5(Am\\xdar\\xb8u\\x05BI\\x0c\\xed?\\xea>\\xdf\\xf2+*I\\x9b\\xb98\\x93\\xff\\x00\\xe2o\\xa8u\\xb5^\\x8e)\\x1cdG\\x1by\\x8f\\xeaO\\xba\\xa1)\\x8b\\x9a.\\xe7\\x12|\\xd7\\xd8\\xef$\\xe2\\xcb\\xb4\\xa8\\xe1\\xb7#\\xb1{6{\\xa73\\xcd!\\xbb\\x83\\x00\\xfa\\xab\\xda\\xa2{2!\\x91J\\xc3\\xbb\\x9a\\n\\xbd\\xad\\xf8|\\x1ef\\x7fl\"\"\\xb4\\xa4\"\"\\x00\\x88\\x88\\x02\" \\x08\\x88\\x80\"\"\\x00\\x88\\xb0\\xd4\\xd5CL\\xcc\\xf3\\xbc0l/\\xd5\\x01\\x96\\xe1b\\x9e\\xa28\\x19\\x9aG\\x00;*\\xddF>\\xecB\\xacSQ\\x97\\xc7\\x0b|O\\x90nm\\xd3\\xe3\\x7f\\xec\\xbcO+\\xe4$\\x92O\\xaa\\xcf\\x97:\\x86\\x97e\\xf8\\xb09\\xed\\xf4}\\xc6\\xb137\\x85\\xb7\\x0c\\x1b\\x0e\\xea\\xa1S~iS\\x95\\r$\\x15\\x0fU\\x19\\xcf\\x99y\\xf9$\\xe5\\xb6zX\\xa3\\x18i\\x11\\x15q\\x05\\rQ\\x03\\\\}\\xd1ed\\xaag\\x82\\xe4\\x82\\xa2\\xe6\\x11\\x81\\xa9\\x0b\\x88\\xb2\\xd6\\xac\\x81|V$/T\\xf1Z@J\\xdc\\x95\\x84\\xdf(\\xd1b\\x8d\\x8e\\xcc\\xadN\\xca\\xda/\\x1c\\x1f\\x88\\x8a9\\xe1q>\\x1d\\x9d\\xe8WO\\x82h\\xe6\\x8cI\\x13\\xc3\\x9av!q\\x1c=\\xcf`\\x16V\\\\?\\x14\\xa8\\x81\\xd7\\x8eR\\xc2w\\xb7U~<\\xdc4\\xcc\\xb9\\xf0s\\xda:m\\xc2\\xfa\\xa8\\xd4\\x9cd\\xea\\x1a\\xb6C\\x8bZH%?eP\\xc0\\x1a\\xe6\\xf7k\\x86\\xc7\\xc8\\x8bz+\\x85\\x15}5s3\\xd2\\xcc\\xd9\\x00\\xde\\xdb\\x8f\\x82\\xdb\\x19)+F\\x19E\\xc5\\xd36Q\\x02.\\x8eB\" \\x08\\x88\\x80\",55\\x11SDe\\x99\\xe1\\x8dn\\xe4\\xa03/\\x84\\x80.H\\x01S1.1sgtt\\xec\\xca\\xc1\\xb1:\\x92\\xa1+8\\x8a\\xaa\\xa1\\xc7;\\xdc\\xe6y\\xba\\xe2\\xfbl\\xa2\\xc9\\xa2\\xf5\\x89c\\x94\\x94,$\\xbf;\\x81\\xb5\\x86\\xd7\\xf5T> \\xc6&\\xad\\x98\\x97>\\xcd\\xcb`\\xdc\\xb7\\x16\\xfb\\xbeeFM^\\xf78s\\x0ek\\x9b\\xd8\\x9bX\\xdf\\xba\\xd4\\xa9\\x93=E\\xa4\\xb1ph\"\\xe39\\x1eb\\xfa\\x04$\\x9b\\xe1g\\xb4\\xd6J\\xdc\\xc5\\xces\\x0f\\x88\\x9b\\xf6\\xb6\\xbd~\\n\\xce\\xe6\\xdc*\\x87\\x0c\\xcc\\xdf\\xf1!w\\xb6\\xf9Km\\xa97\\xf5\\xdb\\xe0\\x07\\x9a\\xb8\\x13p\\x17\\x9f\\x9d\\x7ff\\xec\\x0f\\xf85ee\\xd6\\x95E&v\\x95)k\\xaf.f\\x87K\\xaaZ\\xb3BtU\\xeb\\xe2-\\x80i\\xa96\\xba\\xd38^m\\\\\\xddU\\x93\\x12\\xa7\\x12S\\x12\\xd1\\xb3\\x81Yi\\xd9\\x1f,\\\\\\x02|\\xd5u\\xb2\\xceZ*\\x15\\xb4\\x1c\\x98\\x01\\xb6\\xa4\\xd8Yh\\xc5HZ.B\\xb8b\\x14\\x9c\\xec\\xba{\\xba\\x85\\xa1\\xfb3GE\\xd2t;\"\\xa1\\x88\\xb4\\xa9\\x1av\\xda\\xd6[,\\xa7\\x1f\\xca\\xb2663]\\x94\\xd9\\xcb \\xb8\\x9d\\xf22\\x9e\"\\xcb\\xe8u\\xd6\\xc6\\xddV\\x96\\x0b\\x8e\\xd4\\xd0\\xd4\\xc1$\\x12\\x16\\x16\\xb8lC\\x9b\\x97\\xb5\\x81\\x1e}\\x16^*\\xadk\\xad\\x04D\\x074\\xea\\xe2H\\xfa\\xf4\\xf5P\\x8d\\x93\\xdc.q\\xb9\\xb9.,\\xcf{\\x0e\\xff\\x00\\x0e\\xab\\x7f\\xce\\xbf\\x83\\xce\\xfa=\\x9d\\x8a\\x87\\x8d\\xe9\\x1e\\xc6\\n\\xb69\\x8fv\\xd9v?5;G\\x8cPVXAR\\xd2\\xff\\x00\\xe5w\\x84\\xfdW\\x0c\\x86q\\xe2\\xbd\\xaf{\\xd8\\x9d\\x87\\xc5lEY<7s\\x1c4wMI\\xfdtZ,\\xa2\\x8e\\xf4\\x1c\\x0e\\xc4\\x15\\xf5q\\xba\\x0cr\\xae\\x99\\xcdp\\x96@E\\xadc\\xa8]7\\x87qvb\\x941\\xb8\\x9bN\\x1b\\xf6\\x8d\\xf8\\xda\\xe9dQ.\\x88\\x8aH\\x0b\\x9eq]l\\xf2O(s\\xf4k\\x8b@\\xe8\\x02\"\\x86J*Ud\\xb6`nN\\x80\\xd8\\x9d/\\xa1\\xfcV)^\\xe1\\x1bd\\x04\\xe6\\xbd\\x91\\x14\\x12eq2<\\x078\\xea\\t6+\\x1dO\\x85\\x81\\xf7&\\xce\\xd8\\x93c\\xaf\\x92\\xf8\\x88\\x0c\\xd8d\\xd2G\\x89\\xe1\\xcek\\x8f\\x8aF\\x83\\xd8\\x03m\\x07\\xcc\\xae\\x88\\xdft\",\\x7fG\\xa3g\\xcf\\xe4\\xfa5\\x1b/=\\xd1\\x15\\x06\\x84b\\x91\\xa0\\xdc\\x11\\xa2\\xd7\\xc8\\x1b{/\\xa8\\xab}\\x96D\\xf3)\\xb4eF;G\"(\\x97d\\xc4\\xf3\\x98\\xdbu\\x89\\xee.\\xd0\\xa2\"!\\x95,~ q\\x17Y\\xcfm\\x9aN\\x8eZ\\x94\\xcd\\x0e%\\xfb\\x11}\\xb6:\\x03\\xb7\\xc5\\x11z\\x98\\xbc#\\xcc\\xcd\\xed\\x99b\\'\\x92\\xc7i\\xd4X\\x8b\\x81\\xb1Y\\x18\\xc6\\x99\\xa5e\\x86P\\xe6\\x80<\\xb5\\xfc\\x91\\x15\\x85FX\\xa2k\\xe6\\xc8\\xfb\\x96\\xf3\\x1a\\xdb_\\xbd\\xbf5i\\xe1\\xba\\xd9\\xa0\\x96\\x95\\xf1\\x10\\xd2E\\x88\\xb6\\x86\\xd9\\x7f4D\\x07T\\x06\\xe1\\x11\\x17G\\'\\xff\\xd9'}\n"
          ]
        }
      ]
    },
    {
      "cell_type": "code",
      "source": [
        "model = torch.hub.load('ultralytics/yolov5', 'yolov5s')"
      ],
      "metadata": {
        "colab": {
          "base_uri": "https://localhost:8080/"
        },
        "id": "pXOV9p6qphvp",
        "outputId": "72ea216d-2839-4537-c09f-22f024cba8fd"
      },
      "execution_count": 6,
      "outputs": [
        {
          "output_type": "stream",
          "name": "stderr",
          "text": [
            "Using cache found in /root/.cache/torch/hub/ultralytics_yolov5_master\n",
            "YOLOv5 🚀 2025-4-8 Python-3.11.11 torch-2.0.1+cu118 CPU\n",
            "\n",
            "Fusing layers... \n",
            "YOLOv5s summary: 213 layers, 7225885 parameters, 0 gradients\n",
            "Adding AutoShape... \n"
          ]
        }
      ]
    },
    {
      "cell_type": "code",
      "source": [
        "# 🧠 Run YOLOv5 model on the image\n",
        "results = model(img)\n",
        "\n",
        "# Print detected objects\n",
        "results.print()\n",
        "\n",
        "# Draw bounding boxes on image\n",
        "results.render()\n",
        "\n",
        "# Display result image with bounding boxes\n",
        "plt.imshow(results.ims[0])\n",
        "plt.axis('off')\n",
        "plt.title(\"YOLOv5 Detections\")\n",
        "plt.show()\n"
      ],
      "metadata": {
        "colab": {
          "base_uri": "https://localhost:8080/"
        },
        "id": "ssJmqHnmpES5",
        "outputId": "70797657-c1cb-45e9-ff07-71679f9c2109"
      },
      "execution_count": 7,
      "outputs": [
        {
          "output_type": "stream",
          "name": "stderr",
          "text": [
            "image 1/1: 148x184 1 person\n",
            "Speed: 12.5ms pre-process, 488.2ms inference, 31.3ms NMS per image at shape (1, 3, 544, 640)\n"
          ]
        }
      ]
    },
    {
      "cell_type": "code",
      "source": [
        "!pip install mediapipe\n"
      ],
      "metadata": {
        "colab": {
          "base_uri": "https://localhost:8080/"
        },
        "id": "6q13ciW8sTWt",
        "outputId": "38fe4699-35eb-41fb-ab8d-31415927eea5"
      },
      "execution_count": 8,
      "outputs": [
        {
          "output_type": "stream",
          "name": "stdout",
          "text": [
            "Collecting mediapipe\n",
            "  Downloading mediapipe-0.10.21-cp311-cp311-manylinux_2_28_x86_64.whl.metadata (9.7 kB)\n",
            "Requirement already satisfied: absl-py in /usr/local/lib/python3.11/dist-packages (from mediapipe) (1.4.0)\n",
            "Requirement already satisfied: attrs>=19.1.0 in /usr/local/lib/python3.11/dist-packages (from mediapipe) (25.3.0)\n",
            "Requirement already satisfied: flatbuffers>=2.0 in /usr/local/lib/python3.11/dist-packages (from mediapipe) (25.2.10)\n",
            "Requirement already satisfied: jax in /usr/local/lib/python3.11/dist-packages (from mediapipe) (0.5.2)\n",
            "Requirement already satisfied: jaxlib in /usr/local/lib/python3.11/dist-packages (from mediapipe) (0.5.1)\n",
            "Requirement already satisfied: matplotlib in /usr/local/lib/python3.11/dist-packages (from mediapipe) (3.10.0)\n",
            "Requirement already satisfied: numpy<2 in /usr/local/lib/python3.11/dist-packages (from mediapipe) (1.26.4)\n",
            "Requirement already satisfied: opencv-contrib-python in /usr/local/lib/python3.11/dist-packages (from mediapipe) (4.11.0.86)\n",
            "Collecting protobuf<5,>=4.25.3 (from mediapipe)\n",
            "  Downloading protobuf-4.25.6-cp37-abi3-manylinux2014_x86_64.whl.metadata (541 bytes)\n",
            "Collecting sounddevice>=0.4.4 (from mediapipe)\n",
            "  Downloading sounddevice-0.5.1-py3-none-any.whl.metadata (1.4 kB)\n",
            "Requirement already satisfied: sentencepiece in /usr/local/lib/python3.11/dist-packages (from mediapipe) (0.2.0)\n",
            "Requirement already satisfied: CFFI>=1.0 in /usr/local/lib/python3.11/dist-packages (from sounddevice>=0.4.4->mediapipe) (1.17.1)\n",
            "Requirement already satisfied: ml_dtypes>=0.4.0 in /usr/local/lib/python3.11/dist-packages (from jax->mediapipe) (0.4.1)\n",
            "Requirement already satisfied: opt_einsum in /usr/local/lib/python3.11/dist-packages (from jax->mediapipe) (3.4.0)\n",
            "Requirement already satisfied: scipy>=1.11.1 in /usr/local/lib/python3.11/dist-packages (from jax->mediapipe) (1.11.4)\n",
            "Requirement already satisfied: contourpy>=1.0.1 in /usr/local/lib/python3.11/dist-packages (from matplotlib->mediapipe) (1.3.1)\n",
            "Requirement already satisfied: cycler>=0.10 in /usr/local/lib/python3.11/dist-packages (from matplotlib->mediapipe) (0.12.1)\n",
            "Requirement already satisfied: fonttools>=4.22.0 in /usr/local/lib/python3.11/dist-packages (from matplotlib->mediapipe) (4.57.0)\n",
            "Requirement already satisfied: kiwisolver>=1.3.1 in /usr/local/lib/python3.11/dist-packages (from matplotlib->mediapipe) (1.4.8)\n",
            "Requirement already satisfied: packaging>=20.0 in /usr/local/lib/python3.11/dist-packages (from matplotlib->mediapipe) (24.2)\n",
            "Requirement already satisfied: pillow>=8 in /usr/local/lib/python3.11/dist-packages (from matplotlib->mediapipe) (11.1.0)\n",
            "Requirement already satisfied: pyparsing>=2.3.1 in /usr/local/lib/python3.11/dist-packages (from matplotlib->mediapipe) (3.2.3)\n",
            "Requirement already satisfied: python-dateutil>=2.7 in /usr/local/lib/python3.11/dist-packages (from matplotlib->mediapipe) (2.8.2)\n",
            "Requirement already satisfied: pycparser in /usr/local/lib/python3.11/dist-packages (from CFFI>=1.0->sounddevice>=0.4.4->mediapipe) (2.22)\n",
            "Requirement already satisfied: six>=1.5 in /usr/local/lib/python3.11/dist-packages (from python-dateutil>=2.7->matplotlib->mediapipe) (1.17.0)\n",
            "Downloading mediapipe-0.10.21-cp311-cp311-manylinux_2_28_x86_64.whl (35.6 MB)\n",
            "\u001b[2K   \u001b[90m━━━━━━━━━━━━━━━━━━━━━━━━━━━━━━━━━━━━━━━━\u001b[0m \u001b[32m35.6/35.6 MB\u001b[0m \u001b[31m29.5 MB/s\u001b[0m eta \u001b[36m0:00:00\u001b[0m\n",
            "\u001b[?25hDownloading protobuf-4.25.6-cp37-abi3-manylinux2014_x86_64.whl (294 kB)\n",
            "\u001b[2K   \u001b[90m━━━━━━━━━━━━━━━━━━━━━━━━━━━━━━━━━━━━━━━━\u001b[0m \u001b[32m294.6/294.6 kB\u001b[0m \u001b[31m12.5 MB/s\u001b[0m eta \u001b[36m0:00:00\u001b[0m\n",
            "\u001b[?25hDownloading sounddevice-0.5.1-py3-none-any.whl (32 kB)\n",
            "Installing collected packages: protobuf, sounddevice, mediapipe\n",
            "  Attempting uninstall: protobuf\n",
            "    Found existing installation: protobuf 5.29.4\n",
            "    Uninstalling protobuf-5.29.4:\n",
            "      Successfully uninstalled protobuf-5.29.4\n",
            "\u001b[31mERROR: pip's dependency resolver does not currently take into account all the packages that are installed. This behaviour is the source of the following dependency conflicts.\n",
            "grpcio-status 1.71.0 requires protobuf<6.0dev,>=5.26.1, but you have protobuf 4.25.6 which is incompatible.\u001b[0m\u001b[31m\n",
            "\u001b[0mSuccessfully installed mediapipe-0.10.21 protobuf-4.25.6 sounddevice-0.5.1\n"
          ]
        }
      ]
    },
    {
      "cell_type": "code",
      "source": [
        "import mediapipe as mp\n",
        "import numpy as np\n",
        "\n",
        "# Eye landmarks index (Mediapipe FaceMesh)\n",
        "LEFT_EYE = [33, 160, 158, 133, 153, 144]\n",
        "RIGHT_EYE = [362, 385, 387, 263, 373, 380]\n",
        "\n",
        "# Calculate EAR\n",
        "def calculate_ear(eye_landmarks):\n",
        "    # Vertical distances\n",
        "    A = np.linalg.norm(eye_landmarks[1] - eye_landmarks[5])\n",
        "    B = np.linalg.norm(eye_landmarks[2] - eye_landmarks[4])\n",
        "    # Horizontal distance\n",
        "    C = np.linalg.norm(eye_landmarks[0] - eye_landmarks[3])\n",
        "    ear = (A + B) / (2.0 * C)\n",
        "    return ear\n"
      ],
      "metadata": {
        "id": "FkKwDcPVsk4t"
      },
      "execution_count": 9,
      "outputs": []
    },
    {
      "cell_type": "code",
      "source": [
        "mp_face_mesh = mp.solutions.face_mesh\n",
        "\n",
        "# Load and process image\n",
        "image = cv2.imread(image_path)\n",
        "image_rgb = cv2.cvtColor(image, cv2.COLOR_BGR2RGB)\n",
        "\n",
        "# Detect facial landmarks\n",
        "with mp_face_mesh.FaceMesh(static_image_mode=True, max_num_faces=1) as face_mesh:\n",
        "    results = face_mesh.process(image_rgb)\n",
        "\n",
        "    if results.multi_face_landmarks:\n",
        "        face_landmarks = results.multi_face_landmarks[0]\n",
        "        h, w, _ = image.shape\n",
        "\n",
        "        left_eye = []\n",
        "        right_eye = []\n",
        "\n",
        "        for idx in LEFT_EYE:\n",
        "            x = int(face_landmarks.landmark[idx].x * w)\n",
        "            y = int(face_landmarks.landmark[idx].y * h)\n",
        "            left_eye.append(np.array([x, y]))\n",
        "\n",
        "        for idx in RIGHT_EYE:\n",
        "            x = int(face_landmarks.landmark[idx].x * w)\n",
        "            y = int(face_landmarks.landmark[idx].y * h)\n",
        "            right_eye.append(np.array([x, y]))\n",
        "\n",
        "        left_ear = calculate_ear(np.array(left_eye))\n",
        "        right_ear = calculate_ear(np.array(right_eye))\n",
        "        avg_ear = (left_ear + right_ear) / 2.0\n",
        "\n",
        "        # Threshold for drowsiness\n",
        "        EAR_THRESHOLD = 0.25\n",
        "\n",
        "        if avg_ear < EAR_THRESHOLD:\n",
        "            print(\"😴 Drowsy: Eyes are closed\")\n",
        "        else:\n",
        "            print(\"🙂 Alert: Eyes are open\")\n",
        "    else:\n",
        "        print(\"No face detected.\")\n"
      ],
      "metadata": {
        "colab": {
          "base_uri": "https://localhost:8080/"
        },
        "id": "Qv8oNOFctKZz",
        "outputId": "965c52f1-d118-4599-8293-78d29138b7ca"
      },
      "execution_count": 10,
      "outputs": [
        {
          "output_type": "stream",
          "name": "stdout",
          "text": [
            "😴 Drowsy: Eyes are closed\n"
          ]
        }
      ]
    },
    {
      "cell_type": "code",
      "source": [
        "# Inner lip landmarks from Mediapipe FaceMesh\n",
        "MOUTH_LANDMARKS = [13, 14, 78, 308, 82, 312]  # [top, bottom, left, right, upper-left, upper-right]\n"
      ],
      "metadata": {
        "id": "8agzvjmCue-7"
      },
      "execution_count": 11,
      "outputs": []
    },
    {
      "cell_type": "code",
      "source": [
        "def calculate_mar(landmarks):\n",
        "    # Vertical: top (13) to bottom (14)\n",
        "    A = np.linalg.norm(landmarks[0] - landmarks[1])\n",
        "    # Horizontal: left (78) to right (308)\n",
        "    B = np.linalg.norm(landmarks[2] - landmarks[3])\n",
        "    mar = A / B\n",
        "    return mar\n"
      ],
      "metadata": {
        "id": "Ka8_T6uiu4a8"
      },
      "execution_count": 12,
      "outputs": []
    },
    {
      "cell_type": "code",
      "source": [
        "        # Get mouth landmarks\n",
        "        mouth = []\n",
        "        for idx in MOUTH_LANDMARKS:\n",
        "            x = int(face_landmarks.landmark[idx].x * w)\n",
        "            y = int(face_landmarks.landmark[idx].y * h)\n",
        "            mouth.append(np.array([x, y]))\n",
        "\n",
        "        mar = calculate_mar(mouth)\n",
        "\n",
        "        # Threshold for yawn\n",
        "        MAR_THRESHOLD = 0.6\n",
        "\n",
        "        # Final analysis\n",
        "        if avg_ear < EAR_THRESHOLD and mar > MAR_THRESHOLD:\n",
        "            print(\"😴 Drowsy: Eyes closed + Yawning detected\")\n",
        "        elif avg_ear < EAR_THRESHOLD:\n",
        "            print(\"😐 Warning: Eyes closed\")\n",
        "        elif mar > MAR_THRESHOLD:\n",
        "            print(\"😮 Yawning detected\")\n",
        "        else:\n",
        "            print(\"🙂 Alert: Eyes open and no yawning\")\n"
      ],
      "metadata": {
        "colab": {
          "base_uri": "https://localhost:8080/"
        },
        "id": "RxPO30SFvQu3",
        "outputId": "12d98721-a432-403f-ae65-80d886da90ee"
      },
      "execution_count": 13,
      "outputs": [
        {
          "output_type": "stream",
          "name": "stdout",
          "text": [
            "😐 Warning: Eyes closed\n"
          ]
        }
      ]
    },
    {
      "cell_type": "code",
      "source": [
        "# Define 3D model points of face landmarks (nose, eyes, chin)\n",
        "model_points = np.array([\n",
        "    (0.0, 0.0, 0.0),             # Nose tip\n",
        "    (0.0, -330.0, -65.0),        # Chin\n",
        "    (-225.0, 170.0, -135.0),     # Left eye left corner\n",
        "    (225.0, 170.0, -135.0),      # Right eye right corner\n",
        "    (-150.0, -150.0, -125.0),    # Left mouth corner\n",
        "    (150.0, -150.0, -125.0)      # Right mouth corner\n",
        "], dtype=np.float64)\n",
        "\n",
        "# Get 2D points from face landmarks\n",
        "image_points = np.array([\n",
        "    (face_landmarks.landmark[1].x * w, face_landmarks.landmark[1].y * h),   # Nose tip\n",
        "    (face_landmarks.landmark[152].x * w, face_landmarks.landmark[152].y * h), # Chin\n",
        "    (face_landmarks.landmark[33].x * w, face_landmarks.landmark[33].y * h),   # Left eye\n",
        "    (face_landmarks.landmark[263].x * w, face_landmarks.landmark[263].y * h), # Right eye\n",
        "    (face_landmarks.landmark[61].x * w, face_landmarks.landmark[61].y * h),   # Left mouth\n",
        "    (face_landmarks.landmark[291].x * w, face_landmarks.landmark[291].y * h), # Right mouth\n",
        "], dtype=np.float64)\n",
        "\n",
        "# Camera matrix and distortion\n",
        "focal_length = w\n",
        "center = (w / 2, h / 2)\n",
        "camera_matrix = np.array([\n",
        "    [focal_length, 0, center[0]],\n",
        "    [0, focal_length, center[1]],\n",
        "    [0, 0, 1]\n",
        "], dtype=\"double\")\n",
        "\n",
        "dist_coeffs = np.zeros((4, 1))  # Assume no lens distortion\n",
        "\n",
        "# Solve for head pose\n",
        "_, rotation_vector, translation_vector = cv2.solvePnP(\n",
        "    model_points, image_points, camera_matrix, dist_coeffs)\n",
        "\n",
        "# Get angles\n",
        "rmat, _ = cv2.Rodrigues(rotation_vector)\n",
        "angles, _, _, _, _, _ = cv2.RQDecomp3x3(rmat)\n",
        "\n",
        "pitch, yaw, roll = angles\n",
        "\n",
        "if abs(pitch) > 15:\n",
        "    print(\"⚠️ Head tilted down - possible drowsiness\")\n",
        "elif abs(yaw) > 20:\n",
        "    print(\"👀 Looking away\")\n"
      ],
      "metadata": {
        "colab": {
          "base_uri": "https://localhost:8080/"
        },
        "id": "OypX2GY4wYvS",
        "outputId": "f237296f-bb2c-413b-f6b5-63a261c45bf3"
      },
      "execution_count": 14,
      "outputs": [
        {
          "output_type": "stream",
          "name": "stdout",
          "text": [
            "⚠️ Head tilted down - possible drowsiness\n"
          ]
        }
      ]
    }
  ],
  "metadata": {
    "colab": {
      "provenance": [],
      "authorship_tag": "ABX9TyPWbRQcVOfZp6BwYt7N2eeY",
      "include_colab_link": true
    },
    "kernelspec": {
      "display_name": "Python 3",
      "name": "python3"
    },
    "language_info": {
      "name": "python"
    }
  },
  "nbformat": 4,
  "nbformat_minor": 0
}