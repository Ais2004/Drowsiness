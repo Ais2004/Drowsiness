{
  "cells": [
    {
      "cell_type": "markdown",
      "metadata": {
        "id": "view-in-github",
        "colab_type": "text"
      },
      "source": [
        "<a href=\"https://colab.research.google.com/github/Ais2004/Drowsiness/blob/main/Driver_drowsiness2.ipynb\" target=\"_parent\"><img src=\"https://colab.research.google.com/assets/colab-badge.svg\" alt=\"Open In Colab\"/></a>"
      ]
    },
    {
      "cell_type": "code",
      "execution_count": 1,
      "metadata": {
        "colab": {
          "base_uri": "https://localhost:8080/"
        },
        "id": "NKU6UhoQTvpi",
        "outputId": "b3240336-218d-456c-a698-9f78e6e0270d"
      },
      "outputs": [
        {
          "output_type": "stream",
          "name": "stdout",
          "text": [
            "Looking in indexes: https://download.pytorch.org/whl/cu118\n",
            "Collecting torch==2.0.1+cu118\n",
            "  Downloading https://download.pytorch.org/whl/cu118/torch-2.0.1%2Bcu118-cp311-cp311-linux_x86_64.whl (2267.3 MB)\n",
            "\u001b[2K     \u001b[90m━━━━━━━━━━━━━━━━━━━━━━━━━━━━━━━━━━━━━━━━\u001b[0m \u001b[32m2.3/2.3 GB\u001b[0m \u001b[31m410.2 kB/s\u001b[0m eta \u001b[36m0:00:00\u001b[0m\n",
            "\u001b[?25hCollecting torchvision==0.15.2+cu118\n",
            "  Downloading https://download.pytorch.org/whl/cu118/torchvision-0.15.2%2Bcu118-cp311-cp311-linux_x86_64.whl (6.1 MB)\n",
            "\u001b[2K     \u001b[90m━━━━━━━━━━━━━━━━━━━━━━━━━━━━━━━━━━━━━━━━\u001b[0m \u001b[32m6.1/6.1 MB\u001b[0m \u001b[31m87.1 MB/s\u001b[0m eta \u001b[36m0:00:00\u001b[0m\n",
            "\u001b[?25hCollecting torchaudio==2.0.2\n",
            "  Downloading https://download.pytorch.org/whl/cu118/torchaudio-2.0.2%2Bcu118-cp311-cp311-linux_x86_64.whl (4.4 MB)\n",
            "\u001b[2K     \u001b[90m━━━━━━━━━━━━━━━━━━━━━━━━━━━━━━━━━━━━━━━━\u001b[0m \u001b[32m4.4/4.4 MB\u001b[0m \u001b[31m83.3 MB/s\u001b[0m eta \u001b[36m0:00:00\u001b[0m\n",
            "\u001b[?25hRequirement already satisfied: filelock in /usr/local/lib/python3.11/dist-packages (from torch==2.0.1+cu118) (3.18.0)\n",
            "Requirement already satisfied: typing-extensions in /usr/local/lib/python3.11/dist-packages (from torch==2.0.1+cu118) (4.13.1)\n",
            "Requirement already satisfied: sympy in /usr/local/lib/python3.11/dist-packages (from torch==2.0.1+cu118) (1.13.1)\n",
            "Requirement already satisfied: networkx in /usr/local/lib/python3.11/dist-packages (from torch==2.0.1+cu118) (3.4.2)\n",
            "Requirement already satisfied: jinja2 in /usr/local/lib/python3.11/dist-packages (from torch==2.0.1+cu118) (3.1.6)\n",
            "Collecting triton==2.0.0 (from torch==2.0.1+cu118)\n",
            "  Downloading https://download.pytorch.org/whl/triton-2.0.0-1-cp311-cp311-manylinux2014_x86_64.manylinux_2_17_x86_64.whl (63.3 MB)\n",
            "\u001b[2K     \u001b[90m━━━━━━━━━━━━━━━━━━━━━━━━━━━━━━━━━━━━━━━━\u001b[0m \u001b[32m63.3/63.3 MB\u001b[0m \u001b[31m10.9 MB/s\u001b[0m eta \u001b[36m0:00:00\u001b[0m\n",
            "\u001b[?25hRequirement already satisfied: numpy in /usr/local/lib/python3.11/dist-packages (from torchvision==0.15.2+cu118) (2.0.2)\n",
            "Requirement already satisfied: requests in /usr/local/lib/python3.11/dist-packages (from torchvision==0.15.2+cu118) (2.32.3)\n",
            "Requirement already satisfied: pillow!=8.3.*,>=5.3.0 in /usr/local/lib/python3.11/dist-packages (from torchvision==0.15.2+cu118) (11.1.0)\n",
            "Requirement already satisfied: cmake in /usr/local/lib/python3.11/dist-packages (from triton==2.0.0->torch==2.0.1+cu118) (3.31.6)\n",
            "Collecting lit (from triton==2.0.0->torch==2.0.1+cu118)\n",
            "  Downloading https://download.pytorch.org/whl/lit-15.0.7.tar.gz (132 kB)\n",
            "\u001b[2K     \u001b[90m━━━━━━━━━━━━━━━━━━━━━━━━━━━━━━━━━━━━━━━━\u001b[0m \u001b[32m132.3/132.3 kB\u001b[0m \u001b[31m12.5 MB/s\u001b[0m eta \u001b[36m0:00:00\u001b[0m\n",
            "\u001b[?25h  Preparing metadata (setup.py) ... \u001b[?25l\u001b[?25hdone\n",
            "Requirement already satisfied: MarkupSafe>=2.0 in /usr/local/lib/python3.11/dist-packages (from jinja2->torch==2.0.1+cu118) (3.0.2)\n",
            "Requirement already satisfied: charset-normalizer<4,>=2 in /usr/local/lib/python3.11/dist-packages (from requests->torchvision==0.15.2+cu118) (3.4.1)\n",
            "Requirement already satisfied: idna<4,>=2.5 in /usr/local/lib/python3.11/dist-packages (from requests->torchvision==0.15.2+cu118) (3.10)\n",
            "Requirement already satisfied: urllib3<3,>=1.21.1 in /usr/local/lib/python3.11/dist-packages (from requests->torchvision==0.15.2+cu118) (2.3.0)\n",
            "Requirement already satisfied: certifi>=2017.4.17 in /usr/local/lib/python3.11/dist-packages (from requests->torchvision==0.15.2+cu118) (2025.1.31)\n",
            "Requirement already satisfied: mpmath<1.4,>=1.1.0 in /usr/local/lib/python3.11/dist-packages (from sympy->torch==2.0.1+cu118) (1.3.0)\n",
            "Building wheels for collected packages: lit\n",
            "  Building wheel for lit (setup.py) ... \u001b[?25l\u001b[?25hdone\n",
            "  Created wheel for lit: filename=lit-15.0.7-py3-none-any.whl size=89990 sha256=e58c35a7f377d0a8791daf0f6e0f7e02cc1c99a64a9dcddc09becf96650f3d8f\n",
            "  Stored in directory: /root/.cache/pip/wheels/fc/5d/45/34fe9945d5e45e261134e72284395be36c2d4828af38e2b0fe\n",
            "Successfully built lit\n",
            "Installing collected packages: lit, triton, torch, torchvision, torchaudio\n",
            "  Attempting uninstall: triton\n",
            "    Found existing installation: triton 3.2.0\n",
            "    Uninstalling triton-3.2.0:\n",
            "      Successfully uninstalled triton-3.2.0\n",
            "  Attempting uninstall: torch\n",
            "    Found existing installation: torch 2.6.0+cu124\n",
            "    Uninstalling torch-2.6.0+cu124:\n",
            "      Successfully uninstalled torch-2.6.0+cu124\n",
            "  Attempting uninstall: torchvision\n",
            "    Found existing installation: torchvision 0.21.0+cu124\n",
            "    Uninstalling torchvision-0.21.0+cu124:\n",
            "      Successfully uninstalled torchvision-0.21.0+cu124\n",
            "  Attempting uninstall: torchaudio\n",
            "    Found existing installation: torchaudio 2.6.0+cu124\n",
            "    Uninstalling torchaudio-2.6.0+cu124:\n",
            "      Successfully uninstalled torchaudio-2.6.0+cu124\n",
            "Successfully installed lit-15.0.7 torch-2.0.1+cu118 torchaudio-2.0.2+cu118 torchvision-0.15.2+cu118 triton-2.0.0\n"
          ]
        }
      ],
      "source": [
        "!pip install torch==2.0.1+cu118 torchvision==0.15.2+cu118 torchaudio==2.0.2 --index-url https://download.pytorch.org/whl/cu118\n"
      ]
    },
    {
      "cell_type": "code",
      "execution_count": 2,
      "metadata": {
        "colab": {
          "base_uri": "https://localhost:8080/"
        },
        "id": "bWZah_HtXwjU",
        "outputId": "a6fb995b-f3c8-4061-d104-3e8e403d7d20"
      },
      "outputs": [
        {
          "output_type": "stream",
          "name": "stdout",
          "text": [
            "Cloning into 'yolov5'...\n",
            "remote: Enumerating objects: 17372, done.\u001b[K\n",
            "remote: Counting objects: 100% (64/64), done.\u001b[K\n",
            "remote: Compressing objects: 100% (42/42), done.\u001b[K\n",
            "remote: Total 17372 (delta 44), reused 24 (delta 22), pack-reused 17308 (from 2)\u001b[K\n",
            "Receiving objects: 100% (17372/17372), 16.24 MiB | 13.95 MiB/s, done.\n",
            "Resolving deltas: 100% (11906/11906), done.\n"
          ]
        }
      ],
      "source": [
        "!rm -rf yolov5\n",
        "!git clone https://github.com/ultralytics/yolov5\n"
      ]
    },
    {
      "cell_type": "code",
      "execution_count": 3,
      "metadata": {
        "colab": {
          "base_uri": "https://localhost:8080/"
        },
        "id": "HOkTm3YAYU-U",
        "outputId": "51dc5ad7-0477-4c62-da4c-30d8b48d037b"
      },
      "outputs": [
        {
          "output_type": "stream",
          "name": "stdout",
          "text": [
            "Requirement already satisfied: gitpython>=3.1.30 in /usr/local/lib/python3.11/dist-packages (from -r /content/yolov5/requirements.txt (line 5)) (3.1.44)\n",
            "Requirement already satisfied: matplotlib>=3.3 in /usr/local/lib/python3.11/dist-packages (from -r /content/yolov5/requirements.txt (line 6)) (3.10.0)\n",
            "Requirement already satisfied: numpy>=1.23.5 in /usr/local/lib/python3.11/dist-packages (from -r /content/yolov5/requirements.txt (line 7)) (2.0.2)\n",
            "Requirement already satisfied: opencv-python>=4.1.1 in /usr/local/lib/python3.11/dist-packages (from -r /content/yolov5/requirements.txt (line 8)) (4.11.0.86)\n",
            "Requirement already satisfied: pillow>=10.3.0 in /usr/local/lib/python3.11/dist-packages (from -r /content/yolov5/requirements.txt (line 9)) (11.1.0)\n",
            "Requirement already satisfied: psutil in /usr/local/lib/python3.11/dist-packages (from -r /content/yolov5/requirements.txt (line 10)) (5.9.5)\n",
            "Requirement already satisfied: PyYAML>=5.3.1 in /usr/local/lib/python3.11/dist-packages (from -r /content/yolov5/requirements.txt (line 11)) (6.0.2)\n",
            "Requirement already satisfied: requests>=2.32.2 in /usr/local/lib/python3.11/dist-packages (from -r /content/yolov5/requirements.txt (line 12)) (2.32.3)\n",
            "Requirement already satisfied: scipy>=1.4.1 in /usr/local/lib/python3.11/dist-packages (from -r /content/yolov5/requirements.txt (line 13)) (1.14.1)\n",
            "Collecting thop>=0.1.1 (from -r /content/yolov5/requirements.txt (line 14))\n",
            "  Downloading thop-0.1.1.post2209072238-py3-none-any.whl.metadata (2.7 kB)\n",
            "Requirement already satisfied: torch>=1.8.0 in /usr/local/lib/python3.11/dist-packages (from -r /content/yolov5/requirements.txt (line 15)) (2.0.1+cu118)\n",
            "Requirement already satisfied: torchvision>=0.9.0 in /usr/local/lib/python3.11/dist-packages (from -r /content/yolov5/requirements.txt (line 16)) (0.15.2+cu118)\n",
            "Requirement already satisfied: tqdm>=4.66.3 in /usr/local/lib/python3.11/dist-packages (from -r /content/yolov5/requirements.txt (line 17)) (4.67.1)\n",
            "Collecting ultralytics>=8.2.34 (from -r /content/yolov5/requirements.txt (line 18))\n",
            "  Downloading ultralytics-8.3.105-py3-none-any.whl.metadata (37 kB)\n",
            "Requirement already satisfied: pandas>=1.1.4 in /usr/local/lib/python3.11/dist-packages (from -r /content/yolov5/requirements.txt (line 27)) (2.2.2)\n",
            "Requirement already satisfied: seaborn>=0.11.0 in /usr/local/lib/python3.11/dist-packages (from -r /content/yolov5/requirements.txt (line 28)) (0.13.2)\n",
            "Requirement already satisfied: setuptools>=70.0.0 in /usr/local/lib/python3.11/dist-packages (from -r /content/yolov5/requirements.txt (line 42)) (75.2.0)\n",
            "Requirement already satisfied: gitdb<5,>=4.0.1 in /usr/local/lib/python3.11/dist-packages (from gitpython>=3.1.30->-r /content/yolov5/requirements.txt (line 5)) (4.0.12)\n",
            "Requirement already satisfied: contourpy>=1.0.1 in /usr/local/lib/python3.11/dist-packages (from matplotlib>=3.3->-r /content/yolov5/requirements.txt (line 6)) (1.3.1)\n",
            "Requirement already satisfied: cycler>=0.10 in /usr/local/lib/python3.11/dist-packages (from matplotlib>=3.3->-r /content/yolov5/requirements.txt (line 6)) (0.12.1)\n",
            "Requirement already satisfied: fonttools>=4.22.0 in /usr/local/lib/python3.11/dist-packages (from matplotlib>=3.3->-r /content/yolov5/requirements.txt (line 6)) (4.57.0)\n",
            "Requirement already satisfied: kiwisolver>=1.3.1 in /usr/local/lib/python3.11/dist-packages (from matplotlib>=3.3->-r /content/yolov5/requirements.txt (line 6)) (1.4.8)\n",
            "Requirement already satisfied: packaging>=20.0 in /usr/local/lib/python3.11/dist-packages (from matplotlib>=3.3->-r /content/yolov5/requirements.txt (line 6)) (24.2)\n",
            "Requirement already satisfied: pyparsing>=2.3.1 in /usr/local/lib/python3.11/dist-packages (from matplotlib>=3.3->-r /content/yolov5/requirements.txt (line 6)) (3.2.3)\n",
            "Requirement already satisfied: python-dateutil>=2.7 in /usr/local/lib/python3.11/dist-packages (from matplotlib>=3.3->-r /content/yolov5/requirements.txt (line 6)) (2.8.2)\n",
            "Requirement already satisfied: charset-normalizer<4,>=2 in /usr/local/lib/python3.11/dist-packages (from requests>=2.32.2->-r /content/yolov5/requirements.txt (line 12)) (3.4.1)\n",
            "Requirement already satisfied: idna<4,>=2.5 in /usr/local/lib/python3.11/dist-packages (from requests>=2.32.2->-r /content/yolov5/requirements.txt (line 12)) (3.10)\n",
            "Requirement already satisfied: urllib3<3,>=1.21.1 in /usr/local/lib/python3.11/dist-packages (from requests>=2.32.2->-r /content/yolov5/requirements.txt (line 12)) (2.3.0)\n",
            "Requirement already satisfied: certifi>=2017.4.17 in /usr/local/lib/python3.11/dist-packages (from requests>=2.32.2->-r /content/yolov5/requirements.txt (line 12)) (2025.1.31)\n",
            "Requirement already satisfied: filelock in /usr/local/lib/python3.11/dist-packages (from torch>=1.8.0->-r /content/yolov5/requirements.txt (line 15)) (3.18.0)\n",
            "Requirement already satisfied: typing-extensions in /usr/local/lib/python3.11/dist-packages (from torch>=1.8.0->-r /content/yolov5/requirements.txt (line 15)) (4.13.1)\n",
            "Requirement already satisfied: sympy in /usr/local/lib/python3.11/dist-packages (from torch>=1.8.0->-r /content/yolov5/requirements.txt (line 15)) (1.13.1)\n",
            "Requirement already satisfied: networkx in /usr/local/lib/python3.11/dist-packages (from torch>=1.8.0->-r /content/yolov5/requirements.txt (line 15)) (3.4.2)\n",
            "Requirement already satisfied: jinja2 in /usr/local/lib/python3.11/dist-packages (from torch>=1.8.0->-r /content/yolov5/requirements.txt (line 15)) (3.1.6)\n",
            "Requirement already satisfied: triton==2.0.0 in /usr/local/lib/python3.11/dist-packages (from torch>=1.8.0->-r /content/yolov5/requirements.txt (line 15)) (2.0.0)\n",
            "Requirement already satisfied: cmake in /usr/local/lib/python3.11/dist-packages (from triton==2.0.0->torch>=1.8.0->-r /content/yolov5/requirements.txt (line 15)) (3.31.6)\n",
            "Requirement already satisfied: lit in /usr/local/lib/python3.11/dist-packages (from triton==2.0.0->torch>=1.8.0->-r /content/yolov5/requirements.txt (line 15)) (15.0.7)\n",
            "Requirement already satisfied: py-cpuinfo in /usr/local/lib/python3.11/dist-packages (from ultralytics>=8.2.34->-r /content/yolov5/requirements.txt (line 18)) (9.0.0)\n",
            "Collecting ultralytics-thop>=2.0.0 (from ultralytics>=8.2.34->-r /content/yolov5/requirements.txt (line 18))\n",
            "  Downloading ultralytics_thop-2.0.14-py3-none-any.whl.metadata (9.4 kB)\n",
            "Requirement already satisfied: pytz>=2020.1 in /usr/local/lib/python3.11/dist-packages (from pandas>=1.1.4->-r /content/yolov5/requirements.txt (line 27)) (2025.2)\n",
            "Requirement already satisfied: tzdata>=2022.7 in /usr/local/lib/python3.11/dist-packages (from pandas>=1.1.4->-r /content/yolov5/requirements.txt (line 27)) (2025.2)\n",
            "Requirement already satisfied: smmap<6,>=3.0.1 in /usr/local/lib/python3.11/dist-packages (from gitdb<5,>=4.0.1->gitpython>=3.1.30->-r /content/yolov5/requirements.txt (line 5)) (5.0.2)\n",
            "Requirement already satisfied: six>=1.5 in /usr/local/lib/python3.11/dist-packages (from python-dateutil>=2.7->matplotlib>=3.3->-r /content/yolov5/requirements.txt (line 6)) (1.17.0)\n",
            "Requirement already satisfied: MarkupSafe>=2.0 in /usr/local/lib/python3.11/dist-packages (from jinja2->torch>=1.8.0->-r /content/yolov5/requirements.txt (line 15)) (3.0.2)\n",
            "Requirement already satisfied: mpmath<1.4,>=1.1.0 in /usr/local/lib/python3.11/dist-packages (from sympy->torch>=1.8.0->-r /content/yolov5/requirements.txt (line 15)) (1.3.0)\n",
            "Downloading thop-0.1.1.post2209072238-py3-none-any.whl (15 kB)\n",
            "Downloading ultralytics-8.3.105-py3-none-any.whl (994 kB)\n",
            "\u001b[2K   \u001b[90m━━━━━━━━━━━━━━━━━━━━━━━━━━━━━━━━━━━━━━━━\u001b[0m \u001b[32m994.0/994.0 kB\u001b[0m \u001b[31m23.5 MB/s\u001b[0m eta \u001b[36m0:00:00\u001b[0m\n",
            "\u001b[?25hDownloading ultralytics_thop-2.0.14-py3-none-any.whl (26 kB)\n",
            "Installing collected packages: ultralytics-thop, ultralytics, thop\n",
            "Successfully installed thop-0.1.1.post2209072238 ultralytics-8.3.105 ultralytics-thop-2.0.14\n"
          ]
        }
      ],
      "source": [
        "!pip install -r /content/yolov5/requirements.txt\n"
      ]
    },
    {
      "cell_type": "code",
      "source": [
        "\n",
        "# Remove broken numpy and scipy versions\n",
        "!pip uninstall -y numpy scipy\n",
        "!pip install numpy==1.26.4 scipy==1.11.4 --force-reinstall\n",
        "\n"
      ],
      "metadata": {
        "id": "FKJv9gj-Ph39",
        "outputId": "1fa521ae-a83f-4367-878a-4a0dd055bc00",
        "colab": {
          "base_uri": "https://localhost:8080/"
        }
      },
      "execution_count": 4,
      "outputs": [
        {
          "output_type": "stream",
          "name": "stdout",
          "text": [
            "Found existing installation: numpy 2.0.2\n",
            "Uninstalling numpy-2.0.2:\n",
            "  Successfully uninstalled numpy-2.0.2\n",
            "Found existing installation: scipy 1.14.1\n",
            "Uninstalling scipy-1.14.1:\n",
            "  Successfully uninstalled scipy-1.14.1\n",
            "Collecting numpy==1.26.4\n",
            "  Downloading numpy-1.26.4-cp311-cp311-manylinux_2_17_x86_64.manylinux2014_x86_64.whl.metadata (61 kB)\n",
            "\u001b[2K     \u001b[90m━━━━━━━━━━━━━━━━━━━━━━━━━━━━━━━━━━━━━━━━\u001b[0m \u001b[32m61.0/61.0 kB\u001b[0m \u001b[31m4.2 MB/s\u001b[0m eta \u001b[36m0:00:00\u001b[0m\n",
            "\u001b[?25hCollecting scipy==1.11.4\n",
            "  Downloading scipy-1.11.4-cp311-cp311-manylinux_2_17_x86_64.manylinux2014_x86_64.whl.metadata (60 kB)\n",
            "\u001b[2K     \u001b[90m━━━━━━━━━━━━━━━━━━━━━━━━━━━━━━━━━━━━━━━━\u001b[0m \u001b[32m60.4/60.4 kB\u001b[0m \u001b[31m5.2 MB/s\u001b[0m eta \u001b[36m0:00:00\u001b[0m\n",
            "\u001b[?25hDownloading numpy-1.26.4-cp311-cp311-manylinux_2_17_x86_64.manylinux2014_x86_64.whl (18.3 MB)\n",
            "\u001b[2K   \u001b[90m━━━━━━━━━━━━━━━━━━━━━━━━━━━━━━━━━━━━━━━━\u001b[0m \u001b[32m18.3/18.3 MB\u001b[0m \u001b[31m82.6 MB/s\u001b[0m eta \u001b[36m0:00:00\u001b[0m\n",
            "\u001b[?25hDownloading scipy-1.11.4-cp311-cp311-manylinux_2_17_x86_64.manylinux2014_x86_64.whl (36.4 MB)\n",
            "\u001b[2K   \u001b[90m━━━━━━━━━━━━━━━━━━━━━━━━━━━━━━━━━━━━━━━━\u001b[0m \u001b[32m36.4/36.4 MB\u001b[0m \u001b[31m19.9 MB/s\u001b[0m eta \u001b[36m0:00:00\u001b[0m\n",
            "\u001b[?25hInstalling collected packages: numpy, scipy\n",
            "Successfully installed numpy-1.26.4 scipy-1.11.4\n"
          ]
        }
      ]
    },
    {
      "cell_type": "code",
      "execution_count": 2,
      "metadata": {
        "id": "0kwq6o9xYiof",
        "colab": {
          "base_uri": "https://localhost:8080/"
        },
        "outputId": "538b6e60-72f1-4903-b48c-270d8216b337"
      },
      "outputs": [
        {
          "output_type": "stream",
          "name": "stderr",
          "text": [
            "Using cache found in /root/.cache/torch/hub/ultralytics_yolov5_master\n",
            "YOLOv5 🚀 2025-4-9 Python-3.11.11 torch-2.0.1+cu118 CPU\n",
            "\n",
            "Fusing layers... \n",
            "YOLOv5s summary: 213 layers, 7225885 parameters, 0 gradients\n",
            "Adding AutoShape... \n"
          ]
        }
      ],
      "source": [
        "import cv2\n",
        "import numpy as np\n",
        "import torch\n",
        "import time\n",
        "from scipy.spatial import distance as dist\n",
        "from IPython.display import display, clear_output\n",
        "from matplotlib import pyplot as plt\n",
        "\n",
        "model = torch.hub.load('ultralytics/yolov5', 'yolov5s')\n"
      ]
    },
    {
      "cell_type": "code",
      "source": [
        "def eye_aspect_ratio(eye):\n",
        "    A = dist.euclidean(eye[1], eye[5])\n",
        "    B = dist.euclidean(eye[2], eye[4])\n",
        "    C = dist.euclidean(eye[0], eye[3])\n",
        "    ear = (A + B) / (2.0 * C)\n",
        "    return ear\n"
      ],
      "metadata": {
        "id": "yHAMWjnPaeuG"
      },
      "execution_count": 3,
      "outputs": []
    },
    {
      "cell_type": "code",
      "source": [
        "from google.colab import files\n",
        "uploaded = files.upload()"
      ],
      "metadata": {
        "colab": {
          "base_uri": "https://localhost:8080/",
          "height": 73
        },
        "id": "9iTDEXbOoeUL",
        "outputId": "5790fdcd-69de-427c-a199-2326ccea8eb6"
      },
      "execution_count": 4,
      "outputs": [
        {
          "output_type": "display_data",
          "data": {
            "text/plain": [
              "<IPython.core.display.HTML object>"
            ],
            "text/html": [
              "\n",
              "     <input type=\"file\" id=\"files-32ca6dca-b260-40a6-9fa9-cc21f7ebacdd\" name=\"files[]\" multiple disabled\n",
              "        style=\"border:none\" />\n",
              "     <output id=\"result-32ca6dca-b260-40a6-9fa9-cc21f7ebacdd\">\n",
              "      Upload widget is only available when the cell has been executed in the\n",
              "      current browser session. Please rerun this cell to enable.\n",
              "      </output>\n",
              "      <script>// Copyright 2017 Google LLC\n",
              "//\n",
              "// Licensed under the Apache License, Version 2.0 (the \"License\");\n",
              "// you may not use this file except in compliance with the License.\n",
              "// You may obtain a copy of the License at\n",
              "//\n",
              "//      http://www.apache.org/licenses/LICENSE-2.0\n",
              "//\n",
              "// Unless required by applicable law or agreed to in writing, software\n",
              "// distributed under the License is distributed on an \"AS IS\" BASIS,\n",
              "// WITHOUT WARRANTIES OR CONDITIONS OF ANY KIND, either express or implied.\n",
              "// See the License for the specific language governing permissions and\n",
              "// limitations under the License.\n",
              "\n",
              "/**\n",
              " * @fileoverview Helpers for google.colab Python module.\n",
              " */\n",
              "(function(scope) {\n",
              "function span(text, styleAttributes = {}) {\n",
              "  const element = document.createElement('span');\n",
              "  element.textContent = text;\n",
              "  for (const key of Object.keys(styleAttributes)) {\n",
              "    element.style[key] = styleAttributes[key];\n",
              "  }\n",
              "  return element;\n",
              "}\n",
              "\n",
              "// Max number of bytes which will be uploaded at a time.\n",
              "const MAX_PAYLOAD_SIZE = 100 * 1024;\n",
              "\n",
              "function _uploadFiles(inputId, outputId) {\n",
              "  const steps = uploadFilesStep(inputId, outputId);\n",
              "  const outputElement = document.getElementById(outputId);\n",
              "  // Cache steps on the outputElement to make it available for the next call\n",
              "  // to uploadFilesContinue from Python.\n",
              "  outputElement.steps = steps;\n",
              "\n",
              "  return _uploadFilesContinue(outputId);\n",
              "}\n",
              "\n",
              "// This is roughly an async generator (not supported in the browser yet),\n",
              "// where there are multiple asynchronous steps and the Python side is going\n",
              "// to poll for completion of each step.\n",
              "// This uses a Promise to block the python side on completion of each step,\n",
              "// then passes the result of the previous step as the input to the next step.\n",
              "function _uploadFilesContinue(outputId) {\n",
              "  const outputElement = document.getElementById(outputId);\n",
              "  const steps = outputElement.steps;\n",
              "\n",
              "  const next = steps.next(outputElement.lastPromiseValue);\n",
              "  return Promise.resolve(next.value.promise).then((value) => {\n",
              "    // Cache the last promise value to make it available to the next\n",
              "    // step of the generator.\n",
              "    outputElement.lastPromiseValue = value;\n",
              "    return next.value.response;\n",
              "  });\n",
              "}\n",
              "\n",
              "/**\n",
              " * Generator function which is called between each async step of the upload\n",
              " * process.\n",
              " * @param {string} inputId Element ID of the input file picker element.\n",
              " * @param {string} outputId Element ID of the output display.\n",
              " * @return {!Iterable<!Object>} Iterable of next steps.\n",
              " */\n",
              "function* uploadFilesStep(inputId, outputId) {\n",
              "  const inputElement = document.getElementById(inputId);\n",
              "  inputElement.disabled = false;\n",
              "\n",
              "  const outputElement = document.getElementById(outputId);\n",
              "  outputElement.innerHTML = '';\n",
              "\n",
              "  const pickedPromise = new Promise((resolve) => {\n",
              "    inputElement.addEventListener('change', (e) => {\n",
              "      resolve(e.target.files);\n",
              "    });\n",
              "  });\n",
              "\n",
              "  const cancel = document.createElement('button');\n",
              "  inputElement.parentElement.appendChild(cancel);\n",
              "  cancel.textContent = 'Cancel upload';\n",
              "  const cancelPromise = new Promise((resolve) => {\n",
              "    cancel.onclick = () => {\n",
              "      resolve(null);\n",
              "    };\n",
              "  });\n",
              "\n",
              "  // Wait for the user to pick the files.\n",
              "  const files = yield {\n",
              "    promise: Promise.race([pickedPromise, cancelPromise]),\n",
              "    response: {\n",
              "      action: 'starting',\n",
              "    }\n",
              "  };\n",
              "\n",
              "  cancel.remove();\n",
              "\n",
              "  // Disable the input element since further picks are not allowed.\n",
              "  inputElement.disabled = true;\n",
              "\n",
              "  if (!files) {\n",
              "    return {\n",
              "      response: {\n",
              "        action: 'complete',\n",
              "      }\n",
              "    };\n",
              "  }\n",
              "\n",
              "  for (const file of files) {\n",
              "    const li = document.createElement('li');\n",
              "    li.append(span(file.name, {fontWeight: 'bold'}));\n",
              "    li.append(span(\n",
              "        `(${file.type || 'n/a'}) - ${file.size} bytes, ` +\n",
              "        `last modified: ${\n",
              "            file.lastModifiedDate ? file.lastModifiedDate.toLocaleDateString() :\n",
              "                                    'n/a'} - `));\n",
              "    const percent = span('0% done');\n",
              "    li.appendChild(percent);\n",
              "\n",
              "    outputElement.appendChild(li);\n",
              "\n",
              "    const fileDataPromise = new Promise((resolve) => {\n",
              "      const reader = new FileReader();\n",
              "      reader.onload = (e) => {\n",
              "        resolve(e.target.result);\n",
              "      };\n",
              "      reader.readAsArrayBuffer(file);\n",
              "    });\n",
              "    // Wait for the data to be ready.\n",
              "    let fileData = yield {\n",
              "      promise: fileDataPromise,\n",
              "      response: {\n",
              "        action: 'continue',\n",
              "      }\n",
              "    };\n",
              "\n",
              "    // Use a chunked sending to avoid message size limits. See b/62115660.\n",
              "    let position = 0;\n",
              "    do {\n",
              "      const length = Math.min(fileData.byteLength - position, MAX_PAYLOAD_SIZE);\n",
              "      const chunk = new Uint8Array(fileData, position, length);\n",
              "      position += length;\n",
              "\n",
              "      const base64 = btoa(String.fromCharCode.apply(null, chunk));\n",
              "      yield {\n",
              "        response: {\n",
              "          action: 'append',\n",
              "          file: file.name,\n",
              "          data: base64,\n",
              "        },\n",
              "      };\n",
              "\n",
              "      let percentDone = fileData.byteLength === 0 ?\n",
              "          100 :\n",
              "          Math.round((position / fileData.byteLength) * 100);\n",
              "      percent.textContent = `${percentDone}% done`;\n",
              "\n",
              "    } while (position < fileData.byteLength);\n",
              "  }\n",
              "\n",
              "  // All done.\n",
              "  yield {\n",
              "    response: {\n",
              "      action: 'complete',\n",
              "    }\n",
              "  };\n",
              "}\n",
              "\n",
              "scope.google = scope.google || {};\n",
              "scope.google.colab = scope.google.colab || {};\n",
              "scope.google.colab._files = {\n",
              "  _uploadFiles,\n",
              "  _uploadFilesContinue,\n",
              "};\n",
              "})(self);\n",
              "</script> "
            ]
          },
          "metadata": {}
        },
        {
          "output_type": "stream",
          "name": "stdout",
          "text": [
            "Saving download (3).jpg to download (3).jpg\n"
          ]
        }
      ]
    },
    {
      "cell_type": "code",
      "source": [
        "import PIL.Image\n",
        "from IPython.display import display\n",
        "\n",
        "# Get the uploaded image path\n",
        "image_path = list(uploaded.keys())[0]\n",
        "\n",
        "# Run detection\n",
        "results = model(image_path)\n",
        "results.render()\n",
        "\n",
        "# Show the image with bounding boxes\n",
        "img_with_boxes = PIL.Image.fromarray(results.ims[0])\n",
        "display(img_with_boxes)\n"
      ],
      "metadata": {
        "colab": {
          "base_uri": "https://localhost:8080/",
          "height": 185
        },
        "id": "cclKkMKOVb0X",
        "outputId": "9cf5f087-7219-4b64-8413-28c91927d2ca"
      },
      "execution_count": 11,
      "outputs": [
        {
          "output_type": "display_data",
          "data": {
            "text/plain": [
              "<PIL.Image.Image image mode=RGB size=180x168>"
            ],
            "image/png": "[encoded data removed]",
            "image/jpeg": "[encoded data removed]"
          },
          "metadata": {}
        }
      ]
    },
    {
      "cell_type": "code",
      "source": [
        "# 🖼️ Read and display the uploaded image\n",
        "import cv2\n",
        "from matplotlib import pyplot as plt\n",
        "\n",
        "# Check uploaded\n",
        "print(\"Uploaded:\", uploaded)\n",
        "\n",
        "# Get the uploaded file name\n",
        "image_path = list(uploaded.keys())[0]\n",
        "\n",
        "# Read the image using OpenCV\n",
        "img = cv2.imread(image_path)\n",
        "if img is None:\n",
        "    print(\"❌ Failed to load image. Check filename or try re-uploading.\")\n",
        "else:\n",
        "    # Convert BGR to RGB\n",
        "    img_rgb = cv2.cvtColor(img, cv2.COLOR_BGR2RGB)\n",
        "\n",
        "    # Display the image\n",
        "    plt.figure(figsize=(6,6))\n",
        "    plt.imshow(img_rgb)\n",
        "    plt.axis('off')\n",
        "    plt.title(\"Uploaded Image\")\n",
        "    plt.show()\n"
      ],
      "metadata": {
        "colab": {
          "base_uri": "https://localhost:8080/"
        },
        "id": "2iObfEV5o9QB",
        "outputId": "8cf4680e-9c73-4800-fab3-c6e7e79a51b1"
      },
      "execution_count": 12,
      "outputs": [
        {
          "output_type": "stream",
          "name": "stdout",
          "text": [
            "Uploaded: {'download (3).jpg': b'\\xff\\xd8\\xff\\xe0\\x00\\x10JFIF\\x00\\x01\\x01\\x00\\x00\\x01\\x00\\x01\\x00\\x00\\xff\\xdb\\x00\\x84\\x00\\t\\x06\\x07\\x08\\x07\\x06\\t\\x08\\x07\\x08\\n\\n\\t\\x0b\\r\\x16\\x0f\\r\\x0c\\x0c\\r\\x1b\\x14\\x15\\x10\\x16 \\x1d\"\" \\x1d\\x1f\\x1f$(4,$&1\\'\\x1f\\x1f-=-157:::#+?D?8C49:7\\x01\\n\\n\\n\\r\\x0c\\r\\x1a\\x0f\\x0f\\x1a7%\\x1f%77777777777777777777777777777777777777777777777777\\xff\\xc0\\x00\\x11\\x08\\x00\\xa8\\x00\\xb4\\x03\\x01\"\\x00\\x02\\x11\\x01\\x03\\x11\\x01\\xff\\xc4\\x00\\x1c\\x00\\x00\\x00\\x07\\x01\\x01\\x00\\x00\\x00\\x00\\x00\\x00\\x00\\x00\\x00\\x00\\x00\\x00\\x01\\x02\\x03\\x04\\x05\\x06\\x07\\x08\\xff\\xc4\\x00?\\x10\\x00\\x01\\x03\\x02\\x03\\x04\\x07\\x06\\x04\\x05\\x02\\x07\\x00\\x00\\x00\\x00\\x01\\x00\\x02\\x03\\x04\\x11\\x05\\x12!\\x06\\x131a\"AQq\\x81\\x91\\xb1\\x14#2\\xa1\\xc1\\xf0\\x073R\\xd1$BCb\\xe1r\\xf1\\x15\\x16&5Ss\\x82\\xff\\xc4\\x00\\x1a\\x01\\x00\\x02\\x03\\x01\\x01\\x00\\x00\\x00\\x00\\x00\\x00\\x00\\x00\\x00\\x00\\x00\\x00\\x01\\x02\\x03\\x04\\x05\\x06\\xff\\xc4\\x00%\\x11\\x00\\x02\\x02\\x02\\x02\\x02\\x02\\x02\\x03\\x01\\x00\\x00\\x00\\x00\\x00\\x00\\x00\\x01\\x02\\x03\\x11!\\x041\\x12A\\x05\"\\x13Qaq\\x813\\xff\\xda\\x00\\x0c\\x03\\x01\\x00\\x02\\x11\\x03\\x11\\x00?\\x00\\xd7\\x82\\x94\\x13a,-g\\x9f\\x14\\x8d&\\xe8]\\x00.\\xe8\\xee\\x91t.\\x80\\x1c\\xba\\x17H\\xba\\x19\\x90\\x03\\xa0\\xa3\\xbak2\\'\\xca\\xd8\\xda\\xe7H\\xe0\\x00\\xe2N\\x96@\\x0f]\\x1d\\xd6#\\x1a\\xdb\\xa8!\\xcd\\x1d\\x03w\\xc4i\\x9f\\x83|\\x0fZ\\xcf\\r\\xbf\\xaf\\x86]\\xe4\\x8dc\\xe3\\xebh\\xb8\\xf9\\xaa\\xdd\\xb14\\xc7\\x89cY\\xc1\\xd6AJ\\x0b\\x94\\xcf\\xf8\\x973\\x9d\\xee)\\xb4\\xd3\\xe2:\\xad.\\xcd\\xed\\xac\\x18\\x9b\\x9b\\x1c\\xed\\xdd\\xc9\\xd8S\\xfc\\x91\\xce\\x04\\xf8\\xb6%\\x9c\\x1b$a6\\xc7\\xb5\\xcc\\xcc\\xddAKS3\\x8aA\\x124\\x00a($\\xa5 a\\xa3D\\x82C\\x14\\x82\\x01\\x04\\x01L\\x94\\x12\\x01B\\xe9\\x91\\x17t.\\x91t.\\x80\\x17t\\x0b\\x93y\\x92K\\x93\\x16Gs!\\x993\\x9d\\x16t\\x0b#\\xb2M\\x1cq:I\\x1c\\x03\\x1a\\t$\\x9b\\x00\\x02\\xe6;M\\xb5\\x13c\\x12\\xba\\x18\\x1cY\\x87\\xb0\\xd9\\xad\\x1aoy\\x9e]\\x81Y~#c.lQ\\xe1\\x90\\xba\\xc6^\\x94\\xb6\\xfd#\\xab\\xc4\\xfa,n\\x1f\\x0b\\xaag\\x8d\\xb1\\xf1&\\xcd\\xe4\\x07\\x13\\xe0\\xb2_o\\xa4u\\xf8\\x1cl\\xaf7\\xdf\\xa2TqM#\\xb2\\xc3Nf\\x98\\xff\\x00L\\x10\\x03\\x073\\xd5\\xdc\\xad0\\xfd\\x90\\xc4\\xf1\\x19Z\\xea\\xd9\\x04q\\xfe\\x86\\xea\\xb7;7\\x85\\xd3\\xd3\\xc0\\xd6\\xb60^u.#RV\\xa2\\x08\\x1a\\xb0~W\\xe8\\xee*\"\\xbb8\\xae\\xd0\\xecU}4\\xf2TRF\\x1e\\xce9ob\\xab0\\x8a\\xa6\\xb6]\\xc4\\xd1\\xbe:\\x98\\xfa\\xb5\\x07E\\xe8))\\xa3szM\\x07\\xbe\\xcb\\x07\\xb6\\xfb\\x19\\x0e#\\x03\\xaah\\x1a#\\xad\\x8fV9\\xba^\\xddEIZ\\xfa\\x91\\tR\\xbb\\x897d1\\xa6\\xd4\\xd3\\xee&wM\\x9c9\\x8e\\xdf\\xdf\\xc0\\xf5\\x95\\xa9\\x05p\\xcd\\x9f\\xc6f\\xa2\\xaf\\x8eIz\\x13D\\xfc\\xb2\\xb7\\x85\\xfa\\x8f\\x9a\\xed4\\x151\\xd4\\xd2\\xc74n\\xbb\\x1e\\x01\\x1d\\xcb\\xa3D\\xfc\\x96\\x19\\xe7\\xb9\\xb4~9y.\\x990%&\\xc1K\\x05\\\\b\\x14\\x11\\x84\\x90R\\x900\\xd1\\xa4\\xa3\\t`\\x05 \\x89\\x04\\x0c\\xa4\\x05\\x1d\\xd3w@\\x95\"\\x02\\xc9D\\\\\\x90\\\\\\x9bs\\x90!\\xc2\\xf4\\xd9zm\\xcfM:D\\x08|\\xc8\\x9b\\x9e}\\xdcNs\\xba\\x81\\xd50dT\\x9bY]\\xb9\\xc2%k]b\\xf1\\x94x\\xe8~WJO\\x0b$\\xea\\x87\\x9c\\xd4L\\x0e3Z\\xea\\xfcJz\\x8e&GY\\x9c\\x87\\x01\\xfb\\xab\\xbd\\x9bm%>\\xf2\\xa6\\xb6x\\xe1\\x8c\\x11\\x1bK\\xcd\\xafn6\\xf1Y\\xc8\\x9b\\x9a\\xa1\\xbc\\xb5\\xfb\\xfb\\xea]\\x1fb\\xb0\\xea(\\xf0\\xe8&\\x9e\\x08\\xe4\\x9eV\\xe6s\\xa4h$\\\\\\xde\\xc2\\xfc\\x06\\xab\\x97=\\xf6z\\xba#\\x8d/E\\xee\\x01\\x8b\\xe1S1\\xb0C\\x88\\xd3\\xbc\\xbfH\\xcep\\x08=@\\x85\\xab`s\\x9e\\xe8\\xf8\\x1d\\xd0\\x7f\\x99 \\x8f\\x0b,\\x86-\\xb3XS\\xbd\\xfbi\\xa3c\\xfa\\xdd\\x17G\\xc4\\x80\\xadvR\\xb6WUOM;\\xaei\\xd8\\x18\\xd7\\x1dn8\\x8fUKK\\xd1\\xa7~\\xcb\\\\O\\x16\\xc30\\xae\\x8d}\\\\q?\\xa8\\x1b\\x92|\\x82\\x841:j\\xb8\\xb7\\x91\\xc3Y\\xb9\\xff\\x00\\xcc\\xeaw\\x06[\\xb6\\xf6\\xe1\\xcd7\\x89\\xb2\\x06\\xd6o\\xa4\\x82;\\xfe\\xa2/\\xaf+\\xabx*clM\\xf7\\x84\\xdcv\\xdc\\'\\x84\\xc5\\xb3\\x86\\xfe\"\\xe1\\xad\\xc3\\xb1\\xe6\\xd5\\xc5m\\xddSM\\xc8\\xe0H\\xeb\\xf4Z\\xcf\\xc3,g\\xdai]E3\\xb5`\\xcc\\xde\\xeb\\xd8\\xfc\\xc8\\xf3O\\xfe)\\xe11\\xc9\\x82>h\\xa3\\x1f\\xc3\\xbf;@\\xfePN\\xa0z\\xaes\\xb1\\x18\\xb3\\xb0\\xecf)\\x1c\\xee\\x86k?\\xfd\\'C\\xeb\\x7f\\x05\\xa2\\x99c\\x0c\\xe7\\xf3*\\xf3\\x8b\\x8f\\xfa\\x8e\\xfa\\x12\\x81MF\\xec\\xcdk\\xbbBX]#\\xcd\\x8e\\x02\\x94\\x12\\x02PHb\\x91\\x84\\x94a\\x03\\r\\x1a\\x08$3?t\\x92Q\\x12\\x90\\xe7)\\x15\\x86\\xe7&\\x9e\\xf4\\x97\\xbd1#\\xd0!O\\x910\\xf9\\x12\\x1e\\xf5\\x19\\xf2&!\\xf3\"\\xc9\\xed\\x9dFf2>g\\xe4\\xb4\\x06E\\x90\\xda\\x89\\x1d%cZ\\xde!\\xbeD\\xfd\\x85G!\\xe2&\\xef\\x8f\\x8em\\xc9SN\\xce\\x8c\\xae\\xeb=\\x06\\xf7\\x9e+\\xa2\\xe1\\xf8=]\\\\QG\\x05k\\xe0\\x840\\x07\\x06\\x01}9\\x9b\\xdb\\xaf\\xa9s\\xd0\\xe6\\xd3\\xee\\x1b\\xd4&cG3pJ\\xea{=W\\x97+W:L\\xf4\\xb4\\xc7$\\xf1\\x85:\\x92,\\xce\\xab\\xa9\\x9d\\xe0\\x7f<\\xa4\\x8f\\x10,\\x11l\\xd6\\xf1\\xd5S\\xc9\\x96\\xe4\\x9b\\x12;B\\xb1\\xc5\\xaawxt\\x8e\\x8d\\xbd;Y\\xbd\\xe7\\x82\\xcc\\xec\\xc5V\\'\\x0e##c\\x84\\xfb1h\\xe1{\\x87\\x0e$\\xff\\x00\\x85\\x16^\\xa3\\x83e\\x88a\\x90\\xe20e\\x9d\\xb7\\x1e \\x8eZ\\x10U|[!E\\xbd\\x8eF\\xc9T\\xcc\\x84\\x10\\x1bU \\x1av\\x82l\\xa7\\xd0I\\x88\\xc3K$\\x95\\xfb\\xb7\\xc8\\xc2\\\\\\xe3\\x18 =\\xb7\\xbf\\x03r\\x08\\x1e\\x8a\\xe1\\xb5\\x11\\xba&\\xb9\\x9c\\x08\\xba\\x13\"\\xd1A\\xb4\\xd4-\\xab\\xc2j\\xe9\\x9d\\xfdH\\x9c\\xdf\\x1bh\\xbc\\xef\\x1d-M\\x15TRO\\x13\\x99\\x1c\\x84\\xe5q\\xe0\\xe0\\r\\x8a\\xf4\\xa6&\\xff\\x00q&]M\\x8d\\x82\\xe4_\\x88xd4Pa\\xf3\\xc0\\xd2\\xc16\\xa48\\x00Z\\xe6\\xde\\xf7\\xf3N2\\xc3\\xc7\\xec\\xaa\\xca\\xd3\\xdf\\xe8\\xdflv#\\xed\\xf8$\\x0es\\xb3I\\x18\\xdd\\xbf\\xbci\\x7f\\x11c\\xe2\\xaf\\x81\\\\\\xc3\\xf0\\xc7\\x11\\xcbU=\\x13\\x9d\\xf9\\x8d\\x0fo24?+y.\\x98\\xd2\\xbat\\xcb\\xca\\x08\\xf2\\xdc\\xba\\xff\\x00\\x1d\\xadz\\x1d\\ta6\\x12\\x81V\\x94!iA %\\x04\\x86\\x1a4H$34Jm\\xeeA\\xc54\\xf7)\\x95\\x89{\\x94i\\x1e\\x97#\\x94I^\\x80\\x13$\\x8a4\\x92!#\\xd4i\\x1e\\x80\\x16\\xe9\\x16C\\x10\\x91\\xd3b29\\xbdD\\x06\\x8e\\xd2\\xb4\\x92\\xc9\\x95\\xaew`%f\\xa2\\xf7m\\x92\\xad\\xdc^Ig\\xd4\\xac|\\xa9t\\x8e\\xb7\\xc6Cm\\x95\\xd8\\xa3\\xb7u\\x11F\\xde\\x10\\x90\\xe7s<O\\xa2\\xe8xT\\xaekb\\x91\\xbc\\x08\\x0b\\x9a\\xbco%\\x91\\xce\\xf1\\xf2[=\\x90\\xaem^\\x1c\\xd8\\xdc\\xee\\x9c}\\x13\\xe1\\xc3\\xe5e\\x96kGj\\x99}\\x99\\xb7\\xc5\\xab\\xb2\\xd1\\xc1\\x97[\\x92|x\\x05\\'\\x03\\xa6\\xc4k)\\xddQM-3\\x18\\xd2/\\xbd}\\x83\\x816\\xe08\\x0e\\xf5\\x9f\\xc6K\\xbf\\xe5\\xf7\\xcc\\xdf\\x8a\\x16?\\xc2\\xc3\\x8f\\x85\\xef\\xe0\\xb9{\\xf0\\xca\\xf9 |\\xd0@\\xf3\\x0b\\xb5poX\\x1a\\x8b\\x8e\\xb5\\x18G%\\xf3\\xb5\\xc5h\\xf4\\'\\xfcY\\xd4\\xb5\\xed\\xa0\\xabt%\\xe7@b\\x9306\\xe3\\xa7\\x10y\\x15&\\x98:\\x16:\\x1e\\xa68\\x86\\xf7_O\\x92\\xf3}\\x0b*\\xf0\\xacF\\x8e\\xa7t\\xe6H$ih\\xeb:\\xf0\\xf1\\x1ax\\xafI\\xc6:9\\x9d\\xc7\\xad+#\\x82\\x10\\xb3\\xc9u\\x867Q,q\\xe5\\xde\\xc8\"e\\xc5\\xdc\\xe2\\x00\\x1e%s\\r\\xba\\xc6(1\\xa9[I\\x87I\\xbee)u\\xe5\\x1a\\x82\\xe2E\\xc0=`[\\x8f\\x03u3\\xf1k\\x12o\\xb3\\xd1\\xe1-v\\xb3?{(\\xfe\\xd6\\xf0\\x07\\xbc\\x9b\\xf8\\x15\\x80\\xc2\\x9f\\xbbv_\\xbd\\x12Q\\xd7\\x90\\x9c\\xf6\\xe2Xl\\xedK\\xb0\\xec^\\x9a~\\x01\\x8e\\xb3\\xbb\\xaeA\\xf9.\\xdd\\x03\\xf373x\\x15\\xc4\\xdf\\x13z27\\x80\\x90\\x83\\xdc@+\\xa8\\xec\\x85w\\xb5\\xe1\\xadk\\xbf2\\x1e\\x83\\xbc\\x06\\x87\\xcb\\xd1l\\xe3Ox8\\xbf\\'V\\x94\\xcd\\x08)a6\\x12\\xc2\\xdaq\\x90\\xb0\\x94\\x12\\x02PH\\x98\\xa4\\x10A!\\x99G\\x14\\xc3\\xdc\\x94\\xe7&$*ecr9D\\x95\\xc9\\xd9\\\\\\xa2J\\xe4\\x00\\xcc\\x8eQ\\x9e\\xe4\\xe4\\xa5F\\x90\\xa4M!\\x8a\\xd7;\\xd9e\\xcb\\xc7)T\\xd5c\\xa3\\x1c-\\xe0\\x18\\xdfO\\xde\\xea\\xd2\\xb6]\\xdd,\\x8e\\xe5a\\xdeUS\\xbaNo\\xfe\\xb0<\\x87\\xefu\\x83\\x94\\xfe\\xc8\\xed|r\\xfa2\\xbe\\x95\\x99\\x9f#\\xbf\\xbf\\xe5d\\xfe\\xccU{\\x16,\\xe8\\x1c\\xeb6N\\x1d\\xe3\\xfcz%a\\x0c\\xdegoc\\x9a~aV\\xe2a\\xd4\\xd8\\xb3\\x8c}\\x172RZ{\\r\\xee\\xaa[\\xca7u\\x86u\\xfaS\\x1c\\x98t\\x91\\xcd\\xacnqk\\xc7\\'\\x0b\\x1f\\x91U[\\x17M\\xbb}M\\x05K\\x98d\\x85\\xcf\\x89\\xd7\\xeb\\xb7\\x03\\xe2,|Q\\xec\\xe5cq\\x1c:V\\xc7\\xc5\\xcc\\x06\\xdd\\x84q\\x1e\\x89t\\xd1RM.\\xfay%\\xa6\\xac\\x8d\\xa1\\x85\\xd1\\x90\\x04\\xcd\\x1c/pE\\xc7m\\x95px7\\xd7\\x151\\xca\\xbc\\x1e\\x9a\\xb3h\\xf06\\xe5\\x07+\\x8c\\xf2\\x01\\xfa[k_\\xff\\x00\\xa2>k\\xa2;\\xa2\\xc7x\\xac\\x9e\\xcd\\xd3\\xc3\\xedN\\x9e6\\xc8I\\xb6i^nl8\\x01\\xe2n\\xaf\\xb1Z\\x8d\\xdcOo\\xf6\\xdc\\xa8\\xd9,\\x8a\\xc8(\\xbc#\\x86mf(\\xecOj+\\xaast\\x18\\xfd\\xcc\\\\\\x9a\\xd3o\\x99\\xb9\\xf1P\\xf0\\xf0\\xe7;\\xa3\\xc7__\\xda\\xea\\x1c\\xe7\\xde\\xc8\\xe7q/$\\xf7\\x92O\\xd5N\\xc1\\x1c\\xd6\\xd65\\xae\\xeb6>_\\xee\\xaekF(\\xbd\\x97T\\xa3yK$|\\x83\\x87\\x7f\\x02\\xb4\\xfb\\x11]\\xbb\\xaflnv\\x92\\xf4Ox\\xbd\\xbe\\xf9\\x85@\"u5C\\x9b\\xd9q\\xde4#\\xf6N\\xe1r{6)\\x1b\\x9b\\xc36a\\xde\\x0e\\xa1F\\xb9bI\\x90\\xe4\\xc3\\xce\\xb6\\x8e\\xbc\\x12\\xc2f\\'fk]\\xda\\x01\\xf9\\'\\x02\\xeb\\x1eXp%\\x04\\x80\\x94\\x12$\\x85\\x84\\x11\\x04\\x103\\x1a\\xf2\\xa3\\xc8\\xe4\\xe3\\xca\\x8f!R 3+\\x94I\\\\\\x9e\\x95\\xca$\\x8eA$5#\\x94g\\x94\\xec\\x85FyPd\\xd1]\\x8c\\x97n\\x1b\\x97\\x807*\\xba\\x9a\\\\\\xd1;7\\x10\\x0f\\xce\\xe5\\\\\\xd5\\x06\\xba\\'f\\xd6\\xdcGhY\\xa69\\xcd\\x96X\\xdb\\xa8\\'\\xa3\\xcf\\xa9b\\xbe9gg\\x83<G\\x05\\xde\\xcb\\xc3\\xbc\\xa8\\x91\\xce\\xf8\\x01i?=<\\xae\\xa91\\xb3\\xbc\\xc5\\x1f\\x97\\xad\\xc5\\xc7\\xc4\\xab\\xfa7\\xb7\\x0c\\xc2\\xdf#\\xbe=\\\\\\xeed\\xf0\\x1e\\x03\\xd5f\\xe9\\x83\\xaa\\xea\\x1d#\\xb5$\\x95D^\\xdb7\\xc9i#I\\xb2\\xf5\\xd2a\\xd2\\xc53nY\\xfc\\xc3\\x97j\\xe94\\xaf\\xa0\\xab\\xcb<{\\xb3}m\\xa6\\x85s\\xdc&\\x9b+\\xa3k\\x9b\\xa1\\xb2\\xddP\\xe0\\xcd\\xc8\\xdc\\xad\\xb5\\xc7R\\xa1\\xcbf\\xa8i\\x17\\xd0U\\xd3B\\xce\\x8d\\xb3\\xff\\x00+G\\x12TlP\\xbb\\xd9ds\\xbe7\\x02O\\x92\\xae\\xa5\\x83s\\x8b6\\x1f\\xed\\xfa\\xab\\x1cE\\xae\\x91\\x925\\xbc\\x00#\\xc6\\xca\\x12\\x96F\\xce\\x11[\\x0b\\xa3\\x96V\\xff\\x00q\\xb7\\x9d\\xd2\\xa9\\xbe(\\xe4n\\x86\\xe0_\\xb0\\x8e\\x0bC\\x8faNk\\xe4sx\\xdc\\xf9\\xac\\xf5?\\xc4\\xf8]\\xd1\\xb8\\xb8\\xe4G\\xf8\\xba\\xd5\\ty#,\\xe1\\xe2\\xcd\\xab\\xff\\x00\\x8b\\xa0\\x82\\xb5\\xad\\xd7\\x83\\xc7a\\x1fdy(3\\x9d\\xcdCd\\xea$\\x10{\\x0f\\x03\\xe7\\xea\\xa5\\xec\\xac\\xf1\\xc9\\x9a\\x8a_\\x82\\xa1\\x97g\\xfa\\xc7\\x11\\xf7\\xd8\\x91_\\x13c\\xa7\\xdc\\xce\\xde\\x0f,\\'\\xb3\\xac}|\\xd5y\\xc3\\xc1),\\xa3\\xa6`u\\r\\xa9\\xc2\\xe9\\xa4k\\xb8\\xb0+\\x10W9\\xd8\\x9c{\\xd8%\\xff\\x00\\x87W\\xba\\xd1\\xbd\\xd6\\x89\\xe7\\x80=\\x84\\xf3]\\r\\xa5u\\xaa\\x9a\\x94O-\\xc9\\xa5\\xd7cLx\\x14\\xa0\\x9b\\x05,+\\n\\x03A\\x04\\x12\\x19\\x89\\x90\\xa8\\xb29;#\\x94Y\\n\\x90\\x86e*,\\x85=)W\\xfb9\\x80\\xc7R\\xc6\\xd4\\xd6\\xb78:\\xb2#\\xc0\\x8e\\xd3\\xdb\\xdc\\xa3)$\\x8b\\xab\\xad\\xcd\\xe1\\x19\\xeaL*\\xb6\\xbf\\xa5MN\\xf2\\xcf\\xd6t\\x1eg\\x8a\\x946R\\xbf\\xfa\\xce\\x89\\x9e$\\xfd\\x17HdMk\\x1a\\xd6\\xb4\\x00\\x05\\x80\\x1a\\x00\\x92\\xf8\\x16yX\\xd9\\xd0\\x87\\x1a+\\xbd\\x9c\\xb2\\xb3eg\\xe9\\x7f\\x12\\xfb\\xdb\\x80\\x00\\x0f\\xaa\\xcf\\x9c\\nJ)\\xf39\\xa4\\xeba\\xae\\x80\\xae\\xcf5\\x13]\\xfc\\xaa+\\xb0X$\\xcc\\xd9#\\x04\\x1d\\n\\xa6Ql\\xd9\\t(\\xe3G)\\xaa\\xc3[W\\x16\\xed\\xce9\\x06\\xb6\\x1dg\\x9a\\x8dG\\x86\\xb69wmj\\xe8\\xce\\xc0\\x9b\\rC\\xa1\\xa9\\x8c=\\x87\\xf2\\xdf\\xc0\\xb8s\\xb7Z?\\xf9b\\x9b\\xa4\\xe8${\\t\\xe7\\x7fU\\x89\\xb6\\xb4\\xce\\x9aQ{Fv*?\\xe07\\xedo\\xe5\\x90|.\\xba\\x16\\x08\\xc6\\xc9\\x04\\x12v\\xb2\\xea\\xba\\x8f\\x05\\x91\\xb4RRG\\x91\\xecx7\\'\\x8a\\xb6\\xd9\\xe8$\\xa2\\xa5\\x8e\\t\\xf8\\xc7v\\x83\\xda:\\x95m\\xec\\xb1\\xad\\x15\\xd2\\xc7\\xff\\x00Q\\xe6\\xfd\\x11\\x17\\x15`)\\xbf\\x85nn/\\xd4\\xf8\\xa6b\\x8f}\\x8aU\\xcc\\xde\\x01\\x81\\x80\\xf8\\xdc\\xfa+\\x072\\xa6H\\x9b\\xbb\\x8d\\x80u\\x12J\\x8f\\xb0k\\xa3\\x1b\\x8eaM\\x91\\xaf\\xca\\xddu\\\\\\xbf\\x14\\xa6\\xf6J\\xf6\\xbb/\\x07_\\xe6\\xbb\\xbc\\xb8D\\xd3~|\\xd6\\x1d\\x8c\\x16\\xf9\\x95\\x8e\\xdbm\\x96\\x86<:J\\x9ah\\xcf\\xbb=\\'\\x1dI\\xbe\\x9a+k\\xcad,q\\xc6\\xd9\\xcf\\xe8&u4\\xb26?\\x8e\\x17\\x99b\\xe6\\x07\\xc4<\\x96\\xbe\\xad\\x90\\xe2\\xb4[\\xce\\xa9X\\x03\\x88\\xea#P~\\xfb\\xba\\x96%\\xf9\\xa3\\x9e9\\xa3\\xf8\\xc5\\x9c\\xdezj<u\\xf3W\\xb85{h\\xa5\\x8e7:\\xf4\\xb2\\x8b\\xb0\\xf2&\\xf6\\xef\\x06\\xff\\x00>\\xd59\\xafh\\xaa?\\xa1Pa\\xd5\\xb0\\xb5\\xd1\\xee\\xfd\\xa6\\x17\\r\\x08\\x04\\x9b_B\\x08\\xe0|\\x16\\xd3g\\xb1\\xcd\\xdd,T\\xd5\\xb1\\xca$h\\xb6scp8^\\xdc\\x94L<\\xb6\\x1a\\x8fv\\xe2C\\xba@\\x10\\x1c<8\\x1fU\\xa3\\x18|\\x18\\x9d>Y\\xe3\\x89\\xff\\x00\\xdc\\xc6\\x9b\\x83\\xe0n\\n\\x95W\\xca/F~O\\x16\\x16Ge\\x842\\xb6F\\xb5\\xd1\\xbb0=i\\xe0U\\r4S\\xe0\\xf5\\x8d\\xa6\\x91\\xdb\\xcai\\x7f-\\xe4\\xde\\xc7\\xb0\\xab\\xc6\\x95\\xd4\\xae~k\\'\\x9c\\xbe\\xaf\\xc5,\\x0bF\\x8a\\xe8+\\n\\x8c\\x0c\\x8eQervG(\\xb290H\\x113}<q\\xfe\\xb7\\x00{\\xba\\xd7D\\xc3\\x07\\xbaky,\\x0e\\x12\\xdd\\xe5{y\\x02~\\x9fU\\xbb\\xa2\\x0e\\xdd5\\xcd\\xfb+=\\xafgK\\x89\\x1f\\xabe\\x9bR\\xcbTX\\xe7\\xcd\\xf1hT\\x96\\xb9Tl\\x01b,\\x89\\xd0\\x8e\\xc8\\x18\\xc4\\x90\\xc7#2\\xc8\\xdb\\x8fC\\xda\\xa1\\xbf\\x0f\\x91\\xbf\\x92\\xec\\xe3\\xb3\\x81\\xff\\x00*\\xcc5\\x1eU\\\\\\xa0\\xa5\\xd9d,\\x94: S\\x07F\\xfe\\x93KO1e$\\xb5\\xb2)-K\\xcb\\xdd\\xe4\\x15N\\x8c\\xfb/\\\\\\xaf\\xe0\\x84\\xc8c\\x8d\\xb9[f\\xddHc]\\x97+Z}\\x13\\xe0%\\x04F\\x84\\x85.K~\\x86[\\x0eo\\xccw\\x80\\xfd\\xd5v\\xd4B\\xd90:\\xb8\\xf2\\xff\\x00L\\xdb\\xc9\\\\*\\xfcw\\xfe\\xdb?\\xfa\\x0f\\xa2\\xb7\\xc5%\\xa2\\x97\\'\\'\\xb3\\xcfUQ\\xb9\\xac\\xcc\\xde1\\xd8\\x8e\\xfb\\xf0\\xf2R\\xe8\\xa3\\x8e\\xa6\\'B\\xed#y%\\x87\\xad\\x8e\\xeb\\x1fT\\xd5p\\xdd\\xbeL\\xdf\\xd9\\xea\\xa4\\xe0qo%\\xa9\\x8f\\x90u\\xbe\\xfcVV\\xfe\\xa6\\xe5\\xd9;\\r\\xae\\x9a\\x89\\xde\\xc9\\x88\\xb4\\x98\\xd8n\\x1e\\xde-\\xe6>\\xa3\\xfd\\x97@\\xc2\\x1e\\xed\\xd4rG \\x99\\x87\\x83\\x9b\\xf7\\xa7\\x86\\x8b\\x1bN\\xc8\\xeasCR\\xdb\\xbe=\\t?\\xce\\xd28\\xf9-\\x0e\\xc3\\xd2I\\x0cS\\xc3\\xbc7\\xa7\\x90\\xb4f\\xd49\\xa7Q\\xf5\\xf9*\\xe3\\xb6\\x13\\xd24\\xb8\\x81l\\x91G\\xbc\\xea{M\\xce\\x84j<\\xd3\\xcdK\\xaa\\x8f}A+\\\\\\xdc\\xa46\\xe3\\x95\\xb5\\xfa& vh\\x9b\\xdc\\xba\\xbcg\\xac\\x1es\\xe4\\x17\\xdd1\\xf4\\x12B\\x0bI\\x80\\xe7R9E\\x91\\xc9\\xd9\\x1c\\xa3H\\xe42h\\xbc\\xd9JWM=L\\x9f\\xca\\xc6\\x80;\\xc9\\xff\\x00\\x0b[F\\xfd\\xdf\\xbcw\\xc1\\xf0\\xcc\\xdf\\xd0{{\\x96of\\xf1\\\\:\\x8a\\x8d\\xb0\\xc98\\x8eg\\xba\\xef/\\x16\\x17\\'Mxv-la\\xae\\xcb4v\\xb9\\x16=a\\xe3\\x9a\\xcb7\\xb3\\xab\\xc7IA\\x0c\\xe2\\x1e\\xe7\\xde7\\x80\\xd7\\xbc\\'\\xe0\\x9f6^j.#\\x1b\\x9bG$m\\xfc\\xbb\\x1c\\x87\\xad\\x87\\xb0\\xf2\\xf4UT\\x15\\xd9\\x9c\\xd6\\xf6\\rGaQ.5\\xacrp(T\\xb2fb\\x9a\\xd4\\x12B\\x9a\\x12\\x80@%$04%\\x84A\\x1a@\\x1a4A( `P\\xb1ff\\xa3\\x95\\xbd\\xad>\\x8ajj\\xa1\\x99\\xa2s{AC\\x03\\xcf\\xbbG\\x03\\xa3l\\xeeo\\x1c\\xd6\\xf2\\xd7\\xe8\\xa5l?\\xbc\\xc6b\\x85\\xdc%i\\r\\xe7\\xa1 |\\x8f\\x9a\\xd0\\xedn\\t#\\x99S\\x95\\xba\\x0e\\x97\\x99*\\x97c0\\xba\\x97USM\\x1bM\\xe1\\x91\\xa7K\\xf2\\xbf\\xaa\\xc6\\xb4\\xb0no;48\\x9e\\x1b\\xec\\x95\\xeco\\r\\xe3Hi\\xe65\\x1e<|\\x82\\xb6\\xd8\\x92\\xe9\\x1d.n6\\x01\\xc3\\x986\\xb7\\xaa\\x93\\xb6Q\\xb6:Zi:\\xe3\\x9d\\xa4\\x1eG\\x8f\\xd57\\xb1Q\\xbb\\x7fV\\xee\\xa13\\xc7\\x99\\xbaJ8\\xb1\"2\\x9f\\x95y5\\x8f\\x8b3\\x1d\\xcc\\x11\\xe0B\\xaa\\x88ecZ\\xaf\\x01k[\\x99\\xce\\x00v\\x9d\\x02\\xa6\\x93.\\xf5\\xd9u\\x176<\\x97N\\x8fg\\x07\\x9f\\xe80\\x82M\\xd0Z\\x0eq\\xcd$r\\x8b#\\x90A&Z\\x88\\xf3\\x1ft\\xef\\x0fU\\xa2\\xd9\\xda\\x89\\xa9\\x98\\xdd\\xc4\\xcf\\x8c~\\x90n<\\x8e\\x88 \\xb9\\x9c\\xc95%\\x83\\xbf\\xf1qR\\xa5\\xe7\\xf6k\\x99\\x89f\\x8b\\xdf\\xc68|L\\xfd\\xbf\\xdddw\\xdb\\xbczV\\xc0\\xe0a{sh~\\x12\\r\\xb8x\\xfa \\x82UY)v[}q\\x8fF\\xd3\\x0b\\x91\\xcekU\\xccE\\x04\\x16\\x932$4\\xa5\\x04\\x10H\\x90h]\\x04\\x10\\x01\\xdd\\x1a\\x08$0\\xee\\x85\\xd0A\\x00W\\xd4a\\xb1\\xd4\\xb2F\\xc8\\xdf\\x8f\\xef\\xea\\x98\\xc30Zl9\\xd2:\\x18\\xecO\\x1e\\xff\\x00\\xb2\\x82\\n>(nL\\xc8m\\x96\"\\xda\\x9cF*F\\xbb\\xdd\\xc5&yOp\\xe1\\xf7\\xc9Xl\\xf4\\xf3Sa\\xde\\xee0$\\x95\\xc5\\xees\\xba\\xaet\\xb0\\xeeA\\x05\\x8e\\xc95=\\x1b+\\x8a\\x94\\x16EFf\\x93\\x11\\xdeM4\\x92\\x10\\xc3\\xf1\\x13a\\xa8\\x1a\\x0e\\x01X\\x82\\x82\\x0b\\xa5\\xc2\\xdd{8\\x1f\\'\\xff\\x00w\\xfd \\xee\\x82\\x08-G8\\xff\\xd9'}\n"
          ]
        }
      ]
    },
    {
      "cell_type": "code",
      "source": [
        "!pip install mediapipe\n"
      ],
      "metadata": {
        "colab": {
          "base_uri": "https://localhost:8080/"
        },
        "id": "6q13ciW8sTWt",
        "outputId": "f576d170-32d0-43fe-c2d1-f22048f4796c"
      },
      "execution_count": 13,
      "outputs": [
        {
          "output_type": "stream",
          "name": "stdout",
          "text": [
            "Collecting mediapipe\n",
            "  Downloading mediapipe-0.10.21-cp311-cp311-manylinux_2_28_x86_64.whl.metadata (9.7 kB)\n",
            "Requirement already satisfied: absl-py in /usr/local/lib/python3.11/dist-packages (from mediapipe) (1.4.0)\n",
            "Requirement already satisfied: attrs>=19.1.0 in /usr/local/lib/python3.11/dist-packages (from mediapipe) (25.3.0)\n",
            "Requirement already satisfied: flatbuffers>=2.0 in /usr/local/lib/python3.11/dist-packages (from mediapipe) (25.2.10)\n",
            "Requirement already satisfied: jax in /usr/local/lib/python3.11/dist-packages (from mediapipe) (0.5.2)\n",
            "Requirement already satisfied: jaxlib in /usr/local/lib/python3.11/dist-packages (from mediapipe) (0.5.1)\n",
            "Requirement already satisfied: matplotlib in /usr/local/lib/python3.11/dist-packages (from mediapipe) (3.10.0)\n",
            "Requirement already satisfied: numpy<2 in /usr/local/lib/python3.11/dist-packages (from mediapipe) (1.26.4)\n",
            "Requirement already satisfied: opencv-contrib-python in /usr/local/lib/python3.11/dist-packages (from mediapipe) (4.11.0.86)\n",
            "Collecting protobuf<5,>=4.25.3 (from mediapipe)\n",
            "  Downloading protobuf-4.25.6-cp37-abi3-manylinux2014_x86_64.whl.metadata (541 bytes)\n",
            "Collecting sounddevice>=0.4.4 (from mediapipe)\n",
            "  Downloading sounddevice-0.5.1-py3-none-any.whl.metadata (1.4 kB)\n",
            "Requirement already satisfied: sentencepiece in /usr/local/lib/python3.11/dist-packages (from mediapipe) (0.2.0)\n",
            "Requirement already satisfied: CFFI>=1.0 in /usr/local/lib/python3.11/dist-packages (from sounddevice>=0.4.4->mediapipe) (1.17.1)\n",
            "Requirement already satisfied: ml_dtypes>=0.4.0 in /usr/local/lib/python3.11/dist-packages (from jax->mediapipe) (0.4.1)\n",
            "Requirement already satisfied: opt_einsum in /usr/local/lib/python3.11/dist-packages (from jax->mediapipe) (3.4.0)\n",
            "Requirement already satisfied: scipy>=1.11.1 in /usr/local/lib/python3.11/dist-packages (from jax->mediapipe) (1.11.4)\n",
            "Requirement already satisfied: contourpy>=1.0.1 in /usr/local/lib/python3.11/dist-packages (from matplotlib->mediapipe) (1.3.1)\n",
            "Requirement already satisfied: cycler>=0.10 in /usr/local/lib/python3.11/dist-packages (from matplotlib->mediapipe) (0.12.1)\n",
            "Requirement already satisfied: fonttools>=4.22.0 in /usr/local/lib/python3.11/dist-packages (from matplotlib->mediapipe) (4.57.0)\n",
            "Requirement already satisfied: kiwisolver>=1.3.1 in /usr/local/lib/python3.11/dist-packages (from matplotlib->mediapipe) (1.4.8)\n",
            "Requirement already satisfied: packaging>=20.0 in /usr/local/lib/python3.11/dist-packages (from matplotlib->mediapipe) (24.2)\n",
            "Requirement already satisfied: pillow>=8 in /usr/local/lib/python3.11/dist-packages (from matplotlib->mediapipe) (11.1.0)\n",
            "Requirement already satisfied: pyparsing>=2.3.1 in /usr/local/lib/python3.11/dist-packages (from matplotlib->mediapipe) (3.2.3)\n",
            "Requirement already satisfied: python-dateutil>=2.7 in /usr/local/lib/python3.11/dist-packages (from matplotlib->mediapipe) (2.8.2)\n",
            "Requirement already satisfied: pycparser in /usr/local/lib/python3.11/dist-packages (from CFFI>=1.0->sounddevice>=0.4.4->mediapipe) (2.22)\n",
            "Requirement already satisfied: six>=1.5 in /usr/local/lib/python3.11/dist-packages (from python-dateutil>=2.7->matplotlib->mediapipe) (1.17.0)\n",
            "Downloading mediapipe-0.10.21-cp311-cp311-manylinux_2_28_x86_64.whl (35.6 MB)\n",
            "\u001b[2K   \u001b[90m━━━━━━━━━━━━━━━━━━━━━━━━━━━━━━━━━━━━━━━━\u001b[0m \u001b[32m35.6/35.6 MB\u001b[0m \u001b[31m33.1 MB/s\u001b[0m eta \u001b[36m0:00:00\u001b[0m\n",
            "\u001b[?25hDownloading protobuf-4.25.6-cp37-abi3-manylinux2014_x86_64.whl (294 kB)\n",
            "\u001b[2K   \u001b[90m━━━━━━━━━━━━━━━━━━━━━━━━━━━━━━━━━━━━━━━━\u001b[0m \u001b[32m294.6/294.6 kB\u001b[0m \u001b[31m22.0 MB/s\u001b[0m eta \u001b[36m0:00:00\u001b[0m\n",
            "\u001b[?25hDownloading sounddevice-0.5.1-py3-none-any.whl (32 kB)\n",
            "Installing collected packages: protobuf, sounddevice, mediapipe\n",
            "  Attempting uninstall: protobuf\n",
            "    Found existing installation: protobuf 5.29.4\n",
            "    Uninstalling protobuf-5.29.4:\n",
            "      Successfully uninstalled protobuf-5.29.4\n",
            "\u001b[31mERROR: pip's dependency resolver does not currently take into account all the packages that are installed. This behaviour is the source of the following dependency conflicts.\n",
            "grpcio-status 1.71.0 requires protobuf<6.0dev,>=5.26.1, but you have protobuf 4.25.6 which is incompatible.\u001b[0m\u001b[31m\n",
            "\u001b[0mSuccessfully installed mediapipe-0.10.21 protobuf-4.25.6 sounddevice-0.5.1\n"
          ]
        }
      ]
    },
    {
      "cell_type": "code",
      "source": [
        "import mediapipe as mp\n",
        "import numpy as np\n",
        "\n",
        "# Eye landmarks index (Mediapipe FaceMesh)\n",
        "LEFT_EYE = [33, 160, 158, 133, 153, 144]\n",
        "RIGHT_EYE = [362, 385, 387, 263, 373, 380]\n",
        "\n",
        "# Calculate EAR\n",
        "def calculate_ear(eye_landmarks):\n",
        "    # Vertical distances\n",
        "    A = np.linalg.norm(eye_landmarks[1] - eye_landmarks[5])\n",
        "    B = np.linalg.norm(eye_landmarks[2] - eye_landmarks[4])\n",
        "    # Horizontal distance\n",
        "    C = np.linalg.norm(eye_landmarks[0] - eye_landmarks[3])\n",
        "    ear = (A + B) / (2.0 * C)\n",
        "    return ear\n"
      ],
      "metadata": {
        "id": "FkKwDcPVsk4t"
      },
      "execution_count": 14,
      "outputs": []
    },
    {
      "cell_type": "code",
      "source": [
        "mp_face_mesh = mp.solutions.face_mesh\n",
        "\n",
        "# Load and process image\n",
        "image = cv2.imread(image_path)\n",
        "image_rgb = cv2.cvtColor(image, cv2.COLOR_BGR2RGB)\n",
        "\n",
        "# Detect facial landmarks\n",
        "with mp_face_mesh.FaceMesh(static_image_mode=True, max_num_faces=1) as face_mesh:\n",
        "    results = face_mesh.process(image_rgb)\n",
        "\n",
        "    if results.multi_face_landmarks:\n",
        "        face_landmarks = results.multi_face_landmarks[0]\n",
        "        h, w, _ = image.shape\n",
        "\n",
        "        left_eye = []\n",
        "        right_eye = []\n",
        "\n",
        "        for idx in LEFT_EYE:\n",
        "            x = int(face_landmarks.landmark[idx].x * w)\n",
        "            y = int(face_landmarks.landmark[idx].y * h)\n",
        "            left_eye.append(np.array([x, y]))\n",
        "\n",
        "        for idx in RIGHT_EYE:\n",
        "            x = int(face_landmarks.landmark[idx].x * w)\n",
        "            y = int(face_landmarks.landmark[idx].y * h)\n",
        "            right_eye.append(np.array([x, y]))\n",
        "\n",
        "        left_ear = calculate_ear(np.array(left_eye))\n",
        "        right_ear = calculate_ear(np.array(right_eye))\n",
        "        avg_ear = (left_ear + right_ear) / 2.0\n",
        "\n",
        "        # Threshold for drowsiness\n",
        "        EAR_THRESHOLD = 0.25\n",
        "\n",
        "        if avg_ear < EAR_THRESHOLD:\n",
        "            print(\"😴 Drowsy: Eyes are closed\")\n",
        "        else:\n",
        "            print(\"🙂 Alert: Eyes are open\")\n",
        "    else:\n",
        "        print(\"No face detected.\")\n"
      ],
      "metadata": {
        "colab": {
          "base_uri": "https://localhost:8080/"
        },
        "id": "Qv8oNOFctKZz",
        "outputId": "edf1da19-bda2-4889-c1bf-cf1030ed9b06"
      },
      "execution_count": 15,
      "outputs": [
        {
          "output_type": "stream",
          "name": "stdout",
          "text": [
            "😴 Drowsy: Eyes are closed\n"
          ]
        }
      ]
    },
    {
      "cell_type": "code",
      "source": [
        "# Inner lip landmarks from Mediapipe FaceMesh\n",
        "MOUTH_LANDMARKS = [13, 14, 78, 308, 82, 312]  # [top, bottom, left, right, upper-left, upper-right]\n"
      ],
      "metadata": {
        "id": "8agzvjmCue-7"
      },
      "execution_count": 16,
      "outputs": []
    },
    {
      "cell_type": "code",
      "source": [
        "def calculate_mar(landmarks):\n",
        "    # Vertical: top (13) to bottom (14)\n",
        "    A = np.linalg.norm(landmarks[0] - landmarks[1])\n",
        "    # Horizontal: left (78) to right (308)\n",
        "    B = np.linalg.norm(landmarks[2] - landmarks[3])\n",
        "    mar = A / B\n",
        "    return mar\n"
      ],
      "metadata": {
        "id": "Ka8_T6uiu4a8"
      },
      "execution_count": 17,
      "outputs": []
    },
    {
      "cell_type": "code",
      "source": [
        "        # Get mouth landmarks\n",
        "        mouth = []\n",
        "        for idx in MOUTH_LANDMARKS:\n",
        "            x = int(face_landmarks.landmark[idx].x * w)\n",
        "            y = int(face_landmarks.landmark[idx].y * h)\n",
        "            mouth.append(np.array([x, y]))\n",
        "\n",
        "        mar = calculate_mar(mouth)\n",
        "\n",
        "        # Threshold for yawn\n",
        "        MAR_THRESHOLD = 0.6\n",
        "\n",
        "        # Final analysis\n",
        "        if avg_ear < EAR_THRESHOLD and mar > MAR_THRESHOLD:\n",
        "            print(\"😴 Drowsy: Eyes closed + Yawning detected\")\n",
        "        elif avg_ear < EAR_THRESHOLD:\n",
        "            print(\"😐 Warning: Eyes closed\")\n",
        "        elif mar > MAR_THRESHOLD:\n",
        "            print(\"😮 Yawning detected\")\n",
        "        else:\n",
        "            print(\"🙂 Alert: Eyes open and no yawning\")\n"
      ],
      "metadata": {
        "colab": {
          "base_uri": "https://localhost:8080/"
        },
        "id": "RxPO30SFvQu3",
        "outputId": "94394ebd-8507-478a-8a32-6295729b2267"
      },
      "execution_count": 18,
      "outputs": [
        {
          "output_type": "stream",
          "name": "stdout",
          "text": [
            "😴 Drowsy: Eyes closed + Yawning detected\n"
          ]
        }
      ]
    },
    {
      "cell_type": "code",
      "source": [
        "# Define 3D model points of face landmarks (nose, eyes, chin)\n",
        "model_points = np.array([\n",
        "    (0.0, 0.0, 0.0),             # Nose tip\n",
        "    (0.0, -330.0, -65.0),        # Chin\n",
        "    (-225.0, 170.0, -135.0),     # Left eye left corner\n",
        "    (225.0, 170.0, -135.0),      # Right eye right corner\n",
        "    (-150.0, -150.0, -125.0),    # Left mouth corner\n",
        "    (150.0, -150.0, -125.0)      # Right mouth corner\n",
        "], dtype=np.float64)\n",
        "\n",
        "# Get 2D points from face landmarks\n",
        "image_points = np.array([\n",
        "    (face_landmarks.landmark[1].x * w, face_landmarks.landmark[1].y * h),   # Nose tip\n",
        "    (face_landmarks.landmark[152].x * w, face_landmarks.landmark[152].y * h), # Chin\n",
        "    (face_landmarks.landmark[33].x * w, face_landmarks.landmark[33].y * h),   # Left eye\n",
        "    (face_landmarks.landmark[263].x * w, face_landmarks.landmark[263].y * h), # Right eye\n",
        "    (face_landmarks.landmark[61].x * w, face_landmarks.landmark[61].y * h),   # Left mouth\n",
        "    (face_landmarks.landmark[291].x * w, face_landmarks.landmark[291].y * h), # Right mouth\n",
        "], dtype=np.float64)\n",
        "\n",
        "# Camera matrix and distortion\n",
        "focal_length = w\n",
        "center = (w / 2, h / 2)\n",
        "camera_matrix = np.array([\n",
        "    [focal_length, 0, center[0]],\n",
        "    [0, focal_length, center[1]],\n",
        "    [0, 0, 1]\n",
        "], dtype=\"double\")\n",
        "\n",
        "dist_coeffs = np.zeros((4, 1))  # Assume no lens distortion\n",
        "\n",
        "# Solve for head pose\n",
        "_, rotation_vector, translation_vector = cv2.solvePnP(\n",
        "    model_points, image_points, camera_matrix, dist_coeffs)\n",
        "\n",
        "# Get angles\n",
        "rmat, _ = cv2.Rodrigues(rotation_vector)\n",
        "angles, _, _, _, _, _ = cv2.RQDecomp3x3(rmat)\n",
        "\n",
        "pitch, yaw, roll = angles\n",
        "\n",
        "if abs(pitch) > 15:\n",
        "    print(\"⚠️ Head tilted down - possible drowsiness\")\n",
        "elif abs(yaw) > 20:\n",
        "    print(\"👀 Looking away\")\n"
      ],
      "metadata": {
        "colab": {
          "base_uri": "https://localhost:8080/"
        },
        "id": "OypX2GY4wYvS",
        "outputId": "d4a04a34-d97d-4c51-e5fa-3dd404ed5d82"
      },
      "execution_count": 19,
      "outputs": [
        {
          "output_type": "stream",
          "name": "stdout",
          "text": [
            "⚠️ Head tilted down - possible drowsiness\n"
          ]
        }
      ]
    }
  ],
  "metadata": {
    "colab": {
      "provenance": [],
      "authorship_tag": "ABX9TyOMtxz1xpsxSAPckbkPnuwJ",
      "include_colab_link": true
    },
    "kernelspec": {
      "display_name": "Python 3",
      "name": "python3"
    },
    "language_info": {
      "name": "python"
    }
  },
  "nbformat": 4,
  "nbformat_minor": 0
}